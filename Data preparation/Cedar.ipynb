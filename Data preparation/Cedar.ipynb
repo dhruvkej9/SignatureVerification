{
  "cells": [
    {
      "cell_type": "code",
      "execution_count": null,
      "id": "65ff8d12-97be-4cbe-be7e-a6f382d6cff4",
      "metadata": {
        "id": "65ff8d12-97be-4cbe-be7e-a6f382d6cff4"
      },
      "outputs": [],
      "source": [
        "import h5py\n",
        "import numpy as np\n",
        "from numpy import zeros, ones, asarray, concatenate, array, asarray, pad\n",
        "import os, sys\n",
        "from PIL import Image, ImageOps\n",
        "import cv2\n",
        "import seaborn as sns\n",
        "from h5py import File\n",
        "from math import ceil, floor"
      ]
    },
    {
      "cell_type": "code",
      "source": [
        "from google.colab import drive\n",
        "drive.mount('/content/drive')"
      ],
      "metadata": {
        "id": "kQodgKJDvqnI",
        "colab": {
          "base_uri": "https://localhost:8080/"
        },
        "outputId": "016ba094-0773-4566-dd08-e3aee45cb2b0"
      },
      "id": "kQodgKJDvqnI",
      "execution_count": null,
      "outputs": [
        {
          "output_type": "stream",
          "name": "stdout",
          "text": [
            "Drive already mounted at /content/drive; to attempt to forcibly remount, call drive.mount(\"/content/drive\", force_remount=True).\n"
          ]
        }
      ]
    },
    {
      "cell_type": "code",
      "execution_count": null,
      "id": "75fa50d0",
      "metadata": {
        "id": "75fa50d0"
      },
      "outputs": [],
      "source": [
        "def process_image(im, img_dim):\n",
        "    w_new, h_new = img_dim\n",
        "    im = im.convert('L')\n",
        "    im = ImageOps.invert(im)\n",
        "    w, h = im.size\n",
        "    w_prime = min(w_new, w * h_new // h)\n",
        "    h_prime = h * w_prime // w\n",
        "    im = im.resize((w_prime, h_prime))\n",
        "    img = asarray(im)\n",
        "    top = floor((h_new - h_prime) / 2)\n",
        "    bottom = ceil((h_new - h_prime) / 2)\n",
        "    left = floor((w_new - w_prime) / 2)\n",
        "    right = ceil((w_new - w_prime) / 2)\n",
        "    img = pad(img, ((top, bottom), (left, right)))\n",
        "    img = img.reshape(img.shape[0], img.shape[1], 1)\n",
        "    return img"
      ]
    },
    {
      "cell_type": "code",
      "source": [
        "def process_batch(X, Y, L, img_dim, Dir, i, value):\n",
        "    for infile in os.listdir(Dir):\n",
        "        file = os.path.join(Dir, infile)\n",
        "        try:\n",
        "            with Image.open(file) as im:\n",
        "                X[i] = process_image(im, img_dim)\n",
        "                Y[i] = value\n",
        "                L[i] = infile.split('_')[1]\n",
        "                i = i + 1\n",
        "        except Exception as ex:\n",
        "            template = \"An exception of type {0} occurred. Arguments:\\n{1!r}\"\n",
        "            message = template.format(type(ex).__name__, ex.args)\n",
        "            print(message)"
      ],
      "metadata": {
        "id": "dFJqdBfrA6oO"
      },
      "id": "dFJqdBfrA6oO",
      "execution_count": null,
      "outputs": []
    },
    {
      "cell_type": "code",
      "source": [
        "img_dim = (224,224)\n",
        "m = 2640"
      ],
      "metadata": {
        "id": "zIAsNq20Axlt"
      },
      "id": "zIAsNq20Axlt",
      "execution_count": null,
      "outputs": []
    },
    {
      "cell_type": "code",
      "execution_count": null,
      "id": "37a44c2a-bc5e-447a-917b-be6a4c34b1b2",
      "metadata": {
        "id": "37a44c2a-bc5e-447a-917b-be6a4c34b1b2",
        "colab": {
          "base_uri": "https://localhost:8080/"
        },
        "outputId": "158f8daf-849c-4fb7-d89d-6789f826de89"
      },
      "outputs": [
        {
          "output_type": "stream",
          "name": "stdout",
          "text": [
            "cedar_224x224.h5\n"
          ]
        }
      ],
      "source": [
        "X = zeros((m,224,224, 1), dtype = np.uint8)\n",
        "Y = zeros((m, 1), dtype = np.uint8)\n",
        "L = zeros((m, 1), dtype = np.uint8)\n",
        "BASE_DIR = os.getcwd()\n",
        "i = 0\n",
        "Dir = '/content/drive/MyDrive/CedarDataset/full_org'\n",
        "process_batch(X, Y, L, img_dim, Dir, i, 1)\n",
        "i = 1320\n",
        "Dir = '/content/drive/MyDrive/CedarDataset/full_forg'\n",
        "process_batch(X, Y, L, img_dim, Dir, i, 0)\n",
        "i = 2640\n",
        "outfile = 'cedar_'+str(img_dim[0])+'x'+str(img_dim[1])+'.h5'\n",
        "print(outfile)\n",
        "file = os.path.join(BASE_DIR, outfile)\n",
        "with File(outfile, 'w') as hdf:\n",
        "    hdf.create_dataset('X', data = X)\n",
        "    hdf.create_dataset('Y', data = Y)\n",
        "    hdf.create_dataset('L', data = L)"
      ]
    },
    {
      "cell_type": "code",
      "source": [
        "def xor(x, y):\n",
        "    z = x ^ y\n",
        "    return z"
      ],
      "metadata": {
        "id": "wkbmD_rLKrTe"
      },
      "id": "wkbmD_rLKrTe",
      "execution_count": null,
      "outputs": []
    },
    {
      "cell_type": "code",
      "source": [
        "img_dim = (224,224)\n",
        "m = 2640\n",
        "BASE_DIR = os.getcwd()\n",
        "infile = 'cedar_'+str(img_dim[0])+'x'+str(img_dim[1])+'.h5'\n",
        "file = os.path.join(BASE_DIR, infile)\n",
        "with File(file, 'r') as hdf:\n",
        "    X = array(hdf.get('X'))\n",
        "    Y = array(hdf.get('Y'))\n",
        "    L = array(hdf.get('L'))\n",
        "writers = list()\n",
        "for i in L.squeeze():\n",
        "    if i not in writers:\n",
        "        writers.append(i)\n",
        "print(writers)"
      ],
      "metadata": {
        "id": "GV8SW6dTKrVr",
        "colab": {
          "base_uri": "https://localhost:8080/"
        },
        "outputId": "9691a458-ec15-4717-c12c-ada7f8df985f"
      },
      "id": "GV8SW6dTKrVr",
      "execution_count": null,
      "outputs": [
        {
          "output_type": "stream",
          "name": "stdout",
          "text": [
            "[30, 25, 23, 24, 19, 1, 27, 2, 29, 28, 18, 21, 26, 20, 22, 40, 36, 37, 3, 35, 39, 38, 33, 32, 31, 34, 47, 48, 41, 45, 49, 44, 4, 43, 42, 46, 50, 5, 55, 6, 53, 52, 51, 54, 7, 8, 9, 17, 14, 15, 13, 12, 11, 10, 16]\n"
          ]
        }
      ]
    },
    {
      "cell_type": "code",
      "source": [
        "n_writers = len(writers)\n",
        "print(n_writers)\n",
        "n_original = int(Y.sum() // n_writers)\n",
        "print(n_original)\n",
        "n_forged = int(len(Y.squeeze()) // n_writers - n_original)\n",
        "print(n_forged)\n",
        "m = int(n_writers * (n_original * n_forged + n_original * (n_original - 1) // 2))\n",
        "print(m)"
      ],
      "metadata": {
        "id": "scBgL7CFKzPb",
        "colab": {
          "base_uri": "https://localhost:8080/"
        },
        "outputId": "6076ccca-04da-41d6-e865-3960329d63eb"
      },
      "id": "scBgL7CFKzPb",
      "execution_count": null,
      "outputs": [
        {
          "output_type": "stream",
          "name": "stdout",
          "text": [
            "55\n",
            "24\n",
            "24\n",
            "46860\n"
          ]
        }
      ]
    },
    {
      "cell_type": "code",
      "execution_count": null,
      "id": "9abdb57d-d9a2-47d6-acb0-1aeaf7d869e1",
      "metadata": {
        "id": "9abdb57d-d9a2-47d6-acb0-1aeaf7d869e1",
        "colab": {
          "base_uri": "https://localhost:8080/"
        },
        "outputId": "67e7b086-d8f8-4b73-b351-5bef34f606dc"
      },
      "outputs": [
        {
          "output_type": "stream",
          "name": "stdout",
          "text": [
            "/content/drive/MyDrive/CedarDataset/cedar_224x224_siamese.h5\n"
          ]
        }
      ],
      "source": [
        "S1 = np.zeros((m, X.shape[1], X.shape[2], X.shape[3]), dtype = np.uint8)\n",
        "S2 = np.zeros((m, X.shape[1], X.shape[2], X.shape[3]), dtype = np.uint8)\n",
        "y = np.zeros((m, 1), dtype = np.uint8)\n",
        "w = np.zeros((m, 1), dtype = np.uint8)\n",
        "l = 0\n",
        "for writer in writers:\n",
        "    ind = np.where(L.squeeze() == writer)\n",
        "    if len(ind) != 1:\n",
        "        print('Error')\n",
        "    for i in ind[0]:\n",
        "        for j in ind[0]:\n",
        "            if i <= j:\n",
        "                continue\n",
        "            if Y.squeeze()[i] == 0 and Y.squeeze()[j] == 0:\n",
        "                continue\n",
        "            S1[l] = X[i]\n",
        "            S2[l] = X[j]\n",
        "            y[l] = xor(Y[i], Y[j])\n",
        "            w[l][0] = writer\n",
        "            l = l + 1\n",
        "outfile = '/content/drive/MyDrive/CedarDataset/'+'cedar_'+str(img_dim[0])+'x'+str(img_dim[1])+'_siamese.h5'\n",
        "print(outfile)\n",
        "# file =\n",
        "with File(outfile, 'w') as hdf:\n",
        "    hdf.create_dataset('S1', data = S1)\n",
        "    hdf.create_dataset('S2', data = S2)\n",
        "    hdf.create_dataset('Y',   data =   y)\n",
        "    hdf.create_dataset('L',   data =   w)"
      ]
    },
    {
      "cell_type": "code",
      "source": [
        "ax = sns.countplot(x = y.reshape(y.shape[0]))\n",
        "for p in ax.patches:\n",
        "   ax.annotate('{:}'.format(p.get_height()), (p.get_x()+0.25, p.get_height()+0.01))"
      ],
      "metadata": {
        "colab": {
          "base_uri": "https://localhost:8080/",
          "height": 430
        },
        "id": "t6cEx1172SZv",
        "outputId": "2025ab16-be4a-48ed-bcc9-35d80b5fc972"
      },
      "id": "t6cEx1172SZv",
      "execution_count": null,
      "outputs": [
        {
          "output_type": "display_data",
          "data": {
            "text/plain": [
              "<Figure size 640x480 with 1 Axes>"
            ],
            "image/png": "[encoded data removed]"
          },
          "metadata": {}
        }
      ]
    }
  ],
  "metadata": {
    "kernelspec": {
      "display_name": "Python 3 (ipykernel)",
      "language": "python",
      "name": "python3"
    },
    "language_info": {
      "codemirror_mode": {
        "name": "ipython",
        "version": 3
      },
      "file_extension": ".py",
      "mimetype": "text/x-python",
      "name": "python",
      "nbconvert_exporter": "python",
      "pygments_lexer": "ipython3",
      "version": "3.9.7"
    },
    "colab": {
      "provenance": []
    }
  },
  "nbformat": 4,
  "nbformat_minor": 5
}