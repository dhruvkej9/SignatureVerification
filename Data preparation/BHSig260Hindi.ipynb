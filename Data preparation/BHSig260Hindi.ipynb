{
  "cells": [
    {
      "cell_type": "code",
      "execution_count": null,
      "id": "65ff8d12-97be-4cbe-be7e-a6f382d6cff4",
      "metadata": {
        "id": "65ff8d12-97be-4cbe-be7e-a6f382d6cff4"
      },
      "outputs": [],
      "source": [
        "import h5py\n",
        "import numpy as np\n",
        "from numpy import zeros, ones, asarray, concatenate, array, asarray, pad\n",
        "import os, sys\n",
        "from PIL import Image, ImageOps\n",
        "import cv2\n",
        "from h5py import File\n",
        "from math import ceil, floor\n",
        "import seaborn as sns"
      ]
    },
    {
      "cell_type": "code",
      "source": [
        "from google.colab import drive\n",
        "drive.mount('/content/drive')"
      ],
      "metadata": {
        "id": "kQodgKJDvqnI",
        "colab": {
          "base_uri": "https://localhost:8080/"
        },
        "outputId": "826ab0f1-23fd-46d5-c148-d828dae36382"
      },
      "id": "kQodgKJDvqnI",
      "execution_count": null,
      "outputs": [
        {
          "output_type": "stream",
          "name": "stdout",
          "text": [
            "Drive already mounted at /content/drive; to attempt to forcibly remount, call drive.mount(\"/content/drive\", force_remount=True).\n"
          ]
        }
      ]
    },
    {
      "cell_type": "code",
      "execution_count": null,
      "id": "37a44c2a-bc5e-447a-917b-be6a4c34b1b2",
      "metadata": {
        "id": "37a44c2a-bc5e-447a-917b-be6a4c34b1b2",
        "colab": {
          "base_uri": "https://localhost:8080/"
        },
        "outputId": "f38bf0b5-d939-4a95-c0eb-262c4463166e"
      },
      "outputs": [
        {
          "output_type": "stream",
          "name": "stdout",
          "text": [
            "/content/drive/MyDrive/BHSig260/BHSig260/Hindi/list.genuine\n"
          ]
        }
      ],
      "source": [
        "# BASE_DIR = os.pardir\n",
        "file = os.path.join('/content','drive','MyDrive','BHSig260','BHSig260','Hindi','list.genuine')\n",
        "print(file)\n",
        "with open(file) as fil:\n",
        "    genuine_raw = list(fil.read().split('\\n'))\n",
        "genuine = list()\n",
        "for lin in genuine_raw:\n",
        "    genuine.append(lin[lin.find('/') + 1:])#appeding name of the image\n",
        "\n",
        "file = os.path.join('/content','drive','MyDrive','BHSig260','BHSig260','Hindi', 'list.forgery')\n",
        "with open(file) as fil:\n",
        "    forged_raw = list(fil.read().split('\\n'))\n",
        "forged = list()\n",
        "for lin in forged_raw:\n",
        "    forged.append(lin[lin.find('/') + 1:])"
      ]
    },
    {
      "cell_type": "code",
      "execution_count": null,
      "id": "9abdb57d-d9a2-47d6-acb0-1aeaf7d869e1",
      "metadata": {
        "id": "9abdb57d-d9a2-47d6-acb0-1aeaf7d869e1",
        "colab": {
          "base_uri": "https://localhost:8080/"
        },
        "outputId": "ca8eb375-d6d1-4674-91d9-bb83c2ed1901"
      },
      "outputs": [
        {
          "output_type": "stream",
          "name": "stdout",
          "text": [
            "1.0\t2.0\t3.0\t4.0\t5.0\t6.0\t7.0\t8.0\t9.0\t10.0\t086 might not be a valid directory\n",
            "11.203703703703704\t12.203703703703704\t13.203703703703704\t14.203703703703704\t15.203703703703704\t"
          ]
        }
      ],
      "source": [
        "# %%timeit -n1 -r1\n",
        "# BASE_DIR = os.pardir\n",
        "i = 0\n",
        "x, y = 224,224\n",
        "X = np.zeros((54 * 160, y, x, 3), dtype=np.int8)\n",
        "Y = np.zeros((54 * 160, 1), dtype = np.uint8)\n",
        "S = np.zeros((54 * 160, 1), dtype = np.uint8)\n",
        "\n",
        "for indir in os.listdir(os.path.join('/content','drive','MyDrive','BHSig260','BHSig260','Bengali')):\n",
        "    PATH = os.path.join('/content','drive','MyDrive','BHSig260','BHSig260','Bengali', indir)\n",
        "    try:\n",
        "        for infile in os.listdir(PATH):\n",
        "            im = cv2.imread((os.path.join(PATH,infile)),0)\n",
        "#             with cv.imread((os.path.join(PATH, infile)),0) as im:\n",
        "            X[i] = (cv2.resize(im,(x,y), interpolation = cv2.INTER_AREA)).reshape(y,x,1)\n",
        "            S[i] = int(indir)\n",
        "            if infile in genuine:\n",
        "                Y[i] = 1\n",
        "            # elif infile in forged:\n",
        "                # Y[i] = 0\n",
        "            i = i + 1\n",
        "        print(i/54, end = '\\t')\n",
        "    except:\n",
        "        print(\"{} might not be a valid directory\".format(indir))"
      ]
    },
    {
      "cell_type": "code",
      "source": [
        "# im = cv2.imread(os.path.join(PATH,infile),0)\n",
        "# im.shape"
      ],
      "metadata": {
        "id": "hn45nFVyIG1A"
      },
      "id": "hn45nFVyIG1A",
      "execution_count": null,
      "outputs": []
    },
    {
      "cell_type": "code",
      "execution_count": null,
      "id": "dd448aa1-5fc4-4d94-be23-c777774f29b2",
      "metadata": {
        "id": "dd448aa1-5fc4-4d94-be23-c777774f29b2"
      },
      "outputs": [],
      "source": [
        "file = '/content/drive/MyDrive/bhsig260bengali_224x224.h5'\n",
        "with h5py.File(file, 'w') as hdf:\n",
        "    hdf.create_dataset('X', data=X)\n",
        "    hdf.create_dataset('Y', data=Y)\n",
        "    hdf.create_dataset('S', data=S)"
      ]
    },
    {
      "cell_type": "code",
      "execution_count": null,
      "id": "0ff02a48",
      "metadata": {
        "id": "0ff02a48"
      },
      "outputs": [],
      "source": [
        "# print(sum(Y[0:54]))"
      ]
    },
    {
      "cell_type": "code",
      "execution_count": null,
      "id": "90aaf761",
      "metadata": {
        "id": "90aaf761"
      },
      "outputs": [],
      "source": [
        "# x, y = 224,224\n",
        "def xor(x, y):\n",
        "    z = x ^ y\n",
        "    return z"
      ]
    },
    {
      "cell_type": "code",
      "execution_count": null,
      "id": "22ab6d6f",
      "metadata": {
        "id": "22ab6d6f",
        "outputId": "ee8b3463-1476-4986-fd81-e48ef0501b72",
        "colab": {
          "base_uri": "https://localhost:8080/"
        }
      },
      "outputs": [
        {
          "output_type": "stream",
          "name": "stdout",
          "text": [
            "[1, 2, 3, 4, 5, 6, 7, 8, 9, 10, 11, 12, 13, 14, 15, 16, 17, 18, 19, 20, 21, 22, 23, 24, 25, 26, 27, 28, 29, 30, 31, 32, 33, 34, 35, 36, 37, 38, 39, 40, 41, 42, 43, 44, 45, 46, 47, 48, 49, 50, 51, 52, 53, 54, 55, 56, 57, 58, 59, 60, 61, 62, 63, 64, 65, 66, 67, 68, 69, 70, 71, 72, 73, 74, 75, 76, 77, 78, 79, 80, 81, 82, 83, 84, 85, 86, 87, 88, 89, 90, 91, 92, 93, 94, 95, 96, 97, 98, 99, 100, 101, 102, 103, 104, 105, 106, 107, 108, 109, 110, 111, 112, 113, 114, 115, 116, 117, 118, 119, 120, 121, 122, 123, 124, 125, 126, 127, 128, 129, 130, 131, 132, 133, 134, 135, 136, 137, 138, 139, 140, 141, 142, 143, 144, 145, 146, 147, 148, 149, 150, 151, 152, 153, 154, 155, 156, 157, 158, 159, 160]\n"
          ]
        }
      ],
      "source": [
        "# BASE_DIR = os.getcwd()\n",
        "file = '/content/drive/MyDrive/bhsig260hindi_224x224x3.h5'\n",
        "# file = os.path.join(BASE_DIR, infile)\n",
        "with File(file, 'r') as hdf:\n",
        "    X = array(hdf.get('X'))\n",
        "    Y = array(hdf.get('Y'))\n",
        "    S = array(hdf.get('S'))\n",
        "writers = list()\n",
        "for i in S.squeeze():\n",
        "    if i not in writers:\n",
        "        writers.append(i)\n",
        "print(writers)"
      ]
    },
    {
      "cell_type": "code",
      "source": [
        "X.shape"
      ],
      "metadata": {
        "colab": {
          "base_uri": "https://localhost:8080/"
        },
        "id": "US5XtYOpLauw",
        "outputId": "7d5fe926-cd82-4bb4-d637-23c3a14828d7"
      },
      "id": "US5XtYOpLauw",
      "execution_count": null,
      "outputs": [
        {
          "output_type": "execute_result",
          "data": {
            "text/plain": [
              "(8640, 224, 224, 3)"
            ]
          },
          "metadata": {},
          "execution_count": 6
        }
      ]
    },
    {
      "cell_type": "code",
      "execution_count": null,
      "id": "5bc2601c",
      "metadata": {
        "id": "5bc2601c",
        "outputId": "f3b8fac8-990d-44bf-c15c-cceb440e4c26",
        "colab": {
          "base_uri": "https://localhost:8080/"
        }
      },
      "outputs": [
        {
          "output_type": "stream",
          "name": "stdout",
          "text": [
            "15 810 810 810\n"
          ]
        }
      ],
      "source": [
        "# Taking only data of 30 writers bcoz of memory limitations\n",
        "number_of_writers = 15\n",
        "writers = writers[0:number_of_writers]\n",
        "X = X[0:number_of_writers*54]\n",
        "Y = Y[0:number_of_writers*54]\n",
        "S = S[0:number_of_writers*54]\n",
        "\n",
        "print(len(writers),len(X),len(Y),len(S))"
      ]
    },
    {
      "cell_type": "code",
      "source": [
        "# n_original * n_forged"
      ],
      "metadata": {
        "id": "aiJTaQNjBt80"
      },
      "id": "aiJTaQNjBt80",
      "execution_count": null,
      "outputs": []
    },
    {
      "cell_type": "code",
      "execution_count": null,
      "id": "ebf0e0f1",
      "metadata": {
        "id": "ebf0e0f1",
        "outputId": "0fe0690e-cfef-4740-edeb-65128a4e8391",
        "colab": {
          "base_uri": "https://localhost:8080/"
        }
      },
      "outputs": [
        {
          "output_type": "stream",
          "name": "stdout",
          "text": [
            "15\n",
            "24\n",
            "30\n",
            "14940\n"
          ]
        }
      ],
      "source": [
        "n_writers = len(writers)\n",
        "print(n_writers)\n",
        "n_original = int(Y.sum() // n_writers)\n",
        "print(n_original)\n",
        "n_forged = int(len(Y.squeeze()) // n_writers - n_original)\n",
        "print(n_forged)\n",
        "m = int(n_writers * (n_original * n_forged + n_original * (n_original - 1) // 2))\n",
        "print(m)"
      ]
    },
    {
      "cell_type": "code",
      "source": [
        "S1 = np.zeros((m, X.shape[1], X.shape[2], X.shape[3]), dtype = np.uint8)\n",
        "S2 = np.zeros((m, X.shape[1], X.shape[2], X.shape[3]), dtype = np.uint8)\n",
        "y = np.zeros((m, 1), dtype = np.uint8)\n",
        "w = np.zeros((m, 1), dtype = np.uint8)\n",
        "l = 0\n",
        "for writer in writers:\n",
        "    ind = np.where(S.squeeze() == writer)\n",
        "    if len(ind) != 1:\n",
        "        print('Error')\n",
        "    for i in ind[0]:\n",
        "        for j in ind[0]:\n",
        "            if i <= j:\n",
        "                continue\n",
        "            if Y.squeeze()[i] == 0 and Y.squeeze()[j] == 0:\n",
        "                continue\n",
        "            S1[l] = X[i]\n",
        "            S2[l] = X[j]\n",
        "            y[l] = xor(Y[i], Y[j])\n",
        "            w[l][0] = writer\n",
        "            l = l + 1\n",
        "            # 'bhsig260hindi_224x224_Preprocessed_drive.h5'\n",
        "outfile = '/content/drive/MyDrive/'+'bigsig260'+str(X.shape[1])+'x'+str(X.shape[2])+'x'+str(X.shape[3])+'_siamese_preprocessed.h5'\n",
        "print(outfile)\n",
        "# file = os.path.join(BASE_DIR, outfile)\n",
        "with File(outfile, 'w') as hdf:\n",
        "    hdf.create_dataset('S1', data = S1)\n",
        "    hdf.create_dataset('S2', data = S2)\n",
        "    hdf.create_dataset('Y',   data = y)\n",
        "    hdf.create_dataset('L',   data = w)\n",
        ""
      ],
      "metadata": {
        "id": "XneSO4FbLTgM",
        "colab": {
          "base_uri": "https://localhost:8080/"
        },
        "outputId": "9137a254-4559-40dc-9fb8-6550e33f0c9a"
      },
      "id": "XneSO4FbLTgM",
      "execution_count": null,
      "outputs": [
        {
          "output_type": "stream",
          "name": "stdout",
          "text": [
            "/content/drive/MyDrive/bigsig260224x224x3_siamese_preprocessed.h5\n"
          ]
        }
      ]
    },
    {
      "cell_type": "code",
      "source": [],
      "metadata": {
        "id": "ojKJbFoeO-MH"
      },
      "id": "ojKJbFoeO-MH",
      "execution_count": null,
      "outputs": []
    }
  ],
  "metadata": {
    "kernelspec": {
      "display_name": "Python 3 (ipykernel)",
      "language": "python",
      "name": "python3"
    },
    "language_info": {
      "codemirror_mode": {
        "name": "ipython",
        "version": 3
      },
      "file_extension": ".py",
      "mimetype": "text/x-python",
      "name": "python",
      "nbconvert_exporter": "python",
      "pygments_lexer": "ipython3",
      "version": "3.9.7"
    },
    "colab": {
      "provenance": []
    }
  },
  "nbformat": 4,
  "nbformat_minor": 5
}