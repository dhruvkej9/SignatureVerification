{
  "cells": [
    {
      "cell_type": "markdown",
      "metadata": {
        "id": "ee026f90-229f-4c0e-9d12-af36878dbb53"
      },
      "source": [
        "# Model - 3 (ResNet)\n",
        "This model is a ResNet Model for the task of automatic verification of offline signatures."
      ],
      "id": "ee026f90-229f-4c0e-9d12-af36878dbb53"
    },
    {
      "cell_type": "code",
      "execution_count": null,
      "metadata": {
        "id": "a44c2ba1-27ba-4b07-b342-989d53f16f41"
      },
      "outputs": [],
      "source": [
        "from tensorflow.keras.layers import Activation, Add, AvgPool2D, BatchNormalization, Conv2D, Dense, Flatten, Input, MaxPool2D, ZeroPadding2D\n",
        "from tensorflow.keras.models import Model, Sequential\n",
        "from tensorflow.keras.initializers import random_uniform, glorot_uniform, constant\n",
        "from tensorflow.keras.utils import plot_model\n",
        "from keras.callbacks import EarlyStopping, ModelCheckpoint, ReduceLROnPlateau\n",
        "\n",
        "from h5py import File\n",
        "import matplotlib.pyplot as plt\n",
        "import numpy as np\n",
        "from numpy.random import permutation, randint, rand\n",
        "from numpy import rint\n",
        "import os\n",
        "import seaborn as sns\n",
        "from sklearn.metrics import confusion_matrix, ConfusionMatrixDisplay\n",
        "import tensorflow as tf\n",
        "\n",
        "from numpy import expand_dims\n",
        "from sklearn.model_selection import train_test_split\n",
        "from tensorflow.keras.preprocessing.image import load_img\n",
        "from tensorflow.keras.preprocessing.image import img_to_array\n",
        "from keras.preprocessing.image import ImageDataGenerator\n",
        "from tensorflow import keras\n",
        "from tensorflow import one_hot, reshape\n",
        "from keras.layers import BatchNormalization\n",
        "import cv2\n",
        "\n",
        "# from keras.models import Sequential\n",
        "from tensorflow.keras.optimizers import Adam,SGD\n",
        "from tensorflow.keras import Sequential\n",
        "from tensorflow.keras.initializers import glorot_uniform\n",
        "from tensorflow.keras.utils import plot_model"
      ],
      "id": "a44c2ba1-27ba-4b07-b342-989d53f16f41"
    },
    {
      "cell_type": "code",
      "execution_count": null,
      "metadata": {
        "id": "d86935f1"
      },
      "outputs": [],
      "source": [
        "def identity_block(X, f, filters, training=True, initializer=random_uniform, activation='relu', seed=0):\n",
        "    F1, F2, F3 = filters\n",
        "    Y = X\n",
        "\n",
        "    Y = Conv2D(filters=F1, kernel_size=1, strides=1, padding='valid', kernel_initializer=initializer(seed=seed)) (Y)\n",
        "    Y = BatchNormalization() (Y, training=training)\n",
        "    Y = Activation(activation = activation) (Y)\n",
        "\n",
        "    Y = Conv2D(filters=F2, kernel_size=f, strides=1, padding='same', kernel_initializer=initializer(seed=seed)) (Y)\n",
        "    Y = BatchNormalization() (Y, training=training)\n",
        "    Y = Activation(activation = activation) (Y)\n",
        "\n",
        "    Y = Conv2D(filters=F3, kernel_size=1, strides=1, padding='valid', kernel_initializer=initializer(seed=seed)) (Y)\n",
        "    Y = BatchNormalization() (Y, training=training)\n",
        "\n",
        "    Y = Add() ([Y, X])\n",
        "    Y = Activation(activation = activation) (Y)\n",
        "\n",
        "    return Y"
      ],
      "id": "d86935f1"
    },
    {
      "cell_type": "code",
      "execution_count": null,
      "metadata": {
        "id": "bff2845b"
      },
      "outputs": [],
      "source": [
        "def convolutional_block(X, f, filters, s=2, training=True, initializer=glorot_uniform, activation='relu', seed=0):\n",
        "    F1, F2, F3 = filters\n",
        "    Y = X\n",
        "\n",
        "    Y = Conv2D(filters=F1, kernel_size=1, strides=s, padding='valid', kernel_initializer=initializer(seed=seed)) (Y)\n",
        "    Y = BatchNormalization() (Y, training=training)\n",
        "    Y = Activation(activation = activation) (Y)\n",
        "\n",
        "    Y = Conv2D(filters=F2, kernel_size=f, strides=1, padding='same', kernel_initializer=initializer(seed=seed)) (Y)\n",
        "    Y = BatchNormalization() (Y, training=training)\n",
        "    Y = Activation(activation = activation) (Y)\n",
        "\n",
        "    Y = Conv2D(filters=F3, kernel_size=1, strides=1, padding='valid', kernel_initializer=initializer(seed=seed)) (Y)\n",
        "    Y = BatchNormalization() (Y, training=training)\n",
        "\n",
        "    X = Conv2D(filters=F3, kernel_size=1, strides=s, padding='valid', kernel_initializer=initializer(seed=seed)) (X)\n",
        "    X = BatchNormalization() (X, training=training)\n",
        "\n",
        "    Y = Add() ([Y, X])\n",
        "    Y = Activation(activation = activation) (Y)\n",
        "\n",
        "    return Y"
      ],
      "id": "bff2845b"
    },
    {
      "cell_type": "code",
      "execution_count": null,
      "metadata": {
        "id": "3b3166c7"
      },
      "outputs": [],
      "source": [
        "def  ResNet50(input_shape = (512, 512, 3), classes = 2, activation='relu', seed=0):\n",
        "    Y = Input(input_shape)\n",
        "    X = Y\n",
        "    X = ZeroPadding2D(3)(X)\n",
        "\n",
        "    X = Conv2D(filters=64, kernel_size = 7, strides = 2, kernel_initializer = glorot_uniform(seed=seed)) (X)\n",
        "    X = BatchNormalization() (X)\n",
        "    X = Activation(activation=activation) (X)\n",
        "    X = MaxPool2D((3, 3), strides=(2, 2)) (X)\n",
        "\n",
        "    X = convolutional_block(X, f = 3, filters = [64, 64, 256], s = 1, seed=seed)\n",
        "    X = identity_block(X, 3, [64, 64, 256], seed=seed)\n",
        "    X = identity_block(X, 3, [64, 64, 256], seed=seed)\n",
        "\n",
        "    X = convolutional_block(X, f = 3, filters = [128, 128, 512], s = 2, seed=seed)\n",
        "    X = identity_block(X, 3, [128, 128, 512], seed=seed)\n",
        "    X = identity_block(X, 3, [128, 128, 512], seed=seed)\n",
        "    X = identity_block(X, 3, [128, 128, 512], seed=seed)\n",
        "\n",
        "    X = convolutional_block(X, f = 3, filters = [256, 256, 1024], s = 2, seed=seed)\n",
        "    X = identity_block(X, 3, [256, 256, 1024], seed=seed)\n",
        "    X = identity_block(X, 3, [256, 256, 1024], seed=seed)\n",
        "    X = identity_block(X, 3, [256, 256, 1024], seed=seed)\n",
        "    X = identity_block(X, 3, [256, 256, 1024], seed=seed)\n",
        "    X = identity_block(X, 3, [256, 256, 1024], seed=seed)\n",
        "\n",
        "    X = convolutional_block(X, f = 3, filters = [512, 512, 2048], s = 2, seed=seed)\n",
        "    X = identity_block(X, 3, [512, 512, 2048], seed=seed)\n",
        "    X = identity_block(X, 3, [512, 512, 2048], seed=seed)\n",
        "\n",
        "    X = AvgPool2D(pool_size=(2, 2))(X)\n",
        "    X = Flatten()(X)\n",
        "    X = Dense(classes, activation='softmax', kernel_initializer = glorot_uniform(seed=seed))(X)\n",
        "\n",
        "    model = Model(inputs = Y, outputs = X)\n",
        "    return model"
      ],
      "id": "3b3166c7"
    },
    {
      "cell_type": "code",
      "execution_count": null,
      "metadata": {
        "id": "8fcf11bb"
      },
      "outputs": [],
      "source": [
        "plot_model(ResNet50(input_shape=(64, 128, 3)), show_shapes=True)"
      ],
      "id": "8fcf11bb"
    },
    {
      "cell_type": "code",
      "execution_count": null,
      "metadata": {
        "id": "c719b8f9-2cb9-44c2-b2c1-75ad0a13b835"
      },
      "outputs": [],
      "source": [
        "from h5py import File\n",
        "from matplotlib import pyplot\n",
        "import numpy as np\n",
        "import os\n",
        "from tensorflow import one_hot, reshape"
      ],
      "id": "c719b8f9-2cb9-44c2-b2c1-75ad0a13b835"
    },
    {
      "cell_type": "code",
      "execution_count": null,
      "metadata": {
        "colab": {
          "base_uri": "https://localhost:8080/"
        },
        "id": "cUEnMUvEyusn",
        "outputId": "f147a32f-b995-4982-a8a1-c7ca0cba6651"
      },
      "outputs": [
        {
          "output_type": "stream",
          "name": "stdout",
          "text": [
            "Mounted at /content/drive\n"
          ]
        }
      ],
      "source": [
        "from google.colab import drive\n",
        "drive.mount('/content/drive')"
      ],
      "id": "cUEnMUvEyusn"
    },
    {
      "cell_type": "code",
      "execution_count": null,
      "metadata": {
        "colab": {
          "base_uri": "https://localhost:8080/"
        },
        "id": "8a2a72dd",
        "outputId": "d54bcec0-b88d-45a0-b429-f1295e3f9dde"
      },
      "outputs": [
        {
          "output_type": "stream",
          "name": "stdout",
          "text": [
            "/content/drive/MyDrive/bhsig260hindi_128x643.h5\n",
            "Feature shape = (8640, 64, 128, 3)\n",
            "Label shape = (8640, 1)\n"
          ]
        }
      ],
      "source": [
        "# database = input('Database Name: ')\n",
        "# database = database.lower() + '_128x64.h5'\n",
        "# file = os.path.join(os.getcwd(), 'database', database)\n",
        "file = \"/content/drive/MyDrive/bhsig260hindi_128x643.h5\"\n",
        "print(file)\n",
        "try:\n",
        "    with File(file, 'r') as hdf:\n",
        "        X = np.array(hdf.get('X'))\n",
        "        Y = np.array(hdf.get('Y'))\n",
        "except Exception as ex:\n",
        "    template = \"An exception of type {0} occurred. Arguments:\\n{1!r}\"\n",
        "    message = template.format(type(ex).__name__, ex.args)\n",
        "    print(message)\n",
        "X = X / 255.0\n",
        "Y = Y * 1.0\n",
        "# Y = one_hot(Y * 1.0, depth=2)\n",
        "# Y = reshape(Y, (-1, 2))\n",
        "print(\"Feature shape =\", X.shape)\n",
        "print(\"Label shape =\", Y.shape)"
      ],
      "id": "8a2a72dd"
    },
    {
      "cell_type": "code",
      "execution_count": null,
      "metadata": {
        "colab": {
          "base_uri": "https://localhost:8080/",
          "height": 268
        },
        "id": "HLeY-72N2zqf",
        "outputId": "b13faa06-79ac-4bbb-b2d9-382343265746"
      },
      "outputs": [
        {
          "output_type": "display_data",
          "data": {
            "text/plain": [
              "<Figure size 432x288 with 1 Axes>"
            ],
            "image/png": "[encoded data removed]"
          },
          "metadata": {
            "needs_background": "light"
          }
        }
      ],
      "source": [
        "ax = sns.countplot(x = Y.reshape(Y.shape[0]))\n",
        "for p in ax.patches:\n",
        "   ax.annotate('{:}'.format(p.get_height()), (p.get_x()+0.25, p.get_height()+0.01))"
      ],
      "id": "HLeY-72N2zqf"
    },
    {
      "cell_type": "code",
      "execution_count": null,
      "metadata": {
        "colab": {
          "base_uri": "https://localhost:8080/"
        },
        "id": "TggYch4G3hVh",
        "outputId": "64c68d9b-bdc0-4436-c143-47521b236233"
      },
      "outputs": [
        {
          "output_type": "execute_result",
          "data": {
            "text/plain": [
              "{0: 0.8998125390543636, 1: 1.1252930450638188}"
            ]
          },
          "metadata": {},
          "execution_count": 11
        }
      ],
      "source": [
        "import sklearn\n",
        "class_weights = sklearn.utils.class_weight.compute_class_weight(class_weight = \"balanced\",classes = np.unique(Y),y = Y.reshape(Y.shape[0]))\n",
        "class_weight_dict = dict(enumerate(class_weights))\n",
        "class_weight_dict"
      ],
      "id": "TggYch4G3hVh"
    },
    {
      "cell_type": "code",
      "execution_count": null,
      "metadata": {
        "colab": {
          "base_uri": "https://localhost:8080/"
        },
        "id": "vMsyOKHI3kFi",
        "outputId": "3ee4d17f-8ca9-4aa9-cea0-8c192c80d363"
      },
      "outputs": [
        {
          "output_type": "stream",
          "name": "stdout",
          "text": [
            "seed = 2\n",
            "Shape of Features in training set = (6048, 64, 128, 3)\n",
            "Shape of Labels in training set = (6048, 1)\n"
          ]
        }
      ],
      "source": [
        "seed=randint(10)\n",
        "# metadata['split_seed']=seed\n",
        "print('seed =', seed)\n",
        "indices = permutation(X.shape[0])\n",
        "# print(X)\n",
        "same = True\n",
        "if same:\n",
        "    m = int(0.70 * X.shape[0])\n",
        "    n = int(0.15 * X.shape[0])\n",
        "    training_id, validation_id, test_id = indices[:m], indices[m: m + n], indices[m+n:]\n",
        "    X_train, X_test, X_validate = X[training_id], X[test_id], X[validation_id]\n",
        "    Y_train, Y_test, Y_validate = Y[training_id], Y[test_id], Y[validation_id]\n",
        "else:\n",
        "    m = int(0.70 * X.shape[0])\n",
        "    training_id, validation_id = indices[:m], indices[m:]\n",
        "    X_train, X_validate = X[training_id], X[validation_id]\n",
        "    Y_train, Y_validate = Y[training_id], Y[validation_id]\n",
        "print(\"Shape of Features in training set =\", X_train.shape)\n",
        "print(\"Shape of Labels in training set =\", Y_train.shape)\n",
        "\n",
        "del Y,X"
      ],
      "id": "vMsyOKHI3kFi"
    },
    {
      "cell_type": "code",
      "execution_count": null,
      "metadata": {
        "id": "MS0WNoUX3u49"
      },
      "outputs": [],
      "source": [
        "#One hot Encoding\n",
        "Y_train = one_hot(Y_train, depth=2)\n",
        "Y_train = reshape(Y_train, (-1, 2))\n",
        "\n",
        "Y_test = one_hot(Y_test, depth=2)\n",
        "Y_test = reshape(Y_test, (-1, 2))\n",
        "\n",
        "Y_validate = one_hot(Y_validate, depth=2)\n",
        "Y_validate = reshape(Y_validate, (-1, 2))"
      ],
      "id": "MS0WNoUX3u49"
    },
    {
      "cell_type": "code",
      "execution_count": null,
      "metadata": {
        "colab": {
          "base_uri": "https://localhost:8080/"
        },
        "id": "2UDzGynS3wrv",
        "outputId": "a23d9282-27f1-4ad2-ccd1-33de40371f1f"
      },
      "outputs": [
        {
          "output_type": "stream",
          "name": "stdout",
          "text": [
            "Shape of Labels in training set = (6048, 2)\n"
          ]
        }
      ],
      "source": [
        "print(\"Shape of Labels in training set =\", Y_train.shape)"
      ],
      "id": "2UDzGynS3wrv"
    },
    {
      "cell_type": "code",
      "execution_count": null,
      "metadata": {
        "id": "0a875b04"
      },
      "outputs": [],
      "source": [
        "with tf.device('/device:GPU:0'):\n",
        "  model = ResNet50(input_shape=(64, 128, 3))\n",
        "  SGD = tf.keras.optimizers.SGD(learning_rate = 1e-02,momentum = 0.9)\n",
        "  model.compile(optimizer = SGD, loss='binary_crossentropy', metrics=['accuracy'])"
      ],
      "id": "0a875b04"
    },
    {
      "cell_type": "markdown",
      "source": [
        "## Model Training for 10 epochs\n",
        "\n",
        "Optimizer - Adam (default hyperparameter)\n",
        "\n",
        "Epochs - 10"
      ],
      "metadata": {
        "id": "qIHERsh_Xz0G"
      },
      "id": "qIHERsh_Xz0G"
    },
    {
      "cell_type": "code",
      "source": [
        "with tf.device('/device:GPU:0'):\n",
        "  history = model.fit(X_train, Y_train, epochs = 20, batch_size = 32, validation_data=(X_validate, Y_validate),shuffle=True\n",
        "                    ,class_weight = class_weight_dict)\n",
        "print('training done')"
      ],
      "metadata": {
        "id": "FMgLoyFlT-Tb"
      },
      "id": "FMgLoyFlT-Tb",
      "execution_count": null,
      "outputs": []
    },
    {
      "cell_type": "code",
      "execution_count": null,
      "metadata": {
        "id": "6aQwva3u1q2B"
      },
      "outputs": [],
      "source": [
        "import pickle\n",
        "folder = \"/content/drive/MyDrive/ResNetEPOCHS10/\""
      ],
      "id": "6aQwva3u1q2B"
    },
    {
      "cell_type": "code",
      "source": [
        "with open(folder  + 'trainHistoryDict', 'wb') as file_pi:\n",
        "       pickle.dump(history, file_pi)\n",
        "model.save(folder + 'model.h5')"
      ],
      "metadata": {
        "colab": {
          "base_uri": "https://localhost:8080/"
        },
        "id": "Iafpr4bvVWQL",
        "outputId": "0a9cb4f4-e453-4dce-ec11-9b241de459ca"
      },
      "id": "Iafpr4bvVWQL",
      "execution_count": null,
      "outputs": [
        {
          "output_type": "stream",
          "name": "stderr",
          "text": [
            "WARNING:absl:Found untraced functions such as _jit_compiled_convolution_op, _jit_compiled_convolution_op, _jit_compiled_convolution_op, _jit_compiled_convolution_op, _jit_compiled_convolution_op while saving (showing 5 of 53). These functions will not be directly callable after loading.\n"
          ]
        }
      ]
    },
    {
      "cell_type": "code",
      "execution_count": null,
      "metadata": {
        "id": "JvNjOJm61k7z"
      },
      "outputs": [],
      "source": [
        "history = pickle.load(open(folder + 'trainHistoryDict', \"rb\"))\n",
        "model = tf.keras.models.load_model(folder + 'model.h5')"
      ],
      "id": "JvNjOJm61k7z"
    },
    {
      "cell_type": "markdown",
      "source": [
        "## Model Training for 100 epochs\n",
        "\n",
        "\n",
        "Optimizer - SGD (lr = 0.01)\n",
        "\n",
        "Epochs - 100 (Early Stopping)"
      ],
      "metadata": {
        "id": "H41eN8ROYPZf"
      },
      "id": "H41eN8ROYPZf"
    },
    {
      "cell_type": "code",
      "source": [
        "import pickle\n",
        "folder = \"/content/drive/MyDrive/ResNetEPOCHS100/\""
      ],
      "metadata": {
        "id": "770-M6wWYeQ4"
      },
      "id": "770-M6wWYeQ4",
      "execution_count": null,
      "outputs": []
    },
    {
      "cell_type": "code",
      "source": [
        "with tf.device('/device:GPU:0'):\n",
        "  callbacks = [\n",
        "    EarlyStopping(patience = 5, verbose = 1),\n",
        "    ModelCheckpoint(folder + 'model-{epoch:03d}.h5'\n",
        "    , verbose=1,save_best_only = True)\n",
        "]"
      ],
      "metadata": {
        "id": "-_cOz9wUZl4n"
      },
      "id": "-_cOz9wUZl4n",
      "execution_count": null,
      "outputs": []
    },
    {
      "cell_type": "code",
      "source": [
        "with tf.device('/device:GPU:0'):\n",
        "  history = model.fit(X_train, Y_train, epochs = 100, batch_size = 32, validation_data=(X_validate, Y_validate),shuffle=True\n",
        "                    ,class_weight = class_weight_dict,callbacks = callbacks)\n",
        "print('training done')"
      ],
      "metadata": {
        "colab": {
          "base_uri": "https://localhost:8080/"
        },
        "id": "4nJSemikYavm",
        "outputId": "7d456314-dbf3-4157-9b3e-308127b6c033"
      },
      "id": "4nJSemikYavm",
      "execution_count": null,
      "outputs": [
        {
          "output_type": "stream",
          "name": "stdout",
          "text": [
            "Epoch 1/100\n",
            "189/189 [==============================] - ETA: 0s - loss: 1.6307 - accuracy: 0.5577\n",
            "Epoch 1: val_loss improved from inf to 0.83957, saving model to /content/drive/MyDrive/ResNetEPOCHS100/model-001.h5\n",
            "189/189 [==============================] - 22s 93ms/step - loss: 1.6307 - accuracy: 0.5577 - val_loss: 0.8396 - val_accuracy: 0.6188\n",
            "Epoch 2/100\n",
            "189/189 [==============================] - ETA: 0s - loss: 0.8441 - accuracy: 0.6293\n",
            "Epoch 2: val_loss did not improve from 0.83957\n",
            "189/189 [==============================] - 15s 81ms/step - loss: 0.8441 - accuracy: 0.6293 - val_loss: 1.0157 - val_accuracy: 0.5818\n",
            "Epoch 3/100\n",
            "189/189 [==============================] - ETA: 0s - loss: 0.6793 - accuracy: 0.6609\n",
            "Epoch 3: val_loss improved from 0.83957 to 0.60916, saving model to /content/drive/MyDrive/ResNetEPOCHS100/model-003.h5\n",
            "189/189 [==============================] - 17s 92ms/step - loss: 0.6793 - accuracy: 0.6609 - val_loss: 0.6092 - val_accuracy: 0.6914\n",
            "Epoch 4/100\n",
            "189/189 [==============================] - ETA: 0s - loss: 0.6202 - accuracy: 0.7077\n",
            "Epoch 4: val_loss did not improve from 0.60916\n",
            "189/189 [==============================] - 15s 82ms/step - loss: 0.6202 - accuracy: 0.7077 - val_loss: 0.6696 - val_accuracy: 0.7045\n",
            "Epoch 5/100\n",
            "189/189 [==============================] - ETA: 0s - loss: 0.5734 - accuracy: 0.7404\n",
            "Epoch 5: val_loss improved from 0.60916 to 0.55587, saving model to /content/drive/MyDrive/ResNetEPOCHS100/model-005.h5\n",
            "189/189 [==============================] - 17s 88ms/step - loss: 0.5734 - accuracy: 0.7404 - val_loss: 0.5559 - val_accuracy: 0.7431\n",
            "Epoch 6/100\n",
            "189/189 [==============================] - ETA: 0s - loss: 0.5457 - accuracy: 0.7449\n",
            "Epoch 6: val_loss did not improve from 0.55587\n",
            "189/189 [==============================] - 17s 90ms/step - loss: 0.5457 - accuracy: 0.7449 - val_loss: 0.5566 - val_accuracy: 0.7346\n",
            "Epoch 7/100\n",
            "189/189 [==============================] - ETA: 0s - loss: 0.5266 - accuracy: 0.7553\n",
            "Epoch 7: val_loss improved from 0.55587 to 0.52419, saving model to /content/drive/MyDrive/ResNetEPOCHS100/model-007.h5\n",
            "189/189 [==============================] - 18s 94ms/step - loss: 0.5266 - accuracy: 0.7553 - val_loss: 0.5242 - val_accuracy: 0.7647\n",
            "Epoch 8/100\n",
            "189/189 [==============================] - ETA: 0s - loss: 0.5047 - accuracy: 0.7736\n",
            "Epoch 8: val_loss improved from 0.52419 to 0.50631, saving model to /content/drive/MyDrive/ResNetEPOCHS100/model-008.h5\n",
            "189/189 [==============================] - 17s 92ms/step - loss: 0.5047 - accuracy: 0.7736 - val_loss: 0.5063 - val_accuracy: 0.7816\n",
            "Epoch 9/100\n",
            "189/189 [==============================] - ETA: 0s - loss: 0.5064 - accuracy: 0.7783\n",
            "Epoch 9: val_loss did not improve from 0.50631\n",
            "189/189 [==============================] - 16s 87ms/step - loss: 0.5064 - accuracy: 0.7783 - val_loss: 0.5561 - val_accuracy: 0.7762\n",
            "Epoch 10/100\n",
            "189/189 [==============================] - ETA: 0s - loss: 0.4800 - accuracy: 0.8061\n",
            "Epoch 10: val_loss improved from 0.50631 to 0.49927, saving model to /content/drive/MyDrive/ResNetEPOCHS100/model-010.h5\n",
            "189/189 [==============================] - 17s 92ms/step - loss: 0.4800 - accuracy: 0.8061 - val_loss: 0.4993 - val_accuracy: 0.7724\n",
            "Epoch 11/100\n",
            "189/189 [==============================] - ETA: 0s - loss: 0.4342 - accuracy: 0.8209\n",
            "Epoch 11: val_loss improved from 0.49927 to 0.48223, saving model to /content/drive/MyDrive/ResNetEPOCHS100/model-011.h5\n",
            "189/189 [==============================] - 18s 95ms/step - loss: 0.4342 - accuracy: 0.8209 - val_loss: 0.4822 - val_accuracy: 0.7832\n",
            "Epoch 12/100\n",
            "189/189 [==============================] - ETA: 0s - loss: 0.4150 - accuracy: 0.8262\n",
            "Epoch 12: val_loss improved from 0.48223 to 0.48145, saving model to /content/drive/MyDrive/ResNetEPOCHS100/model-012.h5\n",
            "189/189 [==============================] - 17s 91ms/step - loss: 0.4150 - accuracy: 0.8262 - val_loss: 0.4814 - val_accuracy: 0.7878\n",
            "Epoch 13/100\n",
            "189/189 [==============================] - ETA: 0s - loss: 0.4070 - accuracy: 0.8294\n",
            "Epoch 13: val_loss did not improve from 0.48145\n",
            "189/189 [==============================] - 16s 84ms/step - loss: 0.4070 - accuracy: 0.8294 - val_loss: 0.5036 - val_accuracy: 0.7932\n",
            "Epoch 14/100\n",
            "189/189 [==============================] - ETA: 0s - loss: 0.4069 - accuracy: 0.8358\n",
            "Epoch 14: val_loss improved from 0.48145 to 0.46418, saving model to /content/drive/MyDrive/ResNetEPOCHS100/model-014.h5\n",
            "189/189 [==============================] - 17s 90ms/step - loss: 0.4069 - accuracy: 0.8358 - val_loss: 0.4642 - val_accuracy: 0.8009\n",
            "Epoch 15/100\n",
            "189/189 [==============================] - ETA: 0s - loss: 0.3482 - accuracy: 0.8603\n",
            "Epoch 15: val_loss improved from 0.46418 to 0.44445, saving model to /content/drive/MyDrive/ResNetEPOCHS100/model-015.h5\n",
            "189/189 [==============================] - 17s 91ms/step - loss: 0.3482 - accuracy: 0.8603 - val_loss: 0.4444 - val_accuracy: 0.8187\n",
            "Epoch 16/100\n",
            "189/189 [==============================] - ETA: 0s - loss: 0.3328 - accuracy: 0.8652\n",
            "Epoch 16: val_loss did not improve from 0.44445\n",
            "189/189 [==============================] - 16s 87ms/step - loss: 0.3328 - accuracy: 0.8652 - val_loss: 0.4485 - val_accuracy: 0.8063\n",
            "Epoch 17/100\n",
            "189/189 [==============================] - ETA: 0s - loss: 0.3062 - accuracy: 0.8824\n",
            "Epoch 17: val_loss did not improve from 0.44445\n",
            "189/189 [==============================] - 16s 87ms/step - loss: 0.3062 - accuracy: 0.8824 - val_loss: 0.4660 - val_accuracy: 0.8086\n",
            "Epoch 18/100\n",
            "189/189 [==============================] - ETA: 0s - loss: 0.2921 - accuracy: 0.8862\n",
            "Epoch 18: val_loss did not improve from 0.44445\n",
            "189/189 [==============================] - 16s 84ms/step - loss: 0.2921 - accuracy: 0.8862 - val_loss: 0.5169 - val_accuracy: 0.8063\n",
            "Epoch 19/100\n",
            "189/189 [==============================] - ETA: 0s - loss: 0.2547 - accuracy: 0.9026\n",
            "Epoch 19: val_loss did not improve from 0.44445\n",
            "189/189 [==============================] - 16s 84ms/step - loss: 0.2547 - accuracy: 0.9026 - val_loss: 0.4752 - val_accuracy: 0.8032\n",
            "Epoch 20/100\n",
            "189/189 [==============================] - ETA: 0s - loss: 0.2511 - accuracy: 0.9034\n",
            "Epoch 20: val_loss did not improve from 0.44445\n",
            "189/189 [==============================] - 16s 84ms/step - loss: 0.2511 - accuracy: 0.9034 - val_loss: 0.4838 - val_accuracy: 0.8110\n",
            "Epoch 20: early stopping\n",
            "training done\n"
          ]
        }
      ]
    },
    {
      "cell_type": "code",
      "source": [
        "# with open(folder  + 'trainHistoryDict', 'wb') as file_pi:\n",
        "#        pickle.dump(history, file_pi)\n",
        "# model.save(folder + 'BestModel.h5')"
      ],
      "metadata": {
        "colab": {
          "base_uri": "https://localhost:8080/"
        },
        "id": "6g7jW9iAYmaM",
        "outputId": "747af29d-f43b-467b-fdd7-414528ecb3ed"
      },
      "id": "6g7jW9iAYmaM",
      "execution_count": null,
      "outputs": [
        {
          "output_type": "stream",
          "name": "stderr",
          "text": [
            "WARNING:absl:Found untraced functions such as _jit_compiled_convolution_op, _jit_compiled_convolution_op, _jit_compiled_convolution_op, _jit_compiled_convolution_op, _jit_compiled_convolution_op while saving (showing 5 of 53). These functions will not be directly callable after loading.\n"
          ]
        }
      ]
    },
    {
      "cell_type": "code",
      "source": [
        "history = pickle.load(open(folder + 'trainHistoryDict', \"rb\"))\n",
        "# model = tf.keras.models.load_model(folder + 'BestModel.h5')"
      ],
      "metadata": {
        "id": "MrTABUpUYfjR"
      },
      "id": "MrTABUpUYfjR",
      "execution_count": null,
      "outputs": []
    },
    {
      "cell_type": "markdown",
      "source": [
        "## Plotting\n",
        "\n",
        "Optimizer - Adam (default hyperparameter)\n",
        "\n",
        "Epochs - 10"
      ],
      "metadata": {
        "id": "T3kXxxXEYMKQ"
      },
      "id": "T3kXxxXEYMKQ"
    },
    {
      "cell_type": "code",
      "execution_count": null,
      "metadata": {
        "id": "30c15cff",
        "colab": {
          "base_uri": "https://localhost:8080/",
          "height": 279
        },
        "outputId": "749f43e9-76a0-4cd8-a7b9-27b2f6ab9c04"
      },
      "outputs": [
        {
          "output_type": "display_data",
          "data": {
            "text/plain": [
              "<Figure size 432x288 with 1 Axes>"
            ],
            "image/png": "[encoded data removed]"
          },
          "metadata": {
            "needs_background": "light"
          }
        }
      ],
      "source": [
        "plt.xlabel('# Iterations')\n",
        "plt.ylabel('Cross entropy Loss')\n",
        "plt.plot(history.history['loss'], color='blue',label = \"train loss\")\n",
        "plt.plot(history.history['val_loss'], color='orange',label = \"val_loss\")\n",
        "plt.legend()\n",
        "plt.grid()\n",
        "plt.savefig(folder + \"loss.jpeg\")\n",
        "plt.show()"
      ],
      "id": "30c15cff"
    },
    {
      "cell_type": "code",
      "execution_count": null,
      "metadata": {
        "id": "96fed48a",
        "colab": {
          "base_uri": "https://localhost:8080/",
          "height": 279
        },
        "outputId": "051bf4ca-033e-4815-95fa-ebc61c53f235"
      },
      "outputs": [
        {
          "output_type": "display_data",
          "data": {
            "text/plain": [
              "<Figure size 432x288 with 1 Axes>"
            ],
            "image/png": "[encoded data removed]"
          },
          "metadata": {
            "needs_background": "light"
          }
        }
      ],
      "source": [
        "plt.xlabel('# Iterations')\n",
        "plt.ylabel('Accuracy')\n",
        "plt.plot(history.history['accuracy'], color='blue',label = \"train accuracy\")\n",
        "plt.plot(history.history['val_accuracy'], color='orange',label = \"val_accuracy\")\n",
        "plt.grid()\n",
        "plt.legend()\n",
        "plt.savefig(folder + \"accuracy.jpeg\")\n",
        "plt.show()"
      ],
      "id": "96fed48a"
    },
    {
      "cell_type": "code",
      "execution_count": null,
      "metadata": {
        "id": "UE8JSzTM1k-c",
        "colab": {
          "base_uri": "https://localhost:8080/",
          "height": 296
        },
        "outputId": "d1622bb3-8395-4d1f-e30c-0ade37370f79"
      },
      "outputs": [
        {
          "output_type": "stream",
          "name": "stdout",
          "text": [
            "41/41 [==============================] - 2s 27ms/step\n"
          ]
        },
        {
          "output_type": "display_data",
          "data": {
            "text/plain": [
              "<Figure size 432x288 with 2 Axes>"
            ],
            "image/png": "[encoded data removed]"
          },
          "metadata": {
            "needs_background": "light"
          }
        }
      ],
      "source": [
        "ConfusionMatrixDisplay(confusion_matrix(tf.argmax(Y_test,axis = 1), tf.argmax(model.predict(X_test),axis = 1))).plot()\n",
        "plt.savefig( folder + \"confusionmatrix.jpeg\")\n",
        "plt.show()"
      ],
      "id": "UE8JSzTM1k-c"
    },
    {
      "cell_type": "code",
      "execution_count": null,
      "metadata": {
        "id": "tl0v1DMd1lB2",
        "colab": {
          "base_uri": "https://localhost:8080/",
          "height": 312
        },
        "outputId": "c90aa862-36db-49fe-9d51-4b6715b50d11"
      },
      "outputs": [
        {
          "output_type": "stream",
          "name": "stdout",
          "text": [
            "41/41 [==============================] - 1s 25ms/step\n"
          ]
        },
        {
          "output_type": "display_data",
          "data": {
            "text/plain": [
              "<Figure size 432x288 with 1 Axes>"
            ],
            "image/png": "[encoded data removed]"
          },
          "metadata": {
            "needs_background": "light"
          }
        }
      ],
      "source": [
        "from sklearn.metrics import auc\n",
        "from sklearn.metrics import roc_curve\n",
        "y_pred_keras = tf.argmax(model.predict(X_test),axis = 1)\n",
        "fpr_keras, tpr_keras, thresholds_keras = roc_curve(tf.argmax(Y_test,axis = 1), y_pred_keras)\n",
        "auc_keras = auc(fpr_keras, tpr_keras)\n",
        "plt.figure(1)\n",
        "plt.plot([0, 1], [0, 1], 'k--')\n",
        "plt.plot(fpr_keras, tpr_keras, label='Keras (area = {:.3f})'.format(auc_keras))\n",
        "# plt.plot(fpr_rf, tpr_rf, label='RF (area = {:.3f})'.format(auc_rf))\n",
        "plt.xlabel('False positive rate')\n",
        "plt.ylabel('True positive rate')\n",
        "plt.title('ROC curve')\n",
        "plt.legend(loc='best')\n",
        "plt.savefig(folder + \"roc.jpeg\")\n",
        "plt.show()"
      ],
      "id": "tl0v1DMd1lB2"
    },
    {
      "cell_type": "markdown",
      "source": [
        "## Plotting\n",
        "\n",
        "Optimizer - SGD (lr = 0.01)\n",
        "\n",
        "Epochs - 100 (Early Stopping)"
      ],
      "metadata": {
        "id": "6Gkl3o-VdfFh"
      },
      "id": "6Gkl3o-VdfFh"
    },
    {
      "cell_type": "code",
      "execution_count": null,
      "metadata": {
        "colab": {
          "base_uri": "https://localhost:8080/",
          "height": 279
        },
        "outputId": "73ba75fb-999e-479b-cc08-0894235cdab6",
        "id": "vG8lgsK2dfFi"
      },
      "outputs": [
        {
          "output_type": "display_data",
          "data": {
            "text/plain": [
              "<Figure size 432x288 with 1 Axes>"
            ],
            "image/png": "[encoded data removed]"
          },
          "metadata": {
            "needs_background": "light"
          }
        }
      ],
      "source": [
        "plt.xlabel('# Iterations')\n",
        "plt.ylabel('Cross entropy Loss')\n",
        "plt.plot(history.history['loss'], color='blue',label = \"train loss\")\n",
        "plt.plot(history.history['val_loss'], color='orange',label = \"val_loss\")\n",
        "plt.legend()\n",
        "plt.grid()\n",
        "plt.savefig(folder + \"loss.jpeg\")\n",
        "plt.show()"
      ],
      "id": "vG8lgsK2dfFi"
    },
    {
      "cell_type": "code",
      "execution_count": null,
      "metadata": {
        "colab": {
          "base_uri": "https://localhost:8080/",
          "height": 279
        },
        "outputId": "1a687b92-2e48-433a-dc70-618423e16317",
        "id": "TbhncIiIdfFi"
      },
      "outputs": [
        {
          "output_type": "display_data",
          "data": {
            "text/plain": [
              "<Figure size 432x288 with 1 Axes>"
            ],
            "image/png": "[encoded data removed]"
          },
          "metadata": {
            "needs_background": "light"
          }
        }
      ],
      "source": [
        "plt.xlabel('# Iterations')\n",
        "plt.ylabel('Accuracy')\n",
        "plt.plot(history.history['accuracy'], color='blue',label = \"train accuracy\")\n",
        "plt.plot(history.history['val_accuracy'], color='orange',label = \"val_accuracy\")\n",
        "plt.grid()\n",
        "plt.legend()\n",
        "plt.savefig(folder + \"accuracy.jpeg\")\n",
        "plt.show()"
      ],
      "id": "TbhncIiIdfFi"
    },
    {
      "cell_type": "code",
      "execution_count": null,
      "metadata": {
        "colab": {
          "base_uri": "https://localhost:8080/",
          "height": 296
        },
        "outputId": "ba380e8a-e362-4332-d4a1-48a6b76fcc45",
        "id": "TdiEFr-wdfFi"
      },
      "outputs": [
        {
          "output_type": "stream",
          "name": "stdout",
          "text": [
            "41/41 [==============================] - 2s 27ms/step\n"
          ]
        },
        {
          "output_type": "display_data",
          "data": {
            "text/plain": [
              "<Figure size 432x288 with 2 Axes>"
            ],
            "image/png": "[encoded data removed]"
          },
          "metadata": {
            "needs_background": "light"
          }
        }
      ],
      "source": [
        "ConfusionMatrixDisplay(confusion_matrix(tf.argmax(Y_test,axis = 1), tf.argmax(model.predict(X_test),axis = 1))).plot()\n",
        "plt.savefig( folder + \"confusionmatrix.jpeg\")\n",
        "plt.show()"
      ],
      "id": "TdiEFr-wdfFi"
    },
    {
      "cell_type": "code",
      "execution_count": null,
      "metadata": {
        "colab": {
          "base_uri": "https://localhost:8080/",
          "height": 312
        },
        "outputId": "bad9c205-321a-49b0-f7c2-c10bd3ff822e",
        "id": "6PToczBEdfFi"
      },
      "outputs": [
        {
          "output_type": "stream",
          "name": "stdout",
          "text": [
            "41/41 [==============================] - 1s 25ms/step\n"
          ]
        },
        {
          "output_type": "display_data",
          "data": {
            "text/plain": [
              "<Figure size 432x288 with 1 Axes>"
            ],
            "image/png": "[encoded data removed]"
          },
          "metadata": {
            "needs_background": "light"
          }
        }
      ],
      "source": [
        "from sklearn.metrics import auc\n",
        "from sklearn.metrics import roc_curve\n",
        "y_pred_keras = tf.argmax(model.predict(X_test),axis = 1)\n",
        "fpr_keras, tpr_keras, thresholds_keras = roc_curve(tf.argmax(Y_test,axis = 1), y_pred_keras)\n",
        "auc_keras = auc(fpr_keras, tpr_keras)\n",
        "plt.figure(1)\n",
        "plt.plot([0, 1], [0, 1], 'k--')\n",
        "plt.plot(fpr_keras, tpr_keras, label='Keras (area = {:.3f})'.format(auc_keras))\n",
        "# plt.plot(fpr_rf, tpr_rf, label='RF (area = {:.3f})'.format(auc_rf))\n",
        "plt.xlabel('False positive rate')\n",
        "plt.ylabel('True positive rate')\n",
        "plt.title('ROC curve')\n",
        "plt.legend(loc='best')\n",
        "plt.savefig(folder + \"roc.jpeg\")\n",
        "plt.show()"
      ],
      "id": "6PToczBEdfFi"
    }
  ],
  "metadata": {
    "accelerator": "GPU",
    "colab": {
      "provenance": []
    },
    "gpuClass": "standard",
    "kernelspec": {
      "display_name": "Python 3",
      "language": "python",
      "name": "python3"
    },
    "language_info": {
      "codemirror_mode": {
        "name": "ipython",
        "version": 3
      },
      "file_extension": ".py",
      "mimetype": "text/x-python",
      "name": "python",
      "nbconvert_exporter": "python",
      "pygments_lexer": "ipython3",
      "version": "3.10.7 (tags/v3.10.7:6cc6b13, Sep  5 2022, 14:08:36) [MSC v.1933 64 bit (AMD64)]"
    },
    "vscode": {
      "interpreter": {
        "hash": "2dcff298e6fc9f300c172f449ac5b974b753c4428b95c0ffa294019aef922779"
      }
    }
  },
  "nbformat": 4,
  "nbformat_minor": 5
}