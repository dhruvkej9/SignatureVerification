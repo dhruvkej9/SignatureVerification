{
  "cells": [
    {
      "cell_type": "markdown",
      "metadata": {
        "id": "ee026f90-229f-4c0e-9d12-af36878dbb53"
      },
      "source": [
        "# Model - 3 (ResNet)\n",
        "This model is a ResNet Model for the task of automatic verification of offline signatures."
      ],
      "id": "ee026f90-229f-4c0e-9d12-af36878dbb53"
    },
    {
      "cell_type": "code",
      "execution_count": null,
      "metadata": {
        "id": "a44c2ba1-27ba-4b07-b342-989d53f16f41"
      },
      "outputs": [],
      "source": [
        "from tensorflow.keras.layers import Activation, Add, AvgPool2D, BatchNormalization, Conv2D, Dense, Flatten, Input, MaxPool2D, ZeroPadding2D\n",
        "from tensorflow.keras.models import Model, Sequential\n",
        "from tensorflow.keras.initializers import random_uniform, glorot_uniform, constant\n",
        "from tensorflow.keras.utils import plot_model\n",
        "from keras.callbacks import EarlyStopping, ModelCheckpoint, ReduceLROnPlateau\n",
        "\n",
        "from h5py import File\n",
        "import matplotlib.pyplot as plt\n",
        "import numpy as np\n",
        "from numpy.random import permutation, randint, rand\n",
        "from numpy import rint\n",
        "import os\n",
        "import seaborn as sns\n",
        "from sklearn.metrics import confusion_matrix, ConfusionMatrixDisplay\n",
        "import tensorflow as tf\n",
        "\n",
        "from numpy import expand_dims\n",
        "from sklearn.model_selection import train_test_split\n",
        "from tensorflow.keras.preprocessing.image import load_img\n",
        "from tensorflow.keras.preprocessing.image import img_to_array\n",
        "from keras.preprocessing.image import ImageDataGenerator\n",
        "from tensorflow import keras\n",
        "from tensorflow import one_hot, reshape\n",
        "from keras.layers import BatchNormalization\n",
        "import cv2\n",
        "\n",
        "# from keras.models import Sequential\n",
        "from tensorflow.keras.optimizers import Adam,SGD\n",
        "from tensorflow.keras import Sequential\n",
        "from tensorflow.keras.initializers import glorot_uniform\n",
        "from tensorflow.keras.utils import plot_model"
      ],
      "id": "a44c2ba1-27ba-4b07-b342-989d53f16f41"
    },
    {
      "cell_type": "code",
      "execution_count": null,
      "metadata": {
        "id": "d86935f1"
      },
      "outputs": [],
      "source": [
        "def identity_block(X, f, filters, training=True, initializer=random_uniform, activation='relu', seed=0):\n",
        "    F1, F2, F3 = filters\n",
        "    Y = X\n",
        "\n",
        "    Y = Conv2D(filters=F1, kernel_size=1, strides=1, padding='valid', kernel_initializer=initializer(seed=seed)) (Y)\n",
        "    Y = BatchNormalization() (Y, training=training)\n",
        "    Y = Activation(activation = activation) (Y)\n",
        "\n",
        "    Y = Conv2D(filters=F2, kernel_size=f, strides=1, padding='same', kernel_initializer=initializer(seed=seed)) (Y)\n",
        "    Y = BatchNormalization() (Y, training=training)\n",
        "    Y = Activation(activation = activation) (Y)\n",
        "\n",
        "    Y = Conv2D(filters=F3, kernel_size=1, strides=1, padding='valid', kernel_initializer=initializer(seed=seed)) (Y)\n",
        "    Y = BatchNormalization() (Y, training=training)\n",
        "\n",
        "    Y = Add() ([Y, X])\n",
        "    Y = Activation(activation = activation) (Y)\n",
        "\n",
        "    return Y"
      ],
      "id": "d86935f1"
    },
    {
      "cell_type": "code",
      "execution_count": null,
      "metadata": {
        "id": "bff2845b"
      },
      "outputs": [],
      "source": [
        "def convolutional_block(X, f, filters, s=2, training=True, initializer=glorot_uniform, activation='relu', seed=0):\n",
        "    F1, F2, F3 = filters\n",
        "    Y = X\n",
        "\n",
        "    Y = Conv2D(filters=F1, kernel_size=1, strides=s, padding='valid', kernel_initializer=initializer(seed=seed)) (Y)\n",
        "    Y = BatchNormalization() (Y, training=training)\n",
        "    Y = Activation(activation = activation) (Y)\n",
        "\n",
        "    Y = Conv2D(filters=F2, kernel_size=f, strides=1, padding='same', kernel_initializer=initializer(seed=seed)) (Y)\n",
        "    Y = BatchNormalization() (Y, training=training)\n",
        "    Y = Activation(activation = activation) (Y)\n",
        "\n",
        "    Y = Conv2D(filters=F3, kernel_size=1, strides=1, padding='valid', kernel_initializer=initializer(seed=seed)) (Y)\n",
        "    Y = BatchNormalization() (Y, training=training)\n",
        "\n",
        "    X = Conv2D(filters=F3, kernel_size=1, strides=s, padding='valid', kernel_initializer=initializer(seed=seed)) (X)\n",
        "    X = BatchNormalization() (X, training=training)\n",
        "\n",
        "    Y = Add() ([Y, X])\n",
        "    Y = Activation(activation = activation) (Y)\n",
        "\n",
        "    return Y"
      ],
      "id": "bff2845b"
    },
    {
      "cell_type": "code",
      "execution_count": null,
      "metadata": {
        "id": "3b3166c7"
      },
      "outputs": [],
      "source": [
        "def  ResNet50(input_shape = (512, 512, 3), classes = 2, activation='relu', seed=0):\n",
        "    Y = Input(input_shape)\n",
        "    X = Y\n",
        "    X = ZeroPadding2D(3)(X)\n",
        "\n",
        "    X = Conv2D(filters=64, kernel_size = 7, strides = 2, kernel_initializer = glorot_uniform(seed=seed)) (X)\n",
        "    X = BatchNormalization() (X)\n",
        "    X = Activation(activation=activation) (X)\n",
        "    X = MaxPool2D((3, 3), strides=(2, 2)) (X)\n",
        "\n",
        "    X = convolutional_block(X, f = 3, filters = [64, 64, 256], s = 1, seed=seed)\n",
        "    X = identity_block(X, 3, [64, 64, 256], seed=seed)\n",
        "    X = identity_block(X, 3, [64, 64, 256], seed=seed)\n",
        "\n",
        "    X = convolutional_block(X, f = 3, filters = [128, 128, 512], s = 2, seed=seed)\n",
        "    X = identity_block(X, 3, [128, 128, 512], seed=seed)\n",
        "    X = identity_block(X, 3, [128, 128, 512], seed=seed)\n",
        "    X = identity_block(X, 3, [128, 128, 512], seed=seed)\n",
        "\n",
        "    X = convolutional_block(X, f = 3, filters = [256, 256, 1024], s = 2, seed=seed)\n",
        "    X = identity_block(X, 3, [256, 256, 1024], seed=seed)\n",
        "    X = identity_block(X, 3, [256, 256, 1024], seed=seed)\n",
        "    X = identity_block(X, 3, [256, 256, 1024], seed=seed)\n",
        "    X = identity_block(X, 3, [256, 256, 1024], seed=seed)\n",
        "    X = identity_block(X, 3, [256, 256, 1024], seed=seed)\n",
        "\n",
        "    X = convolutional_block(X, f = 3, filters = [512, 512, 2048], s = 2, seed=seed)\n",
        "    X = identity_block(X, 3, [512, 512, 2048], seed=seed)\n",
        "    X = identity_block(X, 3, [512, 512, 2048], seed=seed)\n",
        "\n",
        "    X = AvgPool2D(pool_size=(2, 2))(X)\n",
        "    X = Flatten()(X)\n",
        "    X = Dense(classes, activation='softmax', kernel_initializer = glorot_uniform(seed=seed))(X)\n",
        "\n",
        "    model = Model(inputs = Y, outputs = X)\n",
        "    return model"
      ],
      "id": "3b3166c7"
    },
    {
      "cell_type": "code",
      "execution_count": null,
      "metadata": {
        "id": "8fcf11bb"
      },
      "outputs": [],
      "source": [
        "plot_model(ResNet50(input_shape=(64, 128, 3)), show_shapes=True)"
      ],
      "id": "8fcf11bb"
    },
    {
      "cell_type": "code",
      "execution_count": null,
      "metadata": {
        "id": "c719b8f9-2cb9-44c2-b2c1-75ad0a13b835"
      },
      "outputs": [],
      "source": [
        "from h5py import File\n",
        "from matplotlib import pyplot\n",
        "import numpy as np\n",
        "import os\n",
        "from tensorflow import one_hot, reshape"
      ],
      "id": "c719b8f9-2cb9-44c2-b2c1-75ad0a13b835"
    },
    {
      "cell_type": "code",
      "execution_count": null,
      "metadata": {
        "colab": {
          "base_uri": "https://localhost:8080/"
        },
        "id": "cUEnMUvEyusn",
        "outputId": "99aed994-f6dd-4166-c04f-995cba0d3fd7"
      },
      "outputs": [
        {
          "output_type": "stream",
          "name": "stdout",
          "text": [
            "Mounted at /content/drive\n"
          ]
        }
      ],
      "source": [
        "from google.colab import drive\n",
        "drive.mount('/content/drive')"
      ],
      "id": "cUEnMUvEyusn"
    },
    {
      "cell_type": "code",
      "execution_count": null,
      "metadata": {
        "colab": {
          "base_uri": "https://localhost:8080/"
        },
        "id": "8a2a72dd",
        "outputId": "460b5236-1daa-4572-e97b-4900217c19a5"
      },
      "outputs": [
        {
          "output_type": "stream",
          "name": "stdout",
          "text": [
            "/content/drive/MyDrive/bhsig260bengali_128x643.h5\n",
            "Feature shape = (5400, 64, 128, 3)\n",
            "Label shape = (5400, 1)\n"
          ]
        }
      ],
      "source": [
        "# database = input('Database Name: ')\n",
        "# database = database.lower() + '_128x64.h5'\n",
        "# file = os.path.join(os.getcwd(), 'database', database)\n",
        "file = \"/content/drive/MyDrive/bhsig260bengali_128x643.h5\"\n",
        "print(file)\n",
        "try:\n",
        "    with File(file, 'r') as hdf:\n",
        "        X = np.array(hdf.get('X'))\n",
        "        Y = np.array(hdf.get('Y'))\n",
        "except Exception as ex:\n",
        "    template = \"An exception of type {0} occurred. Arguments:\\n{1!r}\"\n",
        "    message = template.format(type(ex).__name__, ex.args)\n",
        "    print(message)\n",
        "X = X / 255.0\n",
        "Y = Y * 1.0\n",
        "# Y = one_hot(Y * 1.0, depth=2)\n",
        "# Y = reshape(Y, (-1, 2))\n",
        "print(\"Feature shape =\", X.shape)\n",
        "print(\"Label shape =\", Y.shape)"
      ],
      "id": "8a2a72dd"
    },
    {
      "cell_type": "code",
      "execution_count": null,
      "metadata": {
        "colab": {
          "base_uri": "https://localhost:8080/",
          "height": 265
        },
        "id": "HLeY-72N2zqf",
        "outputId": "96af1c79-b5e4-4afc-8a8b-e06b804c1998"
      },
      "outputs": [
        {
          "output_type": "display_data",
          "data": {
            "text/plain": [
              "<Figure size 432x288 with 1 Axes>"
            ],
            "image/png": "[encoded data removed]"
          },
          "metadata": {
            "needs_background": "light"
          }
        }
      ],
      "source": [
        "ax = sns.countplot(x = Y.reshape(Y.shape[0]))\n",
        "for p in ax.patches:\n",
        "   ax.annotate('{:}'.format(p.get_height()), (p.get_x()+0.25, p.get_height()+0.01))"
      ],
      "id": "HLeY-72N2zqf"
    },
    {
      "cell_type": "code",
      "execution_count": null,
      "metadata": {
        "colab": {
          "base_uri": "https://localhost:8080/"
        },
        "id": "TggYch4G3hVh",
        "outputId": "33f75f0e-c60c-4203-f081-0a16e3ce184d"
      },
      "outputs": [
        {
          "output_type": "execute_result",
          "data": {
            "text/plain": [
              "{0: 0.8997000999666778, 1: 1.1254689453939142}"
            ]
          },
          "metadata": {},
          "execution_count": 11
        }
      ],
      "source": [
        "import sklearn\n",
        "class_weights = sklearn.utils.class_weight.compute_class_weight(class_weight = \"balanced\",classes = np.unique(Y),y = Y.reshape(Y.shape[0]))\n",
        "class_weight_dict = dict(enumerate(class_weights))\n",
        "class_weight_dict"
      ],
      "id": "TggYch4G3hVh"
    },
    {
      "cell_type": "code",
      "execution_count": null,
      "metadata": {
        "colab": {
          "base_uri": "https://localhost:8080/"
        },
        "id": "vMsyOKHI3kFi",
        "outputId": "edf12745-068a-419d-df99-8b50ab2eb8af"
      },
      "outputs": [
        {
          "output_type": "stream",
          "name": "stdout",
          "text": [
            "seed = 3\n",
            "Shape of Features in training set = (3779, 64, 128, 3)\n",
            "Shape of Labels in training set = (3779, 1)\n"
          ]
        }
      ],
      "source": [
        "seed=randint(10)\n",
        "# metadata['split_seed']=seed\n",
        "print('seed =', seed)\n",
        "indices = permutation(X.shape[0])\n",
        "# print(X)\n",
        "same = True\n",
        "if same:\n",
        "    m = int(0.70 * X.shape[0])\n",
        "    n = int(0.15 * X.shape[0])\n",
        "    training_id, validation_id, test_id = indices[:m], indices[m: m + n], indices[m+n:]\n",
        "    X_train, X_test, X_validate = X[training_id], X[test_id], X[validation_id]\n",
        "    Y_train, Y_test, Y_validate = Y[training_id], Y[test_id], Y[validation_id]\n",
        "else:\n",
        "    m = int(0.70 * X.shape[0])\n",
        "    training_id, validation_id = indices[:m], indices[m:]\n",
        "    X_train, X_validate = X[training_id], X[validation_id]\n",
        "    Y_train, Y_validate = Y[training_id], Y[validation_id]\n",
        "print(\"Shape of Features in training set =\", X_train.shape)\n",
        "print(\"Shape of Labels in training set =\", Y_train.shape)\n",
        "\n",
        "del Y,X"
      ],
      "id": "vMsyOKHI3kFi"
    },
    {
      "cell_type": "code",
      "execution_count": null,
      "metadata": {
        "id": "MS0WNoUX3u49"
      },
      "outputs": [],
      "source": [
        "#One hot Encoding\n",
        "Y_train = one_hot(Y_train, depth=2)\n",
        "Y_train = reshape(Y_train, (-1, 2))\n",
        "\n",
        "Y_test = one_hot(Y_test, depth=2)\n",
        "Y_test = reshape(Y_test, (-1, 2))\n",
        "\n",
        "Y_validate = one_hot(Y_validate, depth=2)\n",
        "Y_validate = reshape(Y_validate, (-1, 2))"
      ],
      "id": "MS0WNoUX3u49"
    },
    {
      "cell_type": "code",
      "execution_count": null,
      "metadata": {
        "colab": {
          "base_uri": "https://localhost:8080/"
        },
        "id": "2UDzGynS3wrv",
        "outputId": "540daa2c-4e3d-48fb-8935-02f1a9c6d333"
      },
      "outputs": [
        {
          "output_type": "stream",
          "name": "stdout",
          "text": [
            "Shape of Labels in training set = (3779, 2)\n"
          ]
        }
      ],
      "source": [
        "print(\"Shape of Labels in training set =\", Y_train.shape)"
      ],
      "id": "2UDzGynS3wrv"
    },
    {
      "cell_type": "code",
      "execution_count": null,
      "metadata": {
        "id": "0a875b04"
      },
      "outputs": [],
      "source": [
        "with tf.device('/device:GPU:0'):\n",
        "  model = ResNet50(input_shape=(64, 128, 3))\n",
        "  SGD = tf.keras.optimizers.SGD(learning_rate = 1e-02,momentum = 0.9)\n",
        "  model.compile(optimizer = SGD, loss='binary_crossentropy', metrics=['accuracy'])"
      ],
      "id": "0a875b04"
    },
    {
      "cell_type": "markdown",
      "source": [
        "## Model Training for 10 epochs\n",
        "\n",
        "Optimizer - Adam (default hyperparameter)\n",
        "\n",
        "Epochs - 10"
      ],
      "metadata": {
        "id": "qIHERsh_Xz0G"
      },
      "id": "qIHERsh_Xz0G"
    },
    {
      "cell_type": "code",
      "source": [
        "with tf.device('/device:GPU:0'):\n",
        "  history = model.fit(X_train, Y_train, epochs = 10, batch_size = 32, validation_data=(X_validate, Y_validate),shuffle=True\n",
        "                    ,class_weight = class_weight_dict)\n",
        "print('training done')"
      ],
      "metadata": {
        "colab": {
          "base_uri": "https://localhost:8080/"
        },
        "id": "FMgLoyFlT-Tb",
        "outputId": "a39a7ec3-d632-4510-b051-f53f81491c98"
      },
      "id": "FMgLoyFlT-Tb",
      "execution_count": null,
      "outputs": [
        {
          "output_type": "stream",
          "name": "stdout",
          "text": [
            "Epoch 1/10\n",
            "119/119 [==============================] - 16s 95ms/step - loss: 1.9024 - accuracy: 0.5578 - val_loss: 0.7199 - val_accuracy: 0.6704\n",
            "Epoch 2/10\n",
            "119/119 [==============================] - 10s 88ms/step - loss: 1.1240 - accuracy: 0.6055 - val_loss: 0.6314 - val_accuracy: 0.6951\n",
            "Epoch 3/10\n",
            "119/119 [==============================] - 10s 86ms/step - loss: 0.7371 - accuracy: 0.6740 - val_loss: 0.6902 - val_accuracy: 0.6790\n",
            "Epoch 4/10\n",
            "119/119 [==============================] - 10s 84ms/step - loss: 0.7697 - accuracy: 0.6600 - val_loss: 0.6341 - val_accuracy: 0.6975\n",
            "Epoch 5/10\n",
            "119/119 [==============================] - 10s 85ms/step - loss: 0.6997 - accuracy: 0.6960 - val_loss: 0.5858 - val_accuracy: 0.7235\n",
            "Epoch 6/10\n",
            "119/119 [==============================] - 10s 85ms/step - loss: 0.6792 - accuracy: 0.7020 - val_loss: 0.7866 - val_accuracy: 0.5272\n",
            "Epoch 7/10\n",
            "119/119 [==============================] - 10s 85ms/step - loss: 0.6327 - accuracy: 0.7004 - val_loss: 0.5366 - val_accuracy: 0.7605\n",
            "Epoch 8/10\n",
            "119/119 [==============================] - 10s 87ms/step - loss: 0.6312 - accuracy: 0.7438 - val_loss: 0.7071 - val_accuracy: 0.6531\n",
            "Epoch 9/10\n",
            "119/119 [==============================] - 10s 83ms/step - loss: 0.6014 - accuracy: 0.7505 - val_loss: 0.4950 - val_accuracy: 0.7802\n",
            "Epoch 10/10\n",
            "119/119 [==============================] - 10s 83ms/step - loss: 0.4857 - accuracy: 0.7804 - val_loss: 0.6288 - val_accuracy: 0.7333\n",
            "training done\n"
          ]
        }
      ]
    },
    {
      "cell_type": "code",
      "execution_count": null,
      "metadata": {
        "id": "6aQwva3u1q2B"
      },
      "outputs": [],
      "source": [
        "import pickle\n",
        "folder = \"/content/drive/MyDrive/BengaliResNetEPOCHS10/\""
      ],
      "id": "6aQwva3u1q2B"
    },
    {
      "cell_type": "code",
      "source": [
        "with open(folder  + 'trainHistoryDict', 'wb') as file_pi:\n",
        "       pickle.dump(history, file_pi)\n",
        "model.save(folder + 'model.h5')"
      ],
      "metadata": {
        "colab": {
          "base_uri": "https://localhost:8080/"
        },
        "id": "Iafpr4bvVWQL",
        "outputId": "e78ba9fe-387d-4722-8cf9-066bdc702fd3"
      },
      "id": "Iafpr4bvVWQL",
      "execution_count": null,
      "outputs": [
        {
          "output_type": "stream",
          "name": "stderr",
          "text": [
            "WARNING:absl:Found untraced functions such as _jit_compiled_convolution_op, _jit_compiled_convolution_op, _jit_compiled_convolution_op, _jit_compiled_convolution_op, _jit_compiled_convolution_op while saving (showing 5 of 53). These functions will not be directly callable after loading.\n"
          ]
        }
      ]
    },
    {
      "cell_type": "code",
      "execution_count": null,
      "metadata": {
        "id": "JvNjOJm61k7z"
      },
      "outputs": [],
      "source": [
        "history = pickle.load(open(folder + 'trainHistoryDict', \"rb\"))\n",
        "model = tf.keras.models.load_model(folder + 'model.h5')"
      ],
      "id": "JvNjOJm61k7z"
    },
    {
      "cell_type": "markdown",
      "source": [
        "## Plotting\n",
        "\n",
        "Optimizer - Adam (default hyperparameter)\n",
        "\n",
        "Epochs - 10"
      ],
      "metadata": {
        "id": "T3kXxxXEYMKQ"
      },
      "id": "T3kXxxXEYMKQ"
    },
    {
      "cell_type": "code",
      "execution_count": null,
      "metadata": {
        "id": "30c15cff",
        "colab": {
          "base_uri": "https://localhost:8080/",
          "height": 279
        },
        "outputId": "12f884cb-82b6-467d-c1e0-93a6eebf3e4b"
      },
      "outputs": [
        {
          "output_type": "display_data",
          "data": {
            "text/plain": [
              "<Figure size 432x288 with 1 Axes>"
            ],
            "image/png": "[encoded data removed]"
          },
          "metadata": {
            "needs_background": "light"
          }
        }
      ],
      "source": [
        "plt.xlabel('# Iterations')\n",
        "plt.ylabel('Cross entropy Loss')\n",
        "plt.plot(history.history['loss'], color='blue',label = \"train loss\")\n",
        "plt.plot(history.history['val_loss'], color='orange',label = \"val_loss\")\n",
        "plt.legend()\n",
        "plt.grid()\n",
        "plt.savefig(folder + \"loss.jpeg\")\n",
        "plt.show()"
      ],
      "id": "30c15cff"
    },
    {
      "cell_type": "code",
      "execution_count": null,
      "metadata": {
        "id": "96fed48a",
        "colab": {
          "base_uri": "https://localhost:8080/",
          "height": 279
        },
        "outputId": "63feacc9-f924-41f5-f9d9-8b5d3d4863b4"
      },
      "outputs": [
        {
          "output_type": "display_data",
          "data": {
            "text/plain": [
              "<Figure size 432x288 with 1 Axes>"
            ],
            "image/png": "[encoded data removed]"
          },
          "metadata": {
            "needs_background": "light"
          }
        }
      ],
      "source": [
        "plt.xlabel('# Iterations')\n",
        "plt.ylabel('Accuracy')\n",
        "plt.plot(history.history['accuracy'], color='blue',label = \"train accuracy\")\n",
        "plt.plot(history.history['val_accuracy'], color='orange',label = \"val_accuracy\")\n",
        "plt.grid()\n",
        "plt.legend()\n",
        "plt.savefig(folder + \"accuracy.jpeg\")\n",
        "plt.show()"
      ],
      "id": "96fed48a"
    },
    {
      "cell_type": "code",
      "execution_count": null,
      "metadata": {
        "id": "UE8JSzTM1k-c",
        "colab": {
          "base_uri": "https://localhost:8080/",
          "height": 299
        },
        "outputId": "ceeb9a82-e0a1-4a22-d280-55cfec359f76"
      },
      "outputs": [
        {
          "output_type": "stream",
          "name": "stdout",
          "text": [
            "26/26 [==============================] - 2s 29ms/step\n"
          ]
        },
        {
          "output_type": "display_data",
          "data": {
            "text/plain": [
              "<Figure size 432x288 with 2 Axes>"
            ],
            "image/png": "[encoded data removed]"
          },
          "metadata": {
            "needs_background": "light"
          }
        }
      ],
      "source": [
        "ConfusionMatrixDisplay(confusion_matrix(tf.argmax(Y_test,axis = 1), tf.argmax(model.predict(X_test),axis = 1))).plot()\n",
        "plt.savefig( folder + \"confusionmatrix.jpeg\")\n",
        "plt.show()"
      ],
      "id": "UE8JSzTM1k-c"
    },
    {
      "cell_type": "code",
      "execution_count": null,
      "metadata": {
        "id": "tl0v1DMd1lB2",
        "colab": {
          "base_uri": "https://localhost:8080/",
          "height": 312
        },
        "outputId": "bafc5758-7157-4ee9-c4a8-e9883983508d"
      },
      "outputs": [
        {
          "output_type": "stream",
          "name": "stdout",
          "text": [
            "26/26 [==============================] - 1s 25ms/step\n"
          ]
        },
        {
          "output_type": "display_data",
          "data": {
            "text/plain": [
              "<Figure size 432x288 with 1 Axes>"
            ],
            "image/png": "[encoded data removed]"
          },
          "metadata": {
            "needs_background": "light"
          }
        }
      ],
      "source": [
        "from sklearn.metrics import auc\n",
        "from sklearn.metrics import roc_curve\n",
        "y_pred_keras = tf.argmax(model.predict(X_test),axis = 1)\n",
        "fpr_keras, tpr_keras, thresholds_keras = roc_curve(tf.argmax(Y_test,axis = 1), y_pred_keras)\n",
        "auc_keras = auc(fpr_keras, tpr_keras)\n",
        "plt.figure(1)\n",
        "plt.plot([0, 1], [0, 1], 'k--')\n",
        "plt.plot(fpr_keras, tpr_keras, label='Keras (area = {:.3f})'.format(auc_keras))\n",
        "# plt.plot(fpr_rf, tpr_rf, label='RF (area = {:.3f})'.format(auc_rf))\n",
        "plt.xlabel('False positive rate')\n",
        "plt.ylabel('True positive rate')\n",
        "plt.title('ROC curve')\n",
        "plt.legend(loc='best')\n",
        "plt.savefig(folder + \"roc.jpeg\")\n",
        "plt.show()"
      ],
      "id": "tl0v1DMd1lB2"
    },
    {
      "cell_type": "markdown",
      "source": [
        "## Model Training for 100 epochs\n",
        "\n",
        "\n",
        "Optimizer - SGD (lr = 0.01)\n",
        "\n",
        "Epochs - 100 (Early Stopping)"
      ],
      "metadata": {
        "id": "H41eN8ROYPZf"
      },
      "id": "H41eN8ROYPZf"
    },
    {
      "cell_type": "code",
      "source": [
        "import pickle\n",
        "folder = \"/content/drive/MyDrive/BengaliResNetEPOCHS100/\""
      ],
      "metadata": {
        "id": "770-M6wWYeQ4"
      },
      "id": "770-M6wWYeQ4",
      "execution_count": null,
      "outputs": []
    },
    {
      "cell_type": "code",
      "source": [
        "with tf.device('/device:GPU:0'):\n",
        "  callbacks = [\n",
        "    EarlyStopping(patience = 5, verbose = 1),\n",
        "    ModelCheckpoint(folder + 'model-{epoch:03d}.h5'\n",
        "    , verbose=1,save_best_only = True)\n",
        "]"
      ],
      "metadata": {
        "id": "-_cOz9wUZl4n"
      },
      "id": "-_cOz9wUZl4n",
      "execution_count": null,
      "outputs": []
    },
    {
      "cell_type": "code",
      "source": [
        "with tf.device('/device:GPU:0'):\n",
        "  history = model.fit(X_train, Y_train, epochs = 100, batch_size = 32, validation_data=(X_validate, Y_validate),shuffle=True\n",
        "                    ,class_weight = class_weight_dict,callbacks = callbacks)\n",
        "print('training done')"
      ],
      "metadata": {
        "colab": {
          "base_uri": "https://localhost:8080/"
        },
        "id": "4nJSemikYavm",
        "outputId": "377e43a8-3a78-4ecf-9be8-5b9072d40d24"
      },
      "id": "4nJSemikYavm",
      "execution_count": null,
      "outputs": [
        {
          "output_type": "stream",
          "name": "stdout",
          "text": [
            "Epoch 1/100\n",
            "119/119 [==============================] - ETA: 0s - loss: 1.7476 - accuracy: 0.5335\n",
            "Epoch 1: val_loss improved from inf to 0.85154, saving model to /content/drive/MyDrive/BengaliResNetEPOCHS100/model-001.h5\n",
            "119/119 [==============================] - 26s 110ms/step - loss: 1.7476 - accuracy: 0.5335 - val_loss: 0.8515 - val_accuracy: 0.5852\n",
            "Epoch 2/100\n",
            "119/119 [==============================] - ETA: 0s - loss: 0.9917 - accuracy: 0.6031\n",
            "Epoch 2: val_loss did not improve from 0.85154\n",
            "119/119 [==============================] - 10s 85ms/step - loss: 0.9917 - accuracy: 0.6031 - val_loss: 0.9137 - val_accuracy: 0.5938\n",
            "Epoch 3/100\n",
            "118/119 [============================>.] - ETA: 0s - loss: 0.7554 - accuracy: 0.6552\n",
            "Epoch 3: val_loss improved from 0.85154 to 0.66213, saving model to /content/drive/MyDrive/BengaliResNetEPOCHS100/model-003.h5\n",
            "119/119 [==============================] - 11s 95ms/step - loss: 0.7550 - accuracy: 0.6555 - val_loss: 0.6621 - val_accuracy: 0.7148\n",
            "Epoch 4/100\n",
            "118/119 [============================>.] - ETA: 0s - loss: 0.7654 - accuracy: 0.6547\n",
            "Epoch 4: val_loss did not improve from 0.66213\n",
            "119/119 [==============================] - 10s 85ms/step - loss: 0.7688 - accuracy: 0.6544 - val_loss: 0.7625 - val_accuracy: 0.5481\n",
            "Epoch 5/100\n",
            "118/119 [============================>.] - ETA: 0s - loss: 0.7498 - accuracy: 0.6602\n",
            "Epoch 5: val_loss did not improve from 0.66213\n",
            "119/119 [==============================] - 10s 88ms/step - loss: 0.7502 - accuracy: 0.6602 - val_loss: 0.6917 - val_accuracy: 0.6556\n",
            "Epoch 6/100\n",
            "118/119 [============================>.] - ETA: 0s - loss: 0.6501 - accuracy: 0.7124\n",
            "Epoch 6: val_loss improved from 0.66213 to 0.64725, saving model to /content/drive/MyDrive/BengaliResNetEPOCHS100/model-006.h5\n",
            "119/119 [==============================] - 11s 94ms/step - loss: 0.6522 - accuracy: 0.7118 - val_loss: 0.6472 - val_accuracy: 0.6568\n",
            "Epoch 7/100\n",
            "118/119 [============================>.] - ETA: 0s - loss: 0.6646 - accuracy: 0.7013\n",
            "Epoch 7: val_loss did not improve from 0.64725\n",
            "119/119 [==============================] - 10s 85ms/step - loss: 0.6645 - accuracy: 0.7012 - val_loss: 0.9369 - val_accuracy: 0.5988\n",
            "Epoch 8/100\n",
            "118/119 [============================>.] - ETA: 0s - loss: 0.6576 - accuracy: 0.7100\n",
            "Epoch 8: val_loss improved from 0.64725 to 0.63311, saving model to /content/drive/MyDrive/BengaliResNetEPOCHS100/model-008.h5\n",
            "119/119 [==============================] - 11s 92ms/step - loss: 0.6580 - accuracy: 0.7097 - val_loss: 0.6331 - val_accuracy: 0.7333\n",
            "Epoch 9/100\n",
            "118/119 [============================>.] - ETA: 0s - loss: 0.6322 - accuracy: 0.7338\n",
            "Epoch 9: val_loss did not improve from 0.63311\n",
            "119/119 [==============================] - 10s 83ms/step - loss: 0.6325 - accuracy: 0.7335 - val_loss: 0.9206 - val_accuracy: 0.5457\n",
            "Epoch 10/100\n",
            "118/119 [============================>.] - ETA: 0s - loss: 0.5946 - accuracy: 0.7381\n",
            "Epoch 10: val_loss improved from 0.63311 to 0.58896, saving model to /content/drive/MyDrive/BengaliResNetEPOCHS100/model-010.h5\n",
            "119/119 [==============================] - 11s 93ms/step - loss: 0.5949 - accuracy: 0.7380 - val_loss: 0.5890 - val_accuracy: 0.7568\n",
            "Epoch 11/100\n",
            "118/119 [============================>.] - ETA: 0s - loss: 0.5800 - accuracy: 0.7418\n",
            "Epoch 11: val_loss improved from 0.58896 to 0.57073, saving model to /content/drive/MyDrive/BengaliResNetEPOCHS100/model-011.h5\n",
            "119/119 [==============================] - 12s 97ms/step - loss: 0.5802 - accuracy: 0.7417 - val_loss: 0.5707 - val_accuracy: 0.7531\n",
            "Epoch 12/100\n",
            "119/119 [==============================] - ETA: 0s - loss: 0.5221 - accuracy: 0.7716\n",
            "Epoch 12: val_loss did not improve from 0.57073\n",
            "119/119 [==============================] - 10s 84ms/step - loss: 0.5221 - accuracy: 0.7716 - val_loss: 0.5917 - val_accuracy: 0.7136\n",
            "Epoch 13/100\n",
            "118/119 [============================>.] - ETA: 0s - loss: 0.4638 - accuracy: 0.8053\n",
            "Epoch 13: val_loss improved from 0.57073 to 0.47878, saving model to /content/drive/MyDrive/BengaliResNetEPOCHS100/model-013.h5\n",
            "119/119 [==============================] - 11s 93ms/step - loss: 0.4634 - accuracy: 0.8055 - val_loss: 0.4788 - val_accuracy: 0.7963\n",
            "Epoch 14/100\n",
            "118/119 [============================>.] - ETA: 0s - loss: 0.4172 - accuracy: 0.8220\n",
            "Epoch 14: val_loss improved from 0.47878 to 0.47324, saving model to /content/drive/MyDrive/BengaliResNetEPOCHS100/model-014.h5\n",
            "119/119 [==============================] - 11s 95ms/step - loss: 0.4170 - accuracy: 0.8222 - val_loss: 0.4732 - val_accuracy: 0.8049\n",
            "Epoch 15/100\n",
            "118/119 [============================>.] - ETA: 0s - loss: 0.3735 - accuracy: 0.8419\n",
            "Epoch 15: val_loss improved from 0.47324 to 0.46428, saving model to /content/drive/MyDrive/BengaliResNetEPOCHS100/model-015.h5\n",
            "119/119 [==============================] - 11s 97ms/step - loss: 0.3743 - accuracy: 0.8415 - val_loss: 0.4643 - val_accuracy: 0.8136\n",
            "Epoch 16/100\n",
            "118/119 [============================>.] - ETA: 0s - loss: 0.3894 - accuracy: 0.8403\n",
            "Epoch 16: val_loss did not improve from 0.46428\n",
            "119/119 [==============================] - 10s 84ms/step - loss: 0.3891 - accuracy: 0.8404 - val_loss: 0.5115 - val_accuracy: 0.7877\n",
            "Epoch 17/100\n",
            "118/119 [============================>.] - ETA: 0s - loss: 0.3111 - accuracy: 0.8776\n",
            "Epoch 17: val_loss improved from 0.46428 to 0.45888, saving model to /content/drive/MyDrive/BengaliResNetEPOCHS100/model-017.h5\n",
            "119/119 [==============================] - 11s 93ms/step - loss: 0.3124 - accuracy: 0.8775 - val_loss: 0.4589 - val_accuracy: 0.7975\n",
            "Epoch 18/100\n",
            "118/119 [============================>.] - ETA: 0s - loss: 0.3301 - accuracy: 0.8628\n",
            "Epoch 18: val_loss did not improve from 0.45888\n",
            "119/119 [==============================] - 10s 84ms/step - loss: 0.3299 - accuracy: 0.8629 - val_loss: 0.5235 - val_accuracy: 0.7988\n",
            "Epoch 19/100\n",
            "118/119 [============================>.] - ETA: 0s - loss: 0.2622 - accuracy: 0.8922\n",
            "Epoch 19: val_loss did not improve from 0.45888\n",
            "119/119 [==============================] - 10s 83ms/step - loss: 0.2643 - accuracy: 0.8920 - val_loss: 0.7233 - val_accuracy: 0.7173\n",
            "Epoch 20/100\n",
            "118/119 [============================>.] - ETA: 0s - loss: 0.5069 - accuracy: 0.7728\n",
            "Epoch 20: val_loss did not improve from 0.45888\n",
            "119/119 [==============================] - 10s 83ms/step - loss: 0.5070 - accuracy: 0.7727 - val_loss: 0.4629 - val_accuracy: 0.8148\n",
            "Epoch 21/100\n",
            "118/119 [============================>.] - ETA: 0s - loss: 0.3212 - accuracy: 0.8713\n",
            "Epoch 21: val_loss improved from 0.45888 to 0.42735, saving model to /content/drive/MyDrive/BengaliResNetEPOCHS100/model-021.h5\n",
            "119/119 [==============================] - 11s 93ms/step - loss: 0.3213 - accuracy: 0.8711 - val_loss: 0.4273 - val_accuracy: 0.8222\n",
            "Epoch 22/100\n",
            "118/119 [============================>.] - ETA: 0s - loss: 0.2878 - accuracy: 0.8896\n",
            "Epoch 22: val_loss did not improve from 0.42735\n",
            "119/119 [==============================] - 10s 84ms/step - loss: 0.2882 - accuracy: 0.8894 - val_loss: 0.5692 - val_accuracy: 0.7741\n",
            "Epoch 23/100\n",
            "118/119 [============================>.] - ETA: 0s - loss: 0.2256 - accuracy: 0.9100\n",
            "Epoch 23: val_loss did not improve from 0.42735\n",
            "119/119 [==============================] - 10s 83ms/step - loss: 0.2257 - accuracy: 0.9098 - val_loss: 0.4685 - val_accuracy: 0.8160\n",
            "Epoch 24/100\n",
            "118/119 [============================>.] - ETA: 0s - loss: 0.2302 - accuracy: 0.9115\n",
            "Epoch 24: val_loss did not improve from 0.42735\n",
            "119/119 [==============================] - 10s 83ms/step - loss: 0.2305 - accuracy: 0.9114 - val_loss: 0.5148 - val_accuracy: 0.8309\n",
            "Epoch 25/100\n",
            "118/119 [============================>.] - ETA: 0s - loss: 0.1787 - accuracy: 0.9314\n",
            "Epoch 25: val_loss did not improve from 0.42735\n",
            "119/119 [==============================] - 10s 83ms/step - loss: 0.1790 - accuracy: 0.9312 - val_loss: 0.6064 - val_accuracy: 0.8111\n",
            "Epoch 26/100\n",
            "118/119 [============================>.] - ETA: 0s - loss: 0.1661 - accuracy: 0.9431\n",
            "Epoch 26: val_loss did not improve from 0.42735\n",
            "119/119 [==============================] - 10s 84ms/step - loss: 0.1660 - accuracy: 0.9431 - val_loss: 0.6085 - val_accuracy: 0.8173\n",
            "Epoch 26: early stopping\n",
            "training done\n"
          ]
        }
      ]
    },
    {
      "cell_type": "code",
      "source": [],
      "metadata": {
        "id": "JncMnIUKjNkv"
      },
      "id": "JncMnIUKjNkv",
      "execution_count": null,
      "outputs": []
    },
    {
      "cell_type": "markdown",
      "source": [
        "## Plotting\n",
        "\n",
        "Optimizer - SGD (lr = 0.01)\n",
        "\n",
        "Epochs - 100 (Early Stopping)"
      ],
      "metadata": {
        "id": "6Gkl3o-VdfFh"
      },
      "id": "6Gkl3o-VdfFh"
    },
    {
      "cell_type": "code",
      "execution_count": null,
      "metadata": {
        "colab": {
          "base_uri": "https://localhost:8080/",
          "height": 280
        },
        "outputId": "e501de58-3dcc-4660-c6c5-a824a7e58288",
        "id": "vG8lgsK2dfFi"
      },
      "outputs": [
        {
          "output_type": "display_data",
          "data": {
            "text/plain": [
              "<Figure size 432x288 with 1 Axes>"
            ],
            "image/png": "[encoded data removed]"
          },
          "metadata": {
            "needs_background": "light"
          }
        }
      ],
      "source": [
        "plt.xlabel('# Iterations')\n",
        "plt.ylabel('Cross entropy Loss')\n",
        "plt.plot(history.history['loss'], color='blue',label = \"train loss\")\n",
        "plt.plot(history.history['val_loss'], color='orange',label = \"val_loss\")\n",
        "plt.legend()\n",
        "plt.grid()\n",
        "plt.savefig(folder + \"loss.jpeg\")\n",
        "plt.show()"
      ],
      "id": "vG8lgsK2dfFi"
    },
    {
      "cell_type": "code",
      "execution_count": null,
      "metadata": {
        "colab": {
          "base_uri": "https://localhost:8080/",
          "height": 279
        },
        "outputId": "461841ba-9c1a-4e5d-be23-bb3412c7403c",
        "id": "TbhncIiIdfFi"
      },
      "outputs": [
        {
          "output_type": "display_data",
          "data": {
            "text/plain": [
              "<Figure size 432x288 with 1 Axes>"
            ],
            "image/png": "[encoded data removed]"
          },
          "metadata": {
            "needs_background": "light"
          }
        }
      ],
      "source": [
        "plt.xlabel('# Iterations')\n",
        "plt.ylabel('Accuracy')\n",
        "plt.plot(history.history['accuracy'], color='blue',label = \"train accuracy\")\n",
        "plt.plot(history.history['val_accuracy'], color='orange',label = \"val_accuracy\")\n",
        "plt.grid()\n",
        "plt.legend()\n",
        "plt.savefig(folder + \"accuracy.jpeg\")\n",
        "plt.show()"
      ],
      "id": "TbhncIiIdfFi"
    },
    {
      "cell_type": "code",
      "execution_count": null,
      "metadata": {
        "colab": {
          "base_uri": "https://localhost:8080/",
          "height": 296
        },
        "outputId": "df30b084-a66f-4368-d0be-b92853f1e199",
        "id": "TdiEFr-wdfFi"
      },
      "outputs": [
        {
          "output_type": "stream",
          "name": "stdout",
          "text": [
            "26/26 [==============================] - 1s 25ms/step\n"
          ]
        },
        {
          "output_type": "display_data",
          "data": {
            "text/plain": [
              "<Figure size 432x288 with 2 Axes>"
            ],
            "image/png": "[encoded data removed]"
          },
          "metadata": {
            "needs_background": "light"
          }
        }
      ],
      "source": [
        "ConfusionMatrixDisplay(confusion_matrix(tf.argmax(Y_test,axis = 1), tf.argmax(model.predict(X_test),axis = 1))).plot()\n",
        "plt.savefig( folder + \"confusionmatrix.jpeg\")\n",
        "plt.show()"
      ],
      "id": "TdiEFr-wdfFi"
    },
    {
      "cell_type": "code",
      "execution_count": null,
      "metadata": {
        "colab": {
          "base_uri": "https://localhost:8080/",
          "height": 312
        },
        "outputId": "34a61448-d168-4a75-fc1b-b7f05baa7e38",
        "id": "6PToczBEdfFi"
      },
      "outputs": [
        {
          "output_type": "stream",
          "name": "stdout",
          "text": [
            "26/26 [==============================] - 1s 25ms/step\n"
          ]
        },
        {
          "output_type": "display_data",
          "data": {
            "text/plain": [
              "<Figure size 432x288 with 1 Axes>"
            ],
            "image/png": "[encoded data removed]"
          },
          "metadata": {
            "needs_background": "light"
          }
        }
      ],
      "source": [
        "from sklearn.metrics import auc\n",
        "from sklearn.metrics import roc_curve\n",
        "y_pred_keras = tf.argmax(model.predict(X_test),axis = 1)\n",
        "fpr_keras, tpr_keras, thresholds_keras = roc_curve(tf.argmax(Y_test,axis = 1), y_pred_keras)\n",
        "auc_keras = auc(fpr_keras, tpr_keras)\n",
        "plt.figure(1)\n",
        "plt.plot([0, 1], [0, 1], 'k--')\n",
        "plt.plot(fpr_keras, tpr_keras, label='Keras (area = {:.3f})'.format(auc_keras))\n",
        "# plt.plot(fpr_rf, tpr_rf, label='RF (area = {:.3f})'.format(auc_rf))\n",
        "plt.xlabel('False positive rate')\n",
        "plt.ylabel('True positive rate')\n",
        "plt.title('ROC curve')\n",
        "plt.legend(loc='best')\n",
        "plt.savefig(folder + \"roc.jpeg\")\n",
        "plt.show()"
      ],
      "id": "6PToczBEdfFi"
    },
    {
      "cell_type": "code",
      "source": [],
      "metadata": {
        "id": "gbGP0uYXWv6_"
      },
      "id": "gbGP0uYXWv6_",
      "execution_count": null,
      "outputs": []
    }
  ],
  "metadata": {
    "accelerator": "GPU",
    "colab": {
      "provenance": []
    },
    "gpuClass": "standard",
    "kernelspec": {
      "display_name": "Python 3",
      "language": "python",
      "name": "python3"
    },
    "language_info": {
      "codemirror_mode": {
        "name": "ipython",
        "version": 3
      },
      "file_extension": ".py",
      "mimetype": "text/x-python",
      "name": "python",
      "nbconvert_exporter": "python",
      "pygments_lexer": "ipython3",
      "version": "3.10.7 (tags/v3.10.7:6cc6b13, Sep  5 2022, 14:08:36) [MSC v.1933 64 bit (AMD64)]"
    },
    "vscode": {
      "interpreter": {
        "hash": "2dcff298e6fc9f300c172f449ac5b974b753c4428b95c0ffa294019aef922779"
      }
    }
  },
  "nbformat": 4,
  "nbformat_minor": 5
}