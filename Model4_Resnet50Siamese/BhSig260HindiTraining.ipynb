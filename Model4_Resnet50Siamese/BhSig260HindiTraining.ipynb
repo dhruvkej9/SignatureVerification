{
  "cells": [
    {
      "cell_type": "markdown",
      "source": [
        "#Model 4 (ResNet50 + Siamese)"
      ],
      "metadata": {
        "id": "MrFnDlAZHgat"
      },
      "id": "MrFnDlAZHgat"
    },
    {
      "cell_type": "code",
      "execution_count": null,
      "metadata": {
        "id": "hxmrTxa8bFlL"
      },
      "outputs": [],
      "source": [
        "from h5py import File\n",
        "import matplotlib.pyplot as plt\n",
        "import numpy as np\n",
        "from numpy.random import permutation, randint, rand\n",
        "import os\n",
        "from tensorflow.keras.initializers import RandomNormal, Constant\n",
        "import tensorflow as tf\n",
        "from tensorflow.keras.backend import max, mean, sqrt, square, sum\n",
        "\n",
        "import seaborn as sns\n",
        "from tensorflow.keras.optimizers import Adam,RMSprop\n",
        "from keras.models import Model\n",
        "\n",
        "from tensorflow import keras\n",
        "from keras.layers import LeakyReLU, Softmax\n",
        "from keras.layers import Conv2D, Activation, Input,Dropout,Lambda,Flatten, Dense\n",
        "from keras.layers import Dense, Flatten, Reshape, Activation\n",
        "from keras.layers import BatchNormalization ,ZeroPadding2D\n",
        "\n",
        "from keras.layers import MaxPooling2D\n",
        "from keras.layers import Concatenate\n",
        "from keras.initializers import glorot_uniform\n",
        "from tensorflow.keras.utils import plot_model\n",
        "from keras.layers import Layer, InputSpec\n",
        "from keras.regularizers import l2\n",
        "from keras import backend as K\n",
        "from keras.callbacks import EarlyStopping, ModelCheckpoint, ReduceLROnPlateau\n",
        "from tensorflow import one_hot, reshape\n",
        "\n",
        "\n",
        "from tensorflow.keras.layers import Activation, Add, AvgPool2D, BatchNormalization, Conv2D, Dense, Flatten, Input, MaxPool2D, ZeroPadding2D\n",
        "from tensorflow.keras.models import Model, Sequential\n",
        "from tensorflow.keras.initializers import random_uniform, glorot_uniform, constant\n",
        "from tensorflow.keras.utils import plot_model\n",
        "from keras.callbacks import EarlyStopping, ModelCheckpoint, ReduceLROnPlateau\n",
        "\n",
        "from h5py import File\n",
        "import matplotlib.pyplot as plt\n",
        "import numpy as np\n",
        "from numpy.random import permutation, randint, rand\n",
        "from numpy import rint\n",
        "import os\n",
        "import seaborn as sns\n",
        "from sklearn.metrics import confusion_matrix, ConfusionMatrixDisplay\n",
        "import tensorflow as tf\n",
        "\n",
        "from numpy import expand_dims\n",
        "from sklearn.model_selection import train_test_split\n",
        "from tensorflow.keras.preprocessing.image import load_img\n",
        "from tensorflow.keras.preprocessing.image import img_to_array\n",
        "from keras.preprocessing.image import ImageDataGenerator\n",
        "from tensorflow import keras\n",
        "from tensorflow import one_hot, reshape\n",
        "from keras.layers import BatchNormalization\n",
        "import cv2\n",
        "\n",
        "# from keras.models import Sequential\n",
        "from tensorflow.keras.optimizers import Adam,SGD\n",
        "from tensorflow.keras import Sequential\n",
        "from tensorflow.keras.initializers import glorot_uniform\n",
        "from tensorflow.keras.utils import plot_model"
      ],
      "id": "hxmrTxa8bFlL"
    },
    {
      "cell_type": "code",
      "execution_count": null,
      "metadata": {
        "id": "bCfH_8o0DkFa"
      },
      "outputs": [],
      "source": [
        "import tensorflow as tf\n",
        "device_name = tf.test.gpu_device_name()\n",
        "if device_name != '/device:GPU:0':\n",
        "  raise SystemError('GPU device not found')\n",
        "print('Found GPU at: {}'.format(device_name))"
      ],
      "id": "bCfH_8o0DkFa"
    },
    {
      "cell_type": "code",
      "execution_count": null,
      "metadata": {
        "id": "utpE7sJVBNnT",
        "colab": {
          "base_uri": "https://localhost:8080/"
        },
        "outputId": "c97a1c79-5e3f-4b34-bf7e-a7bc79625eb7"
      },
      "outputs": [
        {
          "output_type": "stream",
          "name": "stdout",
          "text": [
            "Mounted at /content/drive\n"
          ]
        }
      ],
      "source": [
        "from google.colab import drive\n",
        "drive.mount('/content/drive')"
      ],
      "id": "utpE7sJVBNnT"
    },
    {
      "cell_type": "code",
      "execution_count": null,
      "metadata": {
        "id": "9fb16bf8-0430-4848-ab09-8963fe8daa1f",
        "colab": {
          "base_uri": "https://localhost:8080/"
        },
        "outputId": "e5d1ea05-c418-4500-d75b-ad8a5d2621f6"
      },
      "outputs": [
        {
          "output_type": "stream",
          "name": "stdout",
          "text": [
            "/content/drive/MyDrive/bigsig260155x220x1_siamese_preprocessed.h5\n",
            "(29880, 155, 220, 1)\n",
            "(29880, 155, 220, 1)\n",
            "(29880, 1)\n"
          ]
        }
      ],
      "source": [
        "with tf.device('/device:GPU:0'):\n",
        "  colab = True\n",
        "  # database = 'bigsig260_224x224_siamese_preprocessed.h5'\n",
        "  if colab:\n",
        "      # from google.colab import drive\n",
        "      # drive.mount('/content/gdrive')\n",
        "      file = '/content/drive/MyDrive/bigsig260155x220x1_siamese_preprocessed.h5'\n",
        "  else:\n",
        "      file = os.path.join(os.getcwd(),'RoboticLab', database)\n",
        "  print(file)\n",
        "  with File(file, 'r') as hdf:\n",
        "      S1 = np.array(hdf.get('S1'))\n",
        "      S2 = np.array(hdf.get('S2'))\n",
        "      Y = np.array(hdf.get('Y'))\n",
        "  print(S1.shape)\n",
        "  print(S2.shape)\n",
        "  print(Y.shape)"
      ],
      "id": "9fb16bf8-0430-4848-ab09-8963fe8daa1f"
    },
    {
      "cell_type": "code",
      "source": [
        "res_net = ResNet18(input_shape = (155, 220, 1),input_tensor = S1[1] ,weights='imagenet',classes = 2)"
      ],
      "metadata": {
        "id": "K2oaeedT2Ujo",
        "colab": {
          "base_uri": "https://localhost:8080/",
          "height": 311
        },
        "outputId": "9792cf69-f676-40d5-ec06-b8b9e2e9d5f1"
      },
      "id": "K2oaeedT2Ujo",
      "execution_count": null,
      "outputs": [
        {
          "output_type": "error",
          "ename": "AttributeError",
          "evalue": "ignored",
          "traceback": [
            "\u001b[0;31m---------------------------------------------------------------------------\u001b[0m",
            "\u001b[0;31mAttributeError\u001b[0m                            Traceback (most recent call last)",
            "\u001b[0;32m<ipython-input-13-c2a6c5eecb21>\u001b[0m in \u001b[0;36m<module>\u001b[0;34m\u001b[0m\n\u001b[0;32m----> 1\u001b[0;31m \u001b[0mres_net\u001b[0m \u001b[0;34m=\u001b[0m \u001b[0mResNet18\u001b[0m\u001b[0;34m(\u001b[0m\u001b[0minput_shape\u001b[0m \u001b[0;34m=\u001b[0m \u001b[0;34m(\u001b[0m\u001b[0;36m155\u001b[0m\u001b[0;34m,\u001b[0m \u001b[0;36m220\u001b[0m\u001b[0;34m,\u001b[0m \u001b[0;36m1\u001b[0m\u001b[0;34m)\u001b[0m\u001b[0;34m,\u001b[0m\u001b[0minput_tensor\u001b[0m \u001b[0;34m=\u001b[0m \u001b[0mS1\u001b[0m\u001b[0;34m[\u001b[0m\u001b[0;36m1\u001b[0m\u001b[0;34m]\u001b[0m \u001b[0;34m,\u001b[0m\u001b[0mweights\u001b[0m\u001b[0;34m=\u001b[0m\u001b[0;34m'imagenet'\u001b[0m\u001b[0;34m,\u001b[0m\u001b[0mclasses\u001b[0m \u001b[0;34m=\u001b[0m \u001b[0;36m2\u001b[0m\u001b[0;34m)\u001b[0m\u001b[0;34m\u001b[0m\u001b[0;34m\u001b[0m\u001b[0m\n\u001b[0m",
            "\u001b[0;32m/content/classification_models/models/resnet.py\u001b[0m in \u001b[0;36mResNet18\u001b[0;34m(input_shape, input_tensor, weights, classes, include_top, **kwargs)\u001b[0m\n\u001b[1;32m    300\u001b[0m \u001b[0;34m\u001b[0m\u001b[0m\n\u001b[1;32m    301\u001b[0m \u001b[0;32mdef\u001b[0m \u001b[0mResNet18\u001b[0m\u001b[0;34m(\u001b[0m\u001b[0minput_shape\u001b[0m\u001b[0;34m=\u001b[0m\u001b[0;32mNone\u001b[0m\u001b[0;34m,\u001b[0m \u001b[0minput_tensor\u001b[0m\u001b[0;34m=\u001b[0m\u001b[0;32mNone\u001b[0m\u001b[0;34m,\u001b[0m \u001b[0mweights\u001b[0m\u001b[0;34m=\u001b[0m\u001b[0;32mNone\u001b[0m\u001b[0;34m,\u001b[0m \u001b[0mclasses\u001b[0m\u001b[0;34m=\u001b[0m\u001b[0;36m1000\u001b[0m\u001b[0;34m,\u001b[0m \u001b[0minclude_top\u001b[0m\u001b[0;34m=\u001b[0m\u001b[0;32mTrue\u001b[0m\u001b[0;34m,\u001b[0m \u001b[0;34m**\u001b[0m\u001b[0mkwargs\u001b[0m\u001b[0;34m)\u001b[0m\u001b[0;34m:\u001b[0m\u001b[0;34m\u001b[0m\u001b[0;34m\u001b[0m\u001b[0m\n\u001b[0;32m--> 302\u001b[0;31m     return ResNet(\n\u001b[0m\u001b[1;32m    303\u001b[0m         \u001b[0mMODELS_PARAMS\u001b[0m\u001b[0;34m[\u001b[0m\u001b[0;34m'resnet18'\u001b[0m\u001b[0;34m]\u001b[0m\u001b[0;34m,\u001b[0m\u001b[0;34m\u001b[0m\u001b[0;34m\u001b[0m\u001b[0m\n\u001b[1;32m    304\u001b[0m         \u001b[0minput_shape\u001b[0m\u001b[0;34m=\u001b[0m\u001b[0minput_shape\u001b[0m\u001b[0;34m,\u001b[0m\u001b[0;34m\u001b[0m\u001b[0;34m\u001b[0m\u001b[0m\n",
            "\u001b[0;32m/content/classification_models/models/resnet.py\u001b[0m in \u001b[0;36mResNet\u001b[0;34m(model_params, input_shape, input_tensor, include_top, classes, weights, **kwargs)\u001b[0m\n\u001b[1;32m    210\u001b[0m         \u001b[0mimg_input\u001b[0m \u001b[0;34m=\u001b[0m \u001b[0mlayers\u001b[0m\u001b[0;34m.\u001b[0m\u001b[0mInput\u001b[0m\u001b[0;34m(\u001b[0m\u001b[0mshape\u001b[0m\u001b[0;34m=\u001b[0m\u001b[0minput_shape\u001b[0m\u001b[0;34m,\u001b[0m \u001b[0mname\u001b[0m\u001b[0;34m=\u001b[0m\u001b[0;34m'data'\u001b[0m\u001b[0;34m)\u001b[0m\u001b[0;34m\u001b[0m\u001b[0;34m\u001b[0m\u001b[0m\n\u001b[1;32m    211\u001b[0m     \u001b[0;32melse\u001b[0m\u001b[0;34m:\u001b[0m\u001b[0;34m\u001b[0m\u001b[0;34m\u001b[0m\u001b[0m\n\u001b[0;32m--> 212\u001b[0;31m         \u001b[0;32mif\u001b[0m \u001b[0;32mnot\u001b[0m \u001b[0mbackend\u001b[0m\u001b[0;34m.\u001b[0m\u001b[0mis_keras_tensor\u001b[0m\u001b[0;34m(\u001b[0m\u001b[0minput_tensor\u001b[0m\u001b[0;34m)\u001b[0m\u001b[0;34m:\u001b[0m\u001b[0;34m\u001b[0m\u001b[0;34m\u001b[0m\u001b[0m\n\u001b[0m\u001b[1;32m    213\u001b[0m             \u001b[0mimg_input\u001b[0m \u001b[0;34m=\u001b[0m \u001b[0mlayers\u001b[0m\u001b[0;34m.\u001b[0m\u001b[0mInput\u001b[0m\u001b[0;34m(\u001b[0m\u001b[0mtensor\u001b[0m\u001b[0;34m=\u001b[0m\u001b[0minput_tensor\u001b[0m\u001b[0;34m,\u001b[0m \u001b[0mshape\u001b[0m\u001b[0;34m=\u001b[0m\u001b[0minput_shape\u001b[0m\u001b[0;34m)\u001b[0m\u001b[0;34m\u001b[0m\u001b[0;34m\u001b[0m\u001b[0m\n\u001b[1;32m    214\u001b[0m         \u001b[0;32melse\u001b[0m\u001b[0;34m:\u001b[0m\u001b[0;34m\u001b[0m\u001b[0;34m\u001b[0m\u001b[0m\n",
            "\u001b[0;31mAttributeError\u001b[0m: 'NoneType' object has no attribute 'is_keras_tensor'"
          ]
        }
      ]
    },
    {
      "cell_type": "code",
      "execution_count": null,
      "metadata": {
        "id": "MbLc95y34vly",
        "colab": {
          "base_uri": "https://localhost:8080/",
          "height": 265
        },
        "outputId": "cf9dd490-b5dd-46e2-9145-fb568b1e15b2"
      },
      "outputs": [
        {
          "output_type": "display_data",
          "data": {
            "text/plain": [
              "<Figure size 432x288 with 1 Axes>"
            ],
            "image/png": "[encoded data removed]"
          },
          "metadata": {
            "needs_background": "light"
          }
        }
      ],
      "source": [
        "ax = sns.countplot(x = Y.reshape(Y.shape[0]))\n",
        "for p in ax.patches:\n",
        "   ax.annotate('{:}'.format(p.get_height()), (p.get_x()+0.25, p.get_height()+0.01))"
      ],
      "id": "MbLc95y34vly"
    },
    {
      "cell_type": "code",
      "execution_count": null,
      "metadata": {
        "id": "C6-lLVkYBR7I",
        "colab": {
          "base_uri": "https://localhost:8080/"
        },
        "outputId": "421b4580-6527-49ae-f480-d8fafde67fc7"
      },
      "outputs": [
        {
          "output_type": "execute_result",
          "data": {
            "text/plain": [
              "{0: 1.8043478260869565, 1: 0.6916666666666667}"
            ]
          },
          "metadata": {},
          "execution_count": 6
        }
      ],
      "source": [
        "import sklearn\n",
        "class_weights = sklearn.utils.class_weight.compute_class_weight(class_weight = \"balanced\",classes = np.unique(Y),y = Y.reshape(Y.shape[0]))\n",
        "class_weight_dict = dict(enumerate(class_weights))\n",
        "class_weight_dict"
      ],
      "id": "C6-lLVkYBR7I"
    },
    {
      "cell_type": "code",
      "execution_count": null,
      "metadata": {
        "id": "c2c19272-b568-4281-a4e1-efc96187ee84"
      },
      "outputs": [],
      "source": [
        "Y = Y/1.0"
      ],
      "id": "c2c19272-b568-4281-a4e1-efc96187ee84"
    },
    {
      "cell_type": "code",
      "source": [
        "S1.dtype"
      ],
      "metadata": {
        "colab": {
          "base_uri": "https://localhost:8080/"
        },
        "id": "inkW0N562ayR",
        "outputId": "eff2b445-87ed-4e1e-c940-a5bf5e1daa30"
      },
      "id": "inkW0N562ayR",
      "execution_count": null,
      "outputs": [
        {
          "output_type": "execute_result",
          "data": {
            "text/plain": [
              "dtype('uint8')"
            ]
          },
          "metadata": {},
          "execution_count": 8
        }
      ]
    },
    {
      "cell_type": "code",
      "execution_count": null,
      "metadata": {
        "id": "c42a502b-65a7-4777-a3ab-4688b2d91a18",
        "colab": {
          "base_uri": "https://localhost:8080/"
        },
        "outputId": "3173e995-ceca-4fac-f290-e611f92a101b"
      },
      "outputs": [
        {
          "output_type": "stream",
          "name": "stdout",
          "text": [
            "seed=4\n",
            "(20916, 155, 220, 1)\n",
            "(20916, 155, 220, 1)\n",
            "(20916, 1)\n"
          ]
        }
      ],
      "source": [
        "with tf.device('/device:GPU:0'):\n",
        "  seed=randint(10)\n",
        "  print('seed='+str(seed))\n",
        "  indices = permutation(Y.shape[0])\n",
        "  m = int(0.70 * Y.shape[0])\n",
        "  n = int(0.15 * Y.shape[0])\n",
        "  training_id, validation_id, test_id = indices[:m], indices[m: m + n], indices[m+n:]\n",
        "  S1_train, S1_test, S1_validate = S1[training_id], S1[test_id], S1[validation_id]\n",
        "  S2_train, S2_test, S2_validate = S2[training_id], S2[test_id], S2[validation_id]\n",
        "  Y_train, Y_test, Y_validate = Y[training_id], Y[test_id], Y[validation_id]\n",
        "  print(S1_train.shape)\n",
        "  print(S2_train.shape)\n",
        "  print(Y_train.shape)\n",
        "\n",
        "  del S1,S2,Y"
      ],
      "id": "c42a502b-65a7-4777-a3ab-4688b2d91a18"
    },
    {
      "cell_type": "code",
      "source": [
        "fig = plt.figure(figsize = (16,16))\n",
        "rows,cols = 4,4\n",
        "i = 1\n",
        "while(i in range(1,rows*cols)):\n",
        "  random_idx = randint(0,len(S1_train))\n",
        "  if(Y_train[random_idx] == 0):\n",
        "    Label = \"Genuine Pair\"\n",
        "  else:\n",
        "    Label = \"Forged Pair\"\n",
        "  img1 = S1_train[random_idx]\n",
        "  img2 = S2_train[random_idx]\n",
        "  fig.add_subplot(rows,cols,i)\n",
        "  plt.imshow(img1.squeeze(),cmap = \"gray\");\n",
        "  plt.axis(False);\n",
        "  i += 1\n",
        "  fig.add_subplot(rows,cols,i)\n",
        "  plt.imshow(img2.squeeze(),cmap = \"gray\");\n",
        "  plt.axis(False);\n",
        "  plt.text(0.5, 0.5, Label, horizontalalignment='center',verticalalignment='center',fontsize=15,fontweight = 1000);\n",
        "  i += 1"
      ],
      "metadata": {
        "colab": {
          "base_uri": "https://localhost:8080/",
          "height": 855
        },
        "id": "UNXZB7r35Yg3",
        "outputId": "7f1bb76f-7d44-474c-be27-17153e7a08f6"
      },
      "id": "UNXZB7r35Yg3",
      "execution_count": null,
      "outputs": [
        {
          "output_type": "display_data",
          "data": {
            "text/plain": [
              "<Figure size 1152x1152 with 16 Axes>"
            ],
            "image/png": "[encoded data removed]"
          },
          "metadata": {
            "needs_background": "light"
          }
        }
      ]
    },
    {
      "cell_type": "code",
      "source": [
        "# #One hot Encoding\n",
        "# Y_train = one_hot(Y_train, depth=2)\n",
        "# Y_train = reshape(Y_train, (-1, 2))\n",
        "\n",
        "# Y_test = one_hot(Y_test, depth=2)\n",
        "# Y_test = reshape(Y_test, (-1, 2))\n",
        "\n",
        "# Y_validate = one_hot(Y_validate, depth=2)\n",
        "# Y_validate = reshape(Y_validate, (-1, 2))"
      ],
      "metadata": {
        "id": "EtzffxIDTCvp"
      },
      "id": "EtzffxIDTCvp",
      "execution_count": null,
      "outputs": []
    },
    {
      "cell_type": "code",
      "execution_count": null,
      "metadata": {
        "id": "4139d4a4"
      },
      "outputs": [],
      "source": [
        "def identity_block(X, f, filters, training=True, initializer=random_uniform, activation='relu', seed=0):\n",
        "    F1, F2, F3 = filters\n",
        "    Y = X\n",
        "\n",
        "    Y = Conv2D(filters=F1, kernel_size=1, strides=1, padding='valid', kernel_initializer=initializer(seed=seed)) (Y)\n",
        "    Y = BatchNormalization() (Y, training=training)\n",
        "    Y = Activation(activation = activation) (Y)\n",
        "\n",
        "    Y = Conv2D(filters=F2, kernel_size=f, strides=1, padding='same', kernel_initializer=initializer(seed=seed)) (Y)\n",
        "    Y = BatchNormalization() (Y, training=training)\n",
        "    Y = Activation(activation = activation) (Y)\n",
        "\n",
        "    Y = Conv2D(filters=F3, kernel_size=1, strides=1, padding='valid', kernel_initializer=initializer(seed=seed)) (Y)\n",
        "    Y = BatchNormalization() (Y, training=training)\n",
        "\n",
        "    Y = Add() ([Y, X])\n",
        "    Y = Activation(activation = activation) (Y)\n",
        "\n",
        "    return Y"
      ],
      "id": "4139d4a4"
    },
    {
      "cell_type": "code",
      "source": [
        "def convolutional_block(X, f, filters, s=2, training=True, initializer=glorot_uniform, activation='relu', seed=0):\n",
        "    F1, F2, F3 = filters\n",
        "    Y = X\n",
        "\n",
        "    Y = Conv2D(filters=F1, kernel_size=1, strides=s, padding='valid', kernel_initializer=initializer(seed=seed)) (Y)\n",
        "    Y = BatchNormalization() (Y, training=training)\n",
        "    Y = Activation(activation = activation) (Y)\n",
        "\n",
        "    Y = Conv2D(filters=F2, kernel_size=f, strides=1, padding='same', kernel_initializer=initializer(seed=seed)) (Y)\n",
        "    Y = BatchNormalization() (Y, training=training)\n",
        "    Y = Activation(activation = activation) (Y)\n",
        "\n",
        "    Y = Conv2D(filters=F3, kernel_size=1, strides=1, padding='valid', kernel_initializer=initializer(seed=seed)) (Y)\n",
        "    Y = BatchNormalization() (Y, training=training)\n",
        "\n",
        "    X = Conv2D(filters=F3, kernel_size=1, strides=s, padding='valid', kernel_initializer=initializer(seed=seed)) (X)\n",
        "    X = BatchNormalization() (X, training=training)\n",
        "\n",
        "    Y = Add() ([Y, X])\n",
        "    Y = Activation(activation = activation) (Y)\n",
        "\n",
        "    return Y"
      ],
      "metadata": {
        "id": "6CtMSSc9zloV"
      },
      "id": "6CtMSSc9zloV",
      "execution_count": null,
      "outputs": []
    },
    {
      "cell_type": "code",
      "source": [
        "def  ResNet50(input_shape = (512, 512, 3), classes = 2, activation='relu', seed=0):\n",
        "    Y = Input(input_shape)\n",
        "    X = Y\n",
        "    X = ZeroPadding2D(3)(X)\n",
        "\n",
        "    X = Conv2D(filters=64, kernel_size = 7, strides = 2, kernel_initializer = glorot_uniform(seed=seed)) (X)\n",
        "    X = BatchNormalization() (X)\n",
        "    X = Activation(activation=activation) (X)\n",
        "    X = MaxPool2D((3, 3), strides=(2, 2)) (X)\n",
        "\n",
        "    X = convolutional_block(X, f = 3, filters = [64, 64, 256], s = 1, seed=seed)\n",
        "    X = identity_block(X, 3, [64, 64, 256], seed=seed)\n",
        "    X = identity_block(X, 3, [64, 64, 256], seed=seed)\n",
        "\n",
        "    X = convolutional_block(X, f = 3, filters = [128, 128, 512], s = 2, seed=seed)\n",
        "    X = identity_block(X, 3, [128, 128, 512], seed=seed)\n",
        "    X = identity_block(X, 3, [128, 128, 512], seed=seed)\n",
        "    X = identity_block(X, 3, [128, 128, 512], seed=seed)\n",
        "\n",
        "    X = convolutional_block(X, f = 3, filters = [256, 256, 1024], s = 2, seed=seed)\n",
        "    X = identity_block(X, 3, [256, 256, 1024], seed=seed)\n",
        "    X = identity_block(X, 3, [256, 256, 1024], seed=seed)\n",
        "    X = identity_block(X, 3, [256, 256, 1024], seed=seed)\n",
        "    X = identity_block(X, 3, [256, 256, 1024], seed=seed)\n",
        "    X = identity_block(X, 3, [256, 256, 1024], seed=seed)\n",
        "\n",
        "    X = convolutional_block(X, f = 3, filters = [512, 512, 2048], s = 2, seed=seed)\n",
        "    X = identity_block(X, 3, [512, 512, 2048], seed=seed)\n",
        "    X = identity_block(X, 3, [512, 512, 2048], seed=seed)\n",
        "\n",
        "    X = AvgPool2D(pool_size=(2, 2))(X)\n",
        "    X = Flatten()(X)\n",
        "    X = Dense(classes, activation='sigmoid', kernel_initializer = glorot_uniform(seed=seed))(X)\n",
        "\n",
        "    model = Model(inputs = Y, outputs = X)\n",
        "    return model"
      ],
      "metadata": {
        "id": "iqc-5ri4zo0V"
      },
      "id": "iqc-5ri4zo0V",
      "execution_count": null,
      "outputs": []
    },
    {
      "cell_type": "code",
      "source": [
        "input_shape=(155, 220,1)\n",
        "input_shape"
      ],
      "metadata": {
        "colab": {
          "base_uri": "https://localhost:8080/"
        },
        "id": "yGiHR_l5FQPG",
        "outputId": "30a9133f-dfb7-4586-870e-383f17e2e452"
      },
      "id": "yGiHR_l5FQPG",
      "execution_count": null,
      "outputs": [
        {
          "output_type": "execute_result",
          "data": {
            "text/plain": [
              "(155, 220, 1)"
            ]
          },
          "metadata": {},
          "execution_count": 16
        }
      ]
    },
    {
      "cell_type": "code",
      "execution_count": null,
      "metadata": {
        "id": "iZUK82cxER7z"
      },
      "outputs": [],
      "source": [
        "plot_model(ResNet50(input_shape = input_shape), show_shapes=True)"
      ],
      "id": "iZUK82cxER7z"
    },
    {
      "cell_type": "code",
      "execution_count": null,
      "metadata": {
        "id": "ad4c8c18-b8d6-4a88-b5ff-05054fc9a7db"
      },
      "outputs": [],
      "source": [
        "with tf.device('/device:GPU:0'):\n",
        "  inputShape = S1_train.shape[1:]\n",
        "  f = ResNet50(inputShape)"
      ],
      "id": "ad4c8c18-b8d6-4a88-b5ff-05054fc9a7db"
    },
    {
      "cell_type": "code",
      "execution_count": null,
      "metadata": {
        "id": "4ee2599a-b392-4d7e-b917-8b74b38b2041"
      },
      "outputs": [],
      "source": [
        "def euclidean_distance(S):\n",
        "  X = S['S1']\n",
        "  Y = S['S2']\n",
        "  return K.sqrt(K.maximum(K.sum(K.square(X - Y), axis=1, keepdims=True), K.epsilon()))"
      ],
      "id": "4ee2599a-b392-4d7e-b917-8b74b38b2041"
    },
    {
      "cell_type": "code",
      "execution_count": null,
      "metadata": {
        "id": "a45485d9-fee8-420f-bf0d-801636180d52"
      },
      "outputs": [],
      "source": [
        "input_a = Input(shape=inputShape, name = 'S1')\n",
        "input_b = Input(shape=inputShape, name = 'S2')\n",
        "encoded_s1 = f(input_a)\n",
        "encoded_s2 = f(input_b)\n",
        "distance = Lambda(euclidean_distance)({'S1': encoded_s1, 'S2': encoded_s2})\n",
        "outputs = Dense(1, activation=\"sigmoid\")(distance)\n",
        "model = Model(inputs = [input_a, input_b], outputs = outputs)"
      ],
      "id": "a45485d9-fee8-420f-bf0d-801636180d52"
    },
    {
      "cell_type": "code",
      "execution_count": null,
      "metadata": {
        "id": "31e82a26-92fe-423e-a576-03f1290c8953"
      },
      "outputs": [],
      "source": [
        "def constructive_loss(y_true, y_pred):\n",
        "  margin = 1\n",
        "  y_true = tf.cast(y_true, y_pred.dtype)\n",
        "  squaredPreds = K.square(y_pred)\n",
        "  squaredMargin = K.square(K.maximum(margin - y_pred, 0))\n",
        "  loss = K.mean(y_true * squaredMargin + (1 - y_true) * squaredPreds)\n",
        "  return loss"
      ],
      "id": "31e82a26-92fe-423e-a576-03f1290c8953"
    },
    {
      "cell_type": "markdown",
      "metadata": {
        "id": "M3CTNmM2duWR"
      },
      "source": [
        "## **HYPER PARAMETER TUNING**"
      ],
      "id": "M3CTNmM2duWR"
    },
    {
      "cell_type": "markdown",
      "metadata": {
        "id": "NAakN0dc9OZc"
      },
      "source": [
        "## **BATCH SIZE TUNING**"
      ],
      "id": "NAakN0dc9OZc"
    },
    {
      "cell_type": "code",
      "execution_count": null,
      "metadata": {
        "id": "9e054611-0e62-4bcb-a500-c9c80dcb6052"
      },
      "outputs": [],
      "source": [
        "# with tf.device('/device:GPU:0'):\n",
        "#   for i in np.arange(0.0010,0.0101,0.0010):\n",
        "#     adam = Adam(learning_rate = 0.001,epsilon = 1e-08)\n",
        "#     model.compile(loss = constructive_loss, optimizer = adam, metrics=['BinaryAccuracy'])\n",
        "#     print(\"For Learning Rate = {LR}\".format(LR = i))\n",
        ""
      ],
      "id": "9e054611-0e62-4bcb-a500-c9c80dcb6052"
    },
    {
      "cell_type": "code",
      "execution_count": null,
      "metadata": {
        "id": "o5E9Mg7EeFw7"
      },
      "outputs": [],
      "source": [
        "with tf.device('/device:GPU:0'):\n",
        "  adam = Adam(learning_rate = 0.001,epsilon = 1e-08)\n",
        "  model.compile(loss = constructive_loss, optimizer = adam, metrics=['BinaryAccuracy'])"
      ],
      "id": "o5E9Mg7EeFw7"
    },
    {
      "cell_type": "code",
      "execution_count": null,
      "metadata": {
        "colab": {
          "base_uri": "https://localhost:8080/"
        },
        "id": "TkCJbTLGVuE0",
        "outputId": "fe2f05f4-f8d6-4a10-e3e4-279e96203329"
      },
      "outputs": [
        {
          "name": "stdout",
          "output_type": "stream",
          "text": [
            "For batch Size :  8\n",
            "2802/2802 [==============================] - 213s 72ms/step - loss: 0.0934 - binary_accuracy: 0.9104 - val_loss: 0.0813 - val_binary_accuracy: 0.9186\n"
          ]
        }
      ],
      "source": [
        "with tf.device('/device:GPU:0'):\n",
        "  batch_Size = 8\n",
        "  print(\"For batch Size : \",batch_Size)\n",
        "  model.fit(x = [S1_train, S2_train],y = Y_train,\n",
        "                        validation_data = ([S1_validate,S2_validate],Y_validate),\n",
        "                        epochs = 1,batch_size = batch_Size,class_weight = class_weight_dict,shuffle = True\n",
        "                        )"
      ],
      "id": "TkCJbTLGVuE0"
    },
    {
      "cell_type": "code",
      "execution_count": null,
      "metadata": {
        "colab": {
          "base_uri": "https://localhost:8080/"
        },
        "id": "08gAKD85rSIG",
        "outputId": "b405d669-51cc-4d7e-d31d-66bba731ab17"
      },
      "outputs": [
        {
          "name": "stdout",
          "output_type": "stream",
          "text": [
            "For batch Size :  16\n",
            "1401/1401 [==============================] - 160s 107ms/step - loss: 0.0904 - binary_accuracy: 0.9103 - val_loss: 0.0883 - val_binary_accuracy: 0.9116\n"
          ]
        }
      ],
      "source": [
        "with tf.device('/device:GPU:0'):\n",
        "  batch_Size = 16\n",
        "  print(\"For batch Size : \",batch_Size)\n",
        "  model.fit(x = [S1_train, S2_train],y = Y_train,\n",
        "                        validation_data = ([S1_validate,S2_validate],Y_validate),\n",
        "                        epochs = 1,batch_size = batch_Size,class_weight = class_weight_dict,shuffle = True\n",
        "                        )"
      ],
      "id": "08gAKD85rSIG"
    },
    {
      "cell_type": "code",
      "execution_count": null,
      "metadata": {
        "colab": {
          "base_uri": "https://localhost:8080/"
        },
        "id": "yZVGm3ofncqX",
        "outputId": "d97aff4a-d20f-406f-bd9b-562f8a940577"
      },
      "outputs": [
        {
          "name": "stdout",
          "output_type": "stream",
          "text": [
            "For batch Size :  32\n",
            "701/701 [==============================] - 132s 172ms/step - loss: 0.0979 - binary_accuracy: 0.9093 - val_loss: 0.0795 - val_binary_accuracy: 0.9205\n"
          ]
        }
      ],
      "source": [
        "with tf.device('/device:GPU:0'):\n",
        "  batch_Size = 32\n",
        "  print(\"For batch Size : \",batch_Size)\n",
        "  model.fit(x = [S1_train, S2_train],y = Y_train,\n",
        "                        validation_data = ([S1_validate,S2_validate],Y_validate),\n",
        "                        epochs = 1,batch_size = batch_Size,class_weight = class_weight_dict,shuffle = True\n",
        "                        )"
      ],
      "id": "yZVGm3ofncqX"
    },
    {
      "cell_type": "code",
      "execution_count": null,
      "metadata": {
        "colab": {
          "base_uri": "https://localhost:8080/"
        },
        "id": "oe2_upg1ncty",
        "outputId": "ca8fe94d-4be7-4038-8e18-b1b5045e7340"
      },
      "outputs": [
        {
          "name": "stdout",
          "output_type": "stream",
          "text": [
            "For batch Size :  64\n",
            "351/351 [==============================] - 120s 311ms/step - loss: 0.0908 - binary_accuracy: 0.9108 - val_loss: 0.0768 - val_binary_accuracy: 0.9232\n"
          ]
        }
      ],
      "source": [
        "with tf.device('/device:GPU:0'):\n",
        "  batch_Size = 64\n",
        "  print(\"For batch Size : \",batch_Size)\n",
        "  model.fit(x = [S1_train, S2_train],y = Y_train,\n",
        "                        validation_data = ([S1_validate,S2_validate],Y_validate),\n",
        "                        epochs = 1,batch_size = batch_Size,class_weight = class_weight_dict,shuffle = True\n",
        "                        )"
      ],
      "id": "oe2_upg1ncty"
    },
    {
      "cell_type": "code",
      "execution_count": null,
      "metadata": {
        "colab": {
          "base_uri": "https://localhost:8080/"
        },
        "id": "NwY5pNjAlVSa",
        "outputId": "967c7773-4ef7-4eef-f559-3ff65995de1e"
      },
      "outputs": [
        {
          "name": "stdout",
          "output_type": "stream",
          "text": [
            "For batch Size :  128\n",
            "176/176 [==============================] - 118s 605ms/step - loss: 0.0928 - binary_accuracy: 0.9084 - val_loss: 0.0779 - val_binary_accuracy: 0.9221\n"
          ]
        }
      ],
      "source": [
        "with tf.device('/device:GPU:0'):\n",
        "  batch_Size = 128\n",
        "  print(\"For batch Size : \",batch_Size)\n",
        "  model.fit(x = [S1_train, S2_train],y = Y_train,\n",
        "                        validation_data = ([S1_validate,S2_validate],Y_validate),\n",
        "                        epochs = 1,batch_size = batch_Size,class_weight = class_weight_dict,shuffle = True\n",
        "                        )"
      ],
      "id": "NwY5pNjAlVSa"
    },
    {
      "cell_type": "markdown",
      "metadata": {
        "id": "Au-iYe9SvAxq"
      },
      "source": [
        "**THE BEST ACCURACY IS FOR BATCH SIZE = 64**"
      ],
      "id": "Au-iYe9SvAxq"
    },
    {
      "cell_type": "markdown",
      "metadata": {
        "id": "LV0fT5k09fKt"
      },
      "source": [
        "## **LEARNING RATE**"
      ],
      "id": "LV0fT5k09fKt"
    },
    {
      "cell_type": "code",
      "execution_count": null,
      "metadata": {
        "id": "lWWyz8aGwd8u"
      },
      "outputs": [],
      "source": [
        "batch_Size = 32"
      ],
      "id": "lWWyz8aGwd8u"
    },
    {
      "cell_type": "code",
      "execution_count": null,
      "metadata": {
        "colab": {
          "base_uri": "https://localhost:8080/"
        },
        "id": "-MSgxZv1vbNZ",
        "outputId": "d0df3d10-5346-473e-a0ea-c3395e826795"
      },
      "outputs": [
        {
          "output_type": "stream",
          "name": "stdout",
          "text": [
            "For learning Rate =  0.001\n",
            "Epoch 1/5\n",
            "654/654 [==============================] - 327s 463ms/step - loss: 0.2045 - binary_accuracy: 0.7242 - val_loss: 0.2017 - val_binary_accuracy: 0.7200\n",
            "Epoch 2/5\n",
            "654/654 [==============================] - 301s 460ms/step - loss: 0.2020 - binary_accuracy: 0.7248 - val_loss: 0.2018 - val_binary_accuracy: 0.7200\n",
            "Epoch 3/5\n",
            "654/654 [==============================] - 321s 491ms/step - loss: 0.2021 - binary_accuracy: 0.7248 - val_loss: 0.2016 - val_binary_accuracy: 0.7200\n",
            "Epoch 4/5\n",
            "654/654 [==============================] - 301s 460ms/step - loss: 0.2023 - binary_accuracy: 0.7248 - val_loss: 0.2017 - val_binary_accuracy: 0.7200\n",
            "Epoch 5/5\n",
            "654/654 [==============================] - 301s 460ms/step - loss: 0.2022 - binary_accuracy: 0.7248 - val_loss: 0.2016 - val_binary_accuracy: 0.7200\n"
          ]
        }
      ],
      "source": [
        "with tf.device('/device:GPU:0'):\n",
        "  lr = 1e-03\n",
        "  print(\"For learning Rate = \",lr)\n",
        "  rms = RMSprop(learning_rate = lr,epsilon = 1e-08,momentum = 0.9,rho = 0.9)\n",
        "  model.compile(loss = constructive_loss, optimizer = rms, metrics=['BinaryAccuracy'])\n",
        "  model.fit(x = [S1_train, S2_train],y = Y_train,\n",
        "                        validation_data = ([S1_validate,S2_validate],Y_validate),\n",
        "                        epochs = 5,batch_size = batch_Size,class_weight = class_weight_dict,shuffle = True\n",
        "                        )"
      ],
      "id": "-MSgxZv1vbNZ"
    },
    {
      "cell_type": "code",
      "execution_count": null,
      "metadata": {
        "colab": {
          "base_uri": "https://localhost:8080/"
        },
        "id": "iWmyROtiplsC",
        "outputId": "7e9a28f2-19bd-4e71-86e1-c6a636fd3060"
      },
      "outputs": [
        {
          "name": "stdout",
          "output_type": "stream",
          "text": [
            "For learning Rate =  0.0001\n",
            "Epoch 1/5\n",
            "654/654 [==============================] - 36s 39ms/step - loss: 0.2232 - binary_accuracy: 0.7001 - val_loss: 0.2445 - val_binary_accuracy: 0.7129\n",
            "Epoch 2/5\n",
            "654/654 [==============================] - 25s 38ms/step - loss: 0.2047 - binary_accuracy: 0.7146 - val_loss: 0.2358 - val_binary_accuracy: 0.7140\n",
            "Epoch 3/5\n",
            "654/654 [==============================] - 25s 38ms/step - loss: 0.2008 - binary_accuracy: 0.7189 - val_loss: 0.2318 - val_binary_accuracy: 0.7115\n",
            "Epoch 4/5\n",
            "654/654 [==============================] - 24s 37ms/step - loss: 0.1992 - binary_accuracy: 0.7188 - val_loss: 0.2352 - val_binary_accuracy: 0.7146\n",
            "Epoch 5/5\n",
            "654/654 [==============================] - 24s 37ms/step - loss: 0.1935 - binary_accuracy: 0.7259 - val_loss: 0.2279 - val_binary_accuracy: 0.7149\n"
          ]
        }
      ],
      "source": [
        "with tf.device('/device:GPU:0'):\n",
        "  lr = 1e-04\n",
        "  print(\"For learning Rate = \",lr)\n",
        "  rms = RMSprop(learning_rate = lr,epsilon = 1e-08,momentum = 0.9,rho = 0.9)\n",
        "  model.compile(loss = constructive_loss, optimizer = rms, metrics=['BinaryAccuracy'])\n",
        "  model.fit(x = [S1_train, S2_train],y = Y_train,\n",
        "                        validation_data = ([S1_validate,S2_validate],Y_validate),\n",
        "                        epochs = 5,batch_size = batch_Size,class_weight = class_weight_dict,shuffle = True\n",
        "                        )"
      ],
      "id": "iWmyROtiplsC"
    },
    {
      "cell_type": "code",
      "execution_count": null,
      "metadata": {
        "colab": {
          "base_uri": "https://localhost:8080/"
        },
        "id": "fIrG2eHvpfjA",
        "outputId": "b2a1d73d-abe1-423e-9487-4d8a288cdacd"
      },
      "outputs": [
        {
          "name": "stdout",
          "output_type": "stream",
          "text": [
            "For learning Rate =  1e-05\n",
            "Epoch 1/5\n",
            "654/654 [==============================] - 33s 35ms/step - loss: 0.2488 - binary_accuracy: 0.7070 - val_loss: 0.2451 - val_binary_accuracy: 0.7135\n",
            "Epoch 2/5\n",
            "654/654 [==============================] - 22s 34ms/step - loss: 0.1971 - binary_accuracy: 0.7212 - val_loss: 0.2483 - val_binary_accuracy: 0.7135\n",
            "Epoch 3/5\n",
            "654/654 [==============================] - 23s 35ms/step - loss: 0.1953 - binary_accuracy: 0.7240 - val_loss: 0.2338 - val_binary_accuracy: 0.7135\n",
            "Epoch 4/5\n",
            "654/654 [==============================] - 22s 34ms/step - loss: 0.1947 - binary_accuracy: 0.7232 - val_loss: 0.2389 - val_binary_accuracy: 0.7124\n",
            "Epoch 5/5\n",
            "654/654 [==============================] - 22s 34ms/step - loss: 0.1917 - binary_accuracy: 0.7255 - val_loss: 0.2385 - val_binary_accuracy: 0.7135\n"
          ]
        }
      ],
      "source": [
        "with tf.device('/device:GPU:0'):\n",
        "  lr = 1e-05\n",
        "  print(\"For learning Rate = \",lr)\n",
        "  rms = RMSprop(learning_rate = lr,epsilon = 1e-08,momentum = 0.9,rho = 0.9)\n",
        "  model.compile(loss = constructive_loss, optimizer = rms, metrics=['BinaryAccuracy'])\n",
        "  model.fit(x = [S1_train, S2_train],y = Y_train,\n",
        "                        validation_data = ([S1_validate,S2_validate],Y_validate),\n",
        "                        epochs = 5,batch_size = batch_Size,class_weight = class_weight_dict,shuffle = True\n",
        "                        )"
      ],
      "id": "fIrG2eHvpfjA"
    },
    {
      "cell_type": "code",
      "execution_count": null,
      "metadata": {
        "colab": {
          "base_uri": "https://localhost:8080/",
          "height": 554
        },
        "id": "UoLsq65PSCRF",
        "outputId": "4ddf1072-1f5d-4820-e8f9-68d8a7612fa8"
      },
      "outputs": [
        {
          "output_type": "stream",
          "name": "stdout",
          "text": [
            "For learning Rate =  1e-06\n",
            "Epoch 1/5\n",
            "654/654 [==============================] - 26s 36ms/step - loss: 0.2219 - binary_accuracy: 0.6782 - val_loss: 0.2373 - val_binary_accuracy: 0.7160\n",
            "Epoch 2/5\n",
            "654/654 [==============================] - 22s 34ms/step - loss: 0.1969 - binary_accuracy: 0.7241 - val_loss: 0.2315 - val_binary_accuracy: 0.7160\n",
            "Epoch 3/5\n",
            "654/654 [==============================] - 22s 34ms/step - loss: 0.1910 - binary_accuracy: 0.7257 - val_loss: 0.2267 - val_binary_accuracy: 0.7160\n",
            "Epoch 4/5\n",
            "654/654 [==============================] - 25s 39ms/step - loss: 0.1865 - binary_accuracy: 0.7283 - val_loss: 0.2198 - val_binary_accuracy: 0.7160\n",
            "Epoch 5/5\n",
            "202/654 [========>.....................] - ETA: 14s - loss: 0.1819 - binary_accuracy: 0.7333"
          ]
        },
        {
          "output_type": "error",
          "ename": "KeyboardInterrupt",
          "evalue": "ignored",
          "traceback": [
            "\u001b[0;31m---------------------------------------------------------------------------\u001b[0m",
            "\u001b[0;31mKeyboardInterrupt\u001b[0m                         Traceback (most recent call last)",
            "\u001b[0;32m<ipython-input-18-447822a95911>\u001b[0m in \u001b[0;36m<module>\u001b[0;34m\u001b[0m\n\u001b[1;32m      6\u001b[0m   model.fit(x = [S1_train, S2_train],y = Y_train,\n\u001b[1;32m      7\u001b[0m                         \u001b[0mvalidation_data\u001b[0m \u001b[0;34m=\u001b[0m \u001b[0;34m(\u001b[0m\u001b[0;34m[\u001b[0m\u001b[0mS1_validate\u001b[0m\u001b[0;34m,\u001b[0m\u001b[0mS2_validate\u001b[0m\u001b[0;34m]\u001b[0m\u001b[0;34m,\u001b[0m\u001b[0mY_validate\u001b[0m\u001b[0;34m)\u001b[0m\u001b[0;34m,\u001b[0m\u001b[0;34m\u001b[0m\u001b[0;34m\u001b[0m\u001b[0m\n\u001b[0;32m----> 8\u001b[0;31m                         \u001b[0mepochs\u001b[0m \u001b[0;34m=\u001b[0m \u001b[0;36m5\u001b[0m\u001b[0;34m,\u001b[0m\u001b[0mbatch_size\u001b[0m \u001b[0;34m=\u001b[0m \u001b[0mbatch_Size\u001b[0m\u001b[0;34m,\u001b[0m\u001b[0mclass_weight\u001b[0m \u001b[0;34m=\u001b[0m \u001b[0mclass_weight_dict\u001b[0m\u001b[0;34m,\u001b[0m\u001b[0mshuffle\u001b[0m \u001b[0;34m=\u001b[0m \u001b[0;32mTrue\u001b[0m\u001b[0;34m\u001b[0m\u001b[0;34m\u001b[0m\u001b[0m\n\u001b[0m\u001b[1;32m      9\u001b[0m                         )\n",
            "\u001b[0;32m/usr/local/lib/python3.7/dist-packages/keras/utils/traceback_utils.py\u001b[0m in \u001b[0;36merror_handler\u001b[0;34m(*args, **kwargs)\u001b[0m\n\u001b[1;32m     62\u001b[0m     \u001b[0mfiltered_tb\u001b[0m \u001b[0;34m=\u001b[0m \u001b[0;32mNone\u001b[0m\u001b[0;34m\u001b[0m\u001b[0;34m\u001b[0m\u001b[0m\n\u001b[1;32m     63\u001b[0m     \u001b[0;32mtry\u001b[0m\u001b[0;34m:\u001b[0m\u001b[0;34m\u001b[0m\u001b[0;34m\u001b[0m\u001b[0m\n\u001b[0;32m---> 64\u001b[0;31m       \u001b[0;32mreturn\u001b[0m \u001b[0mfn\u001b[0m\u001b[0;34m(\u001b[0m\u001b[0;34m*\u001b[0m\u001b[0margs\u001b[0m\u001b[0;34m,\u001b[0m \u001b[0;34m**\u001b[0m\u001b[0mkwargs\u001b[0m\u001b[0;34m)\u001b[0m\u001b[0;34m\u001b[0m\u001b[0;34m\u001b[0m\u001b[0m\n\u001b[0m\u001b[1;32m     65\u001b[0m     \u001b[0;32mexcept\u001b[0m \u001b[0mException\u001b[0m \u001b[0;32mas\u001b[0m \u001b[0me\u001b[0m\u001b[0;34m:\u001b[0m  \u001b[0;31m# pylint: disable=broad-except\u001b[0m\u001b[0;34m\u001b[0m\u001b[0;34m\u001b[0m\u001b[0m\n\u001b[1;32m     66\u001b[0m       \u001b[0mfiltered_tb\u001b[0m \u001b[0;34m=\u001b[0m \u001b[0m_process_traceback_frames\u001b[0m\u001b[0;34m(\u001b[0m\u001b[0me\u001b[0m\u001b[0;34m.\u001b[0m\u001b[0m__traceback__\u001b[0m\u001b[0;34m)\u001b[0m\u001b[0;34m\u001b[0m\u001b[0;34m\u001b[0m\u001b[0m\n",
            "\u001b[0;32m/usr/local/lib/python3.7/dist-packages/keras/engine/training.py\u001b[0m in \u001b[0;36mfit\u001b[0;34m(self, x, y, batch_size, epochs, verbose, callbacks, validation_split, validation_data, shuffle, class_weight, sample_weight, initial_epoch, steps_per_epoch, validation_steps, validation_batch_size, validation_freq, max_queue_size, workers, use_multiprocessing)\u001b[0m\n\u001b[1;32m   1412\u001b[0m               \u001b[0mlogs\u001b[0m \u001b[0;34m=\u001b[0m \u001b[0mtmp_logs\u001b[0m  \u001b[0;31m# No error, now safe to assign to logs.\u001b[0m\u001b[0;34m\u001b[0m\u001b[0;34m\u001b[0m\u001b[0m\n\u001b[1;32m   1413\u001b[0m               \u001b[0mend_step\u001b[0m \u001b[0;34m=\u001b[0m \u001b[0mstep\u001b[0m \u001b[0;34m+\u001b[0m \u001b[0mdata_handler\u001b[0m\u001b[0;34m.\u001b[0m\u001b[0mstep_increment\u001b[0m\u001b[0;34m\u001b[0m\u001b[0;34m\u001b[0m\u001b[0m\n\u001b[0;32m-> 1414\u001b[0;31m               \u001b[0mcallbacks\u001b[0m\u001b[0;34m.\u001b[0m\u001b[0mon_train_batch_end\u001b[0m\u001b[0;34m(\u001b[0m\u001b[0mend_step\u001b[0m\u001b[0;34m,\u001b[0m \u001b[0mlogs\u001b[0m\u001b[0;34m)\u001b[0m\u001b[0;34m\u001b[0m\u001b[0;34m\u001b[0m\u001b[0m\n\u001b[0m\u001b[1;32m   1415\u001b[0m               \u001b[0;32mif\u001b[0m \u001b[0mself\u001b[0m\u001b[0;34m.\u001b[0m\u001b[0mstop_training\u001b[0m\u001b[0;34m:\u001b[0m\u001b[0;34m\u001b[0m\u001b[0;34m\u001b[0m\u001b[0m\n\u001b[1;32m   1416\u001b[0m                 \u001b[0;32mbreak\u001b[0m\u001b[0;34m\u001b[0m\u001b[0;34m\u001b[0m\u001b[0m\n",
            "\u001b[0;32m/usr/local/lib/python3.7/dist-packages/keras/callbacks.py\u001b[0m in \u001b[0;36mon_train_batch_end\u001b[0;34m(self, batch, logs)\u001b[0m\n\u001b[1;32m    436\u001b[0m     \"\"\"\n\u001b[1;32m    437\u001b[0m     \u001b[0;32mif\u001b[0m \u001b[0mself\u001b[0m\u001b[0;34m.\u001b[0m\u001b[0m_should_call_train_batch_hooks\u001b[0m\u001b[0;34m:\u001b[0m\u001b[0;34m\u001b[0m\u001b[0;34m\u001b[0m\u001b[0m\n\u001b[0;32m--> 438\u001b[0;31m       \u001b[0mself\u001b[0m\u001b[0;34m.\u001b[0m\u001b[0m_call_batch_hook\u001b[0m\u001b[0;34m(\u001b[0m\u001b[0mModeKeys\u001b[0m\u001b[0;34m.\u001b[0m\u001b[0mTRAIN\u001b[0m\u001b[0;34m,\u001b[0m \u001b[0;34m'end'\u001b[0m\u001b[0;34m,\u001b[0m \u001b[0mbatch\u001b[0m\u001b[0;34m,\u001b[0m \u001b[0mlogs\u001b[0m\u001b[0;34m=\u001b[0m\u001b[0mlogs\u001b[0m\u001b[0;34m)\u001b[0m\u001b[0;34m\u001b[0m\u001b[0;34m\u001b[0m\u001b[0m\n\u001b[0m\u001b[1;32m    439\u001b[0m \u001b[0;34m\u001b[0m\u001b[0m\n\u001b[1;32m    440\u001b[0m   \u001b[0;32mdef\u001b[0m \u001b[0mon_test_batch_begin\u001b[0m\u001b[0;34m(\u001b[0m\u001b[0mself\u001b[0m\u001b[0;34m,\u001b[0m \u001b[0mbatch\u001b[0m\u001b[0;34m,\u001b[0m \u001b[0mlogs\u001b[0m\u001b[0;34m=\u001b[0m\u001b[0;32mNone\u001b[0m\u001b[0;34m)\u001b[0m\u001b[0;34m:\u001b[0m\u001b[0;34m\u001b[0m\u001b[0;34m\u001b[0m\u001b[0m\n",
            "\u001b[0;32m/usr/local/lib/python3.7/dist-packages/keras/callbacks.py\u001b[0m in \u001b[0;36m_call_batch_hook\u001b[0;34m(self, mode, hook, batch, logs)\u001b[0m\n\u001b[1;32m    295\u001b[0m       \u001b[0mself\u001b[0m\u001b[0;34m.\u001b[0m\u001b[0m_call_batch_begin_hook\u001b[0m\u001b[0;34m(\u001b[0m\u001b[0mmode\u001b[0m\u001b[0;34m,\u001b[0m \u001b[0mbatch\u001b[0m\u001b[0;34m,\u001b[0m \u001b[0mlogs\u001b[0m\u001b[0;34m)\u001b[0m\u001b[0;34m\u001b[0m\u001b[0;34m\u001b[0m\u001b[0m\n\u001b[1;32m    296\u001b[0m     \u001b[0;32melif\u001b[0m \u001b[0mhook\u001b[0m \u001b[0;34m==\u001b[0m \u001b[0;34m'end'\u001b[0m\u001b[0;34m:\u001b[0m\u001b[0;34m\u001b[0m\u001b[0;34m\u001b[0m\u001b[0m\n\u001b[0;32m--> 297\u001b[0;31m       \u001b[0mself\u001b[0m\u001b[0;34m.\u001b[0m\u001b[0m_call_batch_end_hook\u001b[0m\u001b[0;34m(\u001b[0m\u001b[0mmode\u001b[0m\u001b[0;34m,\u001b[0m \u001b[0mbatch\u001b[0m\u001b[0;34m,\u001b[0m \u001b[0mlogs\u001b[0m\u001b[0;34m)\u001b[0m\u001b[0;34m\u001b[0m\u001b[0;34m\u001b[0m\u001b[0m\n\u001b[0m\u001b[1;32m    298\u001b[0m     \u001b[0;32melse\u001b[0m\u001b[0;34m:\u001b[0m\u001b[0;34m\u001b[0m\u001b[0;34m\u001b[0m\u001b[0m\n\u001b[1;32m    299\u001b[0m       raise ValueError(\n",
            "\u001b[0;32m/usr/local/lib/python3.7/dist-packages/keras/callbacks.py\u001b[0m in \u001b[0;36m_call_batch_end_hook\u001b[0;34m(self, mode, batch, logs)\u001b[0m\n\u001b[1;32m    316\u001b[0m       \u001b[0mself\u001b[0m\u001b[0;34m.\u001b[0m\u001b[0m_batch_times\u001b[0m\u001b[0;34m.\u001b[0m\u001b[0mappend\u001b[0m\u001b[0;34m(\u001b[0m\u001b[0mbatch_time\u001b[0m\u001b[0;34m)\u001b[0m\u001b[0;34m\u001b[0m\u001b[0;34m\u001b[0m\u001b[0m\n\u001b[1;32m    317\u001b[0m \u001b[0;34m\u001b[0m\u001b[0m\n\u001b[0;32m--> 318\u001b[0;31m     \u001b[0mself\u001b[0m\u001b[0;34m.\u001b[0m\u001b[0m_call_batch_hook_helper\u001b[0m\u001b[0;34m(\u001b[0m\u001b[0mhook_name\u001b[0m\u001b[0;34m,\u001b[0m \u001b[0mbatch\u001b[0m\u001b[0;34m,\u001b[0m \u001b[0mlogs\u001b[0m\u001b[0;34m)\u001b[0m\u001b[0;34m\u001b[0m\u001b[0;34m\u001b[0m\u001b[0m\n\u001b[0m\u001b[1;32m    319\u001b[0m \u001b[0;34m\u001b[0m\u001b[0m\n\u001b[1;32m    320\u001b[0m     \u001b[0;32mif\u001b[0m \u001b[0mlen\u001b[0m\u001b[0;34m(\u001b[0m\u001b[0mself\u001b[0m\u001b[0;34m.\u001b[0m\u001b[0m_batch_times\u001b[0m\u001b[0;34m)\u001b[0m \u001b[0;34m>=\u001b[0m \u001b[0mself\u001b[0m\u001b[0;34m.\u001b[0m\u001b[0m_num_batches_for_timing_check\u001b[0m\u001b[0;34m:\u001b[0m\u001b[0;34m\u001b[0m\u001b[0;34m\u001b[0m\u001b[0m\n",
            "\u001b[0;32m/usr/local/lib/python3.7/dist-packages/keras/callbacks.py\u001b[0m in \u001b[0;36m_call_batch_hook_helper\u001b[0;34m(self, hook_name, batch, logs)\u001b[0m\n\u001b[1;32m    354\u001b[0m     \u001b[0;32mfor\u001b[0m \u001b[0mcallback\u001b[0m \u001b[0;32min\u001b[0m \u001b[0mself\u001b[0m\u001b[0;34m.\u001b[0m\u001b[0mcallbacks\u001b[0m\u001b[0;34m:\u001b[0m\u001b[0;34m\u001b[0m\u001b[0;34m\u001b[0m\u001b[0m\n\u001b[1;32m    355\u001b[0m       \u001b[0mhook\u001b[0m \u001b[0;34m=\u001b[0m \u001b[0mgetattr\u001b[0m\u001b[0;34m(\u001b[0m\u001b[0mcallback\u001b[0m\u001b[0;34m,\u001b[0m \u001b[0mhook_name\u001b[0m\u001b[0;34m)\u001b[0m\u001b[0;34m\u001b[0m\u001b[0;34m\u001b[0m\u001b[0m\n\u001b[0;32m--> 356\u001b[0;31m       \u001b[0mhook\u001b[0m\u001b[0;34m(\u001b[0m\u001b[0mbatch\u001b[0m\u001b[0;34m,\u001b[0m \u001b[0mlogs\u001b[0m\u001b[0;34m)\u001b[0m\u001b[0;34m\u001b[0m\u001b[0;34m\u001b[0m\u001b[0m\n\u001b[0m\u001b[1;32m    357\u001b[0m \u001b[0;34m\u001b[0m\u001b[0m\n\u001b[1;32m    358\u001b[0m     \u001b[0;32mif\u001b[0m \u001b[0mself\u001b[0m\u001b[0;34m.\u001b[0m\u001b[0m_check_timing\u001b[0m\u001b[0;34m:\u001b[0m\u001b[0;34m\u001b[0m\u001b[0;34m\u001b[0m\u001b[0m\n",
            "\u001b[0;32m/usr/local/lib/python3.7/dist-packages/keras/callbacks.py\u001b[0m in \u001b[0;36mon_train_batch_end\u001b[0;34m(self, batch, logs)\u001b[0m\n\u001b[1;32m   1032\u001b[0m \u001b[0;34m\u001b[0m\u001b[0m\n\u001b[1;32m   1033\u001b[0m   \u001b[0;32mdef\u001b[0m \u001b[0mon_train_batch_end\u001b[0m\u001b[0;34m(\u001b[0m\u001b[0mself\u001b[0m\u001b[0;34m,\u001b[0m \u001b[0mbatch\u001b[0m\u001b[0;34m,\u001b[0m \u001b[0mlogs\u001b[0m\u001b[0;34m=\u001b[0m\u001b[0;32mNone\u001b[0m\u001b[0;34m)\u001b[0m\u001b[0;34m:\u001b[0m\u001b[0;34m\u001b[0m\u001b[0;34m\u001b[0m\u001b[0m\n\u001b[0;32m-> 1034\u001b[0;31m     \u001b[0mself\u001b[0m\u001b[0;34m.\u001b[0m\u001b[0m_batch_update_progbar\u001b[0m\u001b[0;34m(\u001b[0m\u001b[0mbatch\u001b[0m\u001b[0;34m,\u001b[0m \u001b[0mlogs\u001b[0m\u001b[0;34m)\u001b[0m\u001b[0;34m\u001b[0m\u001b[0;34m\u001b[0m\u001b[0m\n\u001b[0m\u001b[1;32m   1035\u001b[0m \u001b[0;34m\u001b[0m\u001b[0m\n\u001b[1;32m   1036\u001b[0m   \u001b[0;32mdef\u001b[0m \u001b[0mon_test_batch_end\u001b[0m\u001b[0;34m(\u001b[0m\u001b[0mself\u001b[0m\u001b[0;34m,\u001b[0m \u001b[0mbatch\u001b[0m\u001b[0;34m,\u001b[0m \u001b[0mlogs\u001b[0m\u001b[0;34m=\u001b[0m\u001b[0;32mNone\u001b[0m\u001b[0;34m)\u001b[0m\u001b[0;34m:\u001b[0m\u001b[0;34m\u001b[0m\u001b[0;34m\u001b[0m\u001b[0m\n",
            "\u001b[0;32m/usr/local/lib/python3.7/dist-packages/keras/callbacks.py\u001b[0m in \u001b[0;36m_batch_update_progbar\u001b[0;34m(self, batch, logs)\u001b[0m\n\u001b[1;32m   1104\u001b[0m     \u001b[0;32mif\u001b[0m \u001b[0mself\u001b[0m\u001b[0;34m.\u001b[0m\u001b[0mverbose\u001b[0m \u001b[0;34m==\u001b[0m \u001b[0;36m1\u001b[0m\u001b[0;34m:\u001b[0m\u001b[0;34m\u001b[0m\u001b[0;34m\u001b[0m\u001b[0m\n\u001b[1;32m   1105\u001b[0m       \u001b[0;31m# Only block async when verbose = 1.\u001b[0m\u001b[0;34m\u001b[0m\u001b[0;34m\u001b[0m\u001b[0;34m\u001b[0m\u001b[0m\n\u001b[0;32m-> 1106\u001b[0;31m       \u001b[0mlogs\u001b[0m \u001b[0;34m=\u001b[0m \u001b[0mtf_utils\u001b[0m\u001b[0;34m.\u001b[0m\u001b[0msync_to_numpy_or_python_type\u001b[0m\u001b[0;34m(\u001b[0m\u001b[0mlogs\u001b[0m\u001b[0;34m)\u001b[0m\u001b[0;34m\u001b[0m\u001b[0;34m\u001b[0m\u001b[0m\n\u001b[0m\u001b[1;32m   1107\u001b[0m       \u001b[0mself\u001b[0m\u001b[0;34m.\u001b[0m\u001b[0mprogbar\u001b[0m\u001b[0;34m.\u001b[0m\u001b[0mupdate\u001b[0m\u001b[0;34m(\u001b[0m\u001b[0mself\u001b[0m\u001b[0;34m.\u001b[0m\u001b[0mseen\u001b[0m\u001b[0;34m,\u001b[0m \u001b[0mlist\u001b[0m\u001b[0;34m(\u001b[0m\u001b[0mlogs\u001b[0m\u001b[0;34m.\u001b[0m\u001b[0mitems\u001b[0m\u001b[0;34m(\u001b[0m\u001b[0;34m)\u001b[0m\u001b[0;34m)\u001b[0m\u001b[0;34m,\u001b[0m \u001b[0mfinalize\u001b[0m\u001b[0;34m=\u001b[0m\u001b[0;32mFalse\u001b[0m\u001b[0;34m)\u001b[0m\u001b[0;34m\u001b[0m\u001b[0;34m\u001b[0m\u001b[0m\n\u001b[1;32m   1108\u001b[0m \u001b[0;34m\u001b[0m\u001b[0m\n",
            "\u001b[0;32m/usr/local/lib/python3.7/dist-packages/keras/utils/tf_utils.py\u001b[0m in \u001b[0;36msync_to_numpy_or_python_type\u001b[0;34m(tensors)\u001b[0m\n\u001b[1;32m    605\u001b[0m     \u001b[0;32mreturn\u001b[0m \u001b[0mt\u001b[0m\u001b[0;34m.\u001b[0m\u001b[0mitem\u001b[0m\u001b[0;34m(\u001b[0m\u001b[0;34m)\u001b[0m \u001b[0;32mif\u001b[0m \u001b[0mnp\u001b[0m\u001b[0;34m.\u001b[0m\u001b[0mndim\u001b[0m\u001b[0;34m(\u001b[0m\u001b[0mt\u001b[0m\u001b[0;34m)\u001b[0m \u001b[0;34m==\u001b[0m \u001b[0;36m0\u001b[0m \u001b[0;32melse\u001b[0m \u001b[0mt\u001b[0m\u001b[0;34m\u001b[0m\u001b[0;34m\u001b[0m\u001b[0m\n\u001b[1;32m    606\u001b[0m \u001b[0;34m\u001b[0m\u001b[0m\n\u001b[0;32m--> 607\u001b[0;31m   \u001b[0;32mreturn\u001b[0m \u001b[0mtf\u001b[0m\u001b[0;34m.\u001b[0m\u001b[0mnest\u001b[0m\u001b[0;34m.\u001b[0m\u001b[0mmap_structure\u001b[0m\u001b[0;34m(\u001b[0m\u001b[0m_to_single_numpy_or_python_type\u001b[0m\u001b[0;34m,\u001b[0m \u001b[0mtensors\u001b[0m\u001b[0;34m)\u001b[0m\u001b[0;34m\u001b[0m\u001b[0;34m\u001b[0m\u001b[0m\n\u001b[0m\u001b[1;32m    608\u001b[0m \u001b[0;34m\u001b[0m\u001b[0m\n\u001b[1;32m    609\u001b[0m \u001b[0;34m\u001b[0m\u001b[0m\n",
            "\u001b[0;32m/usr/local/lib/python3.7/dist-packages/tensorflow/python/util/nest.py\u001b[0m in \u001b[0;36mmap_structure\u001b[0;34m(func, *structure, **kwargs)\u001b[0m\n\u001b[1;32m    914\u001b[0m \u001b[0;34m\u001b[0m\u001b[0m\n\u001b[1;32m    915\u001b[0m   return pack_sequence_as(\n\u001b[0;32m--> 916\u001b[0;31m       \u001b[0mstructure\u001b[0m\u001b[0;34m[\u001b[0m\u001b[0;36m0\u001b[0m\u001b[0;34m]\u001b[0m\u001b[0;34m,\u001b[0m \u001b[0;34m[\u001b[0m\u001b[0mfunc\u001b[0m\u001b[0;34m(\u001b[0m\u001b[0;34m*\u001b[0m\u001b[0mx\u001b[0m\u001b[0;34m)\u001b[0m \u001b[0;32mfor\u001b[0m \u001b[0mx\u001b[0m \u001b[0;32min\u001b[0m \u001b[0mentries\u001b[0m\u001b[0;34m]\u001b[0m\u001b[0;34m,\u001b[0m\u001b[0;34m\u001b[0m\u001b[0;34m\u001b[0m\u001b[0m\n\u001b[0m\u001b[1;32m    917\u001b[0m       expand_composites=expand_composites)\n\u001b[1;32m    918\u001b[0m \u001b[0;34m\u001b[0m\u001b[0m\n",
            "\u001b[0;32m/usr/local/lib/python3.7/dist-packages/tensorflow/python/util/nest.py\u001b[0m in \u001b[0;36m<listcomp>\u001b[0;34m(.0)\u001b[0m\n\u001b[1;32m    914\u001b[0m \u001b[0;34m\u001b[0m\u001b[0m\n\u001b[1;32m    915\u001b[0m   return pack_sequence_as(\n\u001b[0;32m--> 916\u001b[0;31m       \u001b[0mstructure\u001b[0m\u001b[0;34m[\u001b[0m\u001b[0;36m0\u001b[0m\u001b[0;34m]\u001b[0m\u001b[0;34m,\u001b[0m \u001b[0;34m[\u001b[0m\u001b[0mfunc\u001b[0m\u001b[0;34m(\u001b[0m\u001b[0;34m*\u001b[0m\u001b[0mx\u001b[0m\u001b[0;34m)\u001b[0m \u001b[0;32mfor\u001b[0m \u001b[0mx\u001b[0m \u001b[0;32min\u001b[0m \u001b[0mentries\u001b[0m\u001b[0;34m]\u001b[0m\u001b[0;34m,\u001b[0m\u001b[0;34m\u001b[0m\u001b[0;34m\u001b[0m\u001b[0m\n\u001b[0m\u001b[1;32m    917\u001b[0m       expand_composites=expand_composites)\n\u001b[1;32m    918\u001b[0m \u001b[0;34m\u001b[0m\u001b[0m\n",
            "\u001b[0;32m/usr/local/lib/python3.7/dist-packages/keras/utils/tf_utils.py\u001b[0m in \u001b[0;36m_to_single_numpy_or_python_type\u001b[0;34m(t)\u001b[0m\n\u001b[1;32m    599\u001b[0m     \u001b[0;31m# Don't turn ragged or sparse tensors to NumPy.\u001b[0m\u001b[0;34m\u001b[0m\u001b[0;34m\u001b[0m\u001b[0;34m\u001b[0m\u001b[0m\n\u001b[1;32m    600\u001b[0m     \u001b[0;32mif\u001b[0m \u001b[0misinstance\u001b[0m\u001b[0;34m(\u001b[0m\u001b[0mt\u001b[0m\u001b[0;34m,\u001b[0m \u001b[0mtf\u001b[0m\u001b[0;34m.\u001b[0m\u001b[0mTensor\u001b[0m\u001b[0;34m)\u001b[0m\u001b[0;34m:\u001b[0m\u001b[0;34m\u001b[0m\u001b[0;34m\u001b[0m\u001b[0m\n\u001b[0;32m--> 601\u001b[0;31m       \u001b[0mt\u001b[0m \u001b[0;34m=\u001b[0m \u001b[0mt\u001b[0m\u001b[0;34m.\u001b[0m\u001b[0mnumpy\u001b[0m\u001b[0;34m(\u001b[0m\u001b[0;34m)\u001b[0m\u001b[0;34m\u001b[0m\u001b[0;34m\u001b[0m\u001b[0m\n\u001b[0m\u001b[1;32m    602\u001b[0m     \u001b[0;31m# Strings, ragged and sparse tensors don't have .item(). Return them as-is.\u001b[0m\u001b[0;34m\u001b[0m\u001b[0;34m\u001b[0m\u001b[0;34m\u001b[0m\u001b[0m\n\u001b[1;32m    603\u001b[0m     \u001b[0;32mif\u001b[0m \u001b[0;32mnot\u001b[0m \u001b[0misinstance\u001b[0m\u001b[0;34m(\u001b[0m\u001b[0mt\u001b[0m\u001b[0;34m,\u001b[0m \u001b[0;34m(\u001b[0m\u001b[0mnp\u001b[0m\u001b[0;34m.\u001b[0m\u001b[0mndarray\u001b[0m\u001b[0;34m,\u001b[0m \u001b[0mnp\u001b[0m\u001b[0;34m.\u001b[0m\u001b[0mgeneric\u001b[0m\u001b[0;34m)\u001b[0m\u001b[0;34m)\u001b[0m\u001b[0;34m:\u001b[0m\u001b[0;34m\u001b[0m\u001b[0;34m\u001b[0m\u001b[0m\n",
            "\u001b[0;32m/usr/local/lib/python3.7/dist-packages/tensorflow/python/framework/ops.py\u001b[0m in \u001b[0;36mnumpy\u001b[0;34m(self)\u001b[0m\n\u001b[1;32m   1157\u001b[0m     \"\"\"\n\u001b[1;32m   1158\u001b[0m     \u001b[0;31m# TODO(slebedev): Consider avoiding a copy for non-CPU or remote tensors.\u001b[0m\u001b[0;34m\u001b[0m\u001b[0;34m\u001b[0m\u001b[0;34m\u001b[0m\u001b[0m\n\u001b[0;32m-> 1159\u001b[0;31m     \u001b[0mmaybe_arr\u001b[0m \u001b[0;34m=\u001b[0m \u001b[0mself\u001b[0m\u001b[0;34m.\u001b[0m\u001b[0m_numpy\u001b[0m\u001b[0;34m(\u001b[0m\u001b[0;34m)\u001b[0m  \u001b[0;31m# pylint: disable=protected-access\u001b[0m\u001b[0;34m\u001b[0m\u001b[0;34m\u001b[0m\u001b[0m\n\u001b[0m\u001b[1;32m   1160\u001b[0m     \u001b[0;32mreturn\u001b[0m \u001b[0mmaybe_arr\u001b[0m\u001b[0;34m.\u001b[0m\u001b[0mcopy\u001b[0m\u001b[0;34m(\u001b[0m\u001b[0;34m)\u001b[0m \u001b[0;32mif\u001b[0m \u001b[0misinstance\u001b[0m\u001b[0;34m(\u001b[0m\u001b[0mmaybe_arr\u001b[0m\u001b[0;34m,\u001b[0m \u001b[0mnp\u001b[0m\u001b[0;34m.\u001b[0m\u001b[0mndarray\u001b[0m\u001b[0;34m)\u001b[0m \u001b[0;32melse\u001b[0m \u001b[0mmaybe_arr\u001b[0m\u001b[0;34m\u001b[0m\u001b[0;34m\u001b[0m\u001b[0m\n\u001b[1;32m   1161\u001b[0m \u001b[0;34m\u001b[0m\u001b[0m\n",
            "\u001b[0;32m/usr/local/lib/python3.7/dist-packages/tensorflow/python/framework/ops.py\u001b[0m in \u001b[0;36m_numpy\u001b[0;34m(self)\u001b[0m\n\u001b[1;32m   1123\u001b[0m   \u001b[0;32mdef\u001b[0m \u001b[0m_numpy\u001b[0m\u001b[0;34m(\u001b[0m\u001b[0mself\u001b[0m\u001b[0;34m)\u001b[0m\u001b[0;34m:\u001b[0m\u001b[0;34m\u001b[0m\u001b[0;34m\u001b[0m\u001b[0m\n\u001b[1;32m   1124\u001b[0m     \u001b[0;32mtry\u001b[0m\u001b[0;34m:\u001b[0m\u001b[0;34m\u001b[0m\u001b[0;34m\u001b[0m\u001b[0m\n\u001b[0;32m-> 1125\u001b[0;31m       \u001b[0;32mreturn\u001b[0m \u001b[0mself\u001b[0m\u001b[0;34m.\u001b[0m\u001b[0m_numpy_internal\u001b[0m\u001b[0;34m(\u001b[0m\u001b[0;34m)\u001b[0m\u001b[0;34m\u001b[0m\u001b[0;34m\u001b[0m\u001b[0m\n\u001b[0m\u001b[1;32m   1126\u001b[0m     \u001b[0;32mexcept\u001b[0m \u001b[0mcore\u001b[0m\u001b[0;34m.\u001b[0m\u001b[0m_NotOkStatusException\u001b[0m \u001b[0;32mas\u001b[0m \u001b[0me\u001b[0m\u001b[0;34m:\u001b[0m  \u001b[0;31m# pylint: disable=protected-access\u001b[0m\u001b[0;34m\u001b[0m\u001b[0;34m\u001b[0m\u001b[0m\n\u001b[1;32m   1127\u001b[0m       \u001b[0;32mraise\u001b[0m \u001b[0mcore\u001b[0m\u001b[0;34m.\u001b[0m\u001b[0m_status_to_exception\u001b[0m\u001b[0;34m(\u001b[0m\u001b[0me\u001b[0m\u001b[0;34m)\u001b[0m \u001b[0;32mfrom\u001b[0m \u001b[0;32mNone\u001b[0m  \u001b[0;31m# pylint: disable=protected-access\u001b[0m\u001b[0;34m\u001b[0m\u001b[0;34m\u001b[0m\u001b[0m\n",
            "\u001b[0;31mKeyboardInterrupt\u001b[0m: "
          ]
        }
      ],
      "source": [
        "with tf.device('/device:GPU:0'):\n",
        "  lr = 1e-06\n",
        "  print(\"For learning Rate = \",lr)\n",
        "  rms = RMSprop(learning_rate = lr,epsilon = 1e-08,momentum = 0.9,rho = 0.9)\n",
        "  model.compile(loss = constructive_loss, optimizer = rms, metrics=['BinaryAccuracy' ])\n",
        "  model.fit(x = [S1_train, S2_train],y = Y_train,\n",
        "                        validation_data = ([S1_validate,S2_validate],Y_validate),\n",
        "                        epochs = 5,batch_size = batch_Size,class_weight = class_weight_dict,shuffle = True\n",
        "                        )"
      ],
      "id": "UoLsq65PSCRF"
    },
    {
      "cell_type": "code",
      "execution_count": null,
      "metadata": {
        "colab": {
          "base_uri": "https://localhost:8080/"
        },
        "id": "JoRktmI5vuwb",
        "outputId": "556d68a6-5e5b-4345-e410-d06b9419bb26"
      },
      "outputs": [
        {
          "name": "stdout",
          "output_type": "stream",
          "text": [
            "For learning Rate =  1e-07\n",
            "Epoch 1/5\n",
            "654/654 [==============================] - 32s 37ms/step - loss: 2.3212 - binary_accuracy: 0.2760 - val_loss: 0.2162 - val_binary_accuracy: 0.7115\n",
            "Epoch 2/5\n",
            "654/654 [==============================] - 23s 34ms/step - loss: 0.4720 - binary_accuracy: 0.3013 - val_loss: 0.2243 - val_binary_accuracy: 0.7135\n",
            "Epoch 3/5\n",
            "654/654 [==============================] - 22s 34ms/step - loss: 0.2376 - binary_accuracy: 0.6079 - val_loss: 0.2404 - val_binary_accuracy: 0.7135\n",
            "Epoch 4/5\n",
            "654/654 [==============================] - 22s 34ms/step - loss: 0.2098 - binary_accuracy: 0.7163 - val_loss: 0.2480 - val_binary_accuracy: 0.7135\n",
            "Epoch 5/5\n",
            "654/654 [==============================] - 22s 34ms/step - loss: 0.2044 - binary_accuracy: 0.7230 - val_loss: 0.2509 - val_binary_accuracy: 0.7135\n"
          ]
        }
      ],
      "source": [
        "with tf.device('/device:GPU:0'):\n",
        "  lr = 1e-07\n",
        "  print(\"For learning Rate = \",lr)\n",
        "  rms = RMSprop(learning_rate = lr,epsilon = 1e-08,momentum = 0.9,rho = 0.9)\n",
        "  model.compile(loss = constructive_loss, optimizer = rms, metrics=['BinaryAccuracy'])\n",
        "  model.fit(x = [S1_train, S2_train],y = Y_train,\n",
        "                        validation_data = ([S1_validate,S2_validate],Y_validate),\n",
        "                        epochs = 5,batch_size = batch_Size,class_weight = class_weight_dict,shuffle = True\n",
        "                        )"
      ],
      "id": "JoRktmI5vuwb"
    },
    {
      "cell_type": "code",
      "execution_count": null,
      "metadata": {
        "colab": {
          "base_uri": "https://localhost:8080/"
        },
        "id": "VNgUo_O6vut7",
        "outputId": "c5c75381-9ce2-4222-da9d-7507fae02f90"
      },
      "outputs": [
        {
          "name": "stdout",
          "output_type": "stream",
          "text": [
            "For learning Rate =  1e-08\n",
            "Epoch 1/5\n",
            "654/654 [==============================] - 29s 42ms/step - loss: 0.1911 - binary_accuracy: 0.7238 - val_loss: 0.2165 - val_binary_accuracy: 0.7320\n",
            "Epoch 2/5\n",
            "654/654 [==============================] - 25s 38ms/step - loss: 0.1907 - binary_accuracy: 0.7241 - val_loss: 0.2162 - val_binary_accuracy: 0.7320\n",
            "Epoch 3/5\n",
            "654/654 [==============================] - 25s 38ms/step - loss: 0.1910 - binary_accuracy: 0.7238 - val_loss: 0.2154 - val_binary_accuracy: 0.7320\n",
            "Epoch 4/5\n",
            "654/654 [==============================] - 25s 38ms/step - loss: 0.1914 - binary_accuracy: 0.7238 - val_loss: 0.2154 - val_binary_accuracy: 0.7320\n",
            "Epoch 5/5\n",
            "654/654 [==============================] - 25s 38ms/step - loss: 0.1908 - binary_accuracy: 0.7241 - val_loss: 0.2160 - val_binary_accuracy: 0.7320\n"
          ]
        }
      ],
      "source": [
        "with tf.device('/device:GPU:0'):\n",
        "  lr = 1e-08\n",
        "  print(\"For learning Rate = \",lr)\n",
        "  rms = RMSprop(learning_rate = lr,epsilon = 1e-08,momentum = 0.9,rho = 0.9)\n",
        "  model.compile(loss = constructive_loss, optimizer = rms, metrics=['BinaryAccuracy'])\n",
        "  model.fit(x = [S1_train, S2_train],y = Y_train,\n",
        "                        validation_data = ([S1_validate,S2_validate],Y_validate),\n",
        "                        epochs = 5,batch_size = batch_Size,class_weight = class_weight_dict,shuffle = True\n",
        "                        )"
      ],
      "id": "VNgUo_O6vut7"
    },
    {
      "cell_type": "markdown",
      "metadata": {
        "id": "pirRIXUxljFs"
      },
      "source": [
        "## **FINAL TRAINING**"
      ],
      "id": "pirRIXUxljFs"
    },
    {
      "cell_type": "markdown",
      "metadata": {
        "id": "jvzpkyM42N4_"
      },
      "source": [
        "***BEST LEARNING RATE IS 1e-04***"
      ],
      "id": "jvzpkyM42N4_"
    },
    {
      "cell_type": "code",
      "source": [
        "folder = '/content/drive/MyDrive/ResNet(1e-04)Hindi220x155Inversed'"
      ],
      "metadata": {
        "id": "eomxAw7D49hP"
      },
      "id": "eomxAw7D49hP",
      "execution_count": null,
      "outputs": []
    },
    {
      "cell_type": "code",
      "execution_count": null,
      "metadata": {
        "id": "T28jtLqt5EXp"
      },
      "outputs": [],
      "source": [
        "Batch_size = 32\n",
        "lr = 1e-04\n",
        "Epochs = 30"
      ],
      "id": "T28jtLqt5EXp"
    },
    {
      "cell_type": "code",
      "execution_count": null,
      "metadata": {
        "id": "dYMlATIKvbQ2"
      },
      "outputs": [],
      "source": [
        "with tf.device('/device:GPU:0'):\n",
        "    rms = RMSprop(learning_rate = lr,epsilon = 1e-08,momentum = 0.9,rho = 0.9)\n",
        "    model.compile(loss = constructive_loss, optimizer = rms, metrics=['BinaryAccuracy'])"
      ],
      "id": "dYMlATIKvbQ2"
    },
    {
      "cell_type": "code",
      "execution_count": null,
      "metadata": {
        "id": "dZ21xNctE9f7"
      },
      "outputs": [],
      "source": [
        "callbacks = [\n",
        "    EarlyStopping(patience=6, verbose=1),\n",
        "    ReduceLROnPlateau(factor=0.1, patience=5, min_lr=0.000001, verbose=1),\n",
        "    ModelCheckpoint(folder + '/Weights/resnet-bhsig260-{epoch:03d}.h5', verbose=1, save_weights_only=True)\n",
        "]"
      ],
      "id": "dZ21xNctE9f7"
    },
    {
      "cell_type": "code",
      "execution_count": null,
      "metadata": {
        "id": "e9e29ce6-cbb6-4847-a314-c7fc491f2986",
        "colab": {
          "base_uri": "https://localhost:8080/"
        },
        "outputId": "4640ddae-563e-4347-a2d8-ebd449c54bdd"
      },
      "outputs": [
        {
          "output_type": "stream",
          "name": "stdout",
          "text": [
            "Epoch 1/30\n",
            "654/654 [==============================] - ETA: 0s - loss: 0.2256 - binary_accuracy: 0.7226\n",
            "Epoch 1: saving model to /content/drive/MyDrive/ResNet(1e-04)Hindi220x155Inversed/Weights/resnet-bhsig260-001.h5\n",
            "654/654 [==============================] - 334s 484ms/step - loss: 0.2256 - binary_accuracy: 0.7226 - val_loss: 0.2081 - val_binary_accuracy: 0.7216 - lr: 1.0000e-04\n",
            "Epoch 2/30\n",
            "654/654 [==============================] - ETA: 0s - loss: 0.2051 - binary_accuracy: 0.7237\n",
            "Epoch 2: saving model to /content/drive/MyDrive/ResNet(1e-04)Hindi220x155Inversed/Weights/resnet-bhsig260-002.h5\n",
            "654/654 [==============================] - 329s 503ms/step - loss: 0.2051 - binary_accuracy: 0.7237 - val_loss: 0.2014 - val_binary_accuracy: 0.7216 - lr: 1.0000e-04\n",
            "Epoch 3/30\n",
            "654/654 [==============================] - ETA: 0s - loss: 0.2029 - binary_accuracy: 0.7237\n",
            "Epoch 3: saving model to /content/drive/MyDrive/ResNet(1e-04)Hindi220x155Inversed/Weights/resnet-bhsig260-003.h5\n",
            "654/654 [==============================] - 329s 503ms/step - loss: 0.2029 - binary_accuracy: 0.7237 - val_loss: 0.2009 - val_binary_accuracy: 0.7216 - lr: 1.0000e-04\n",
            "Epoch 4/30\n",
            "654/654 [==============================] - ETA: 0s - loss: 0.2028 - binary_accuracy: 0.7237\n",
            "Epoch 4: saving model to /content/drive/MyDrive/ResNet(1e-04)Hindi220x155Inversed/Weights/resnet-bhsig260-004.h5\n",
            "654/654 [==============================] - 309s 472ms/step - loss: 0.2028 - binary_accuracy: 0.7237 - val_loss: 0.2009 - val_binary_accuracy: 0.7216 - lr: 1.0000e-04\n",
            "Epoch 5/30\n",
            "654/654 [==============================] - ETA: 0s - loss: 0.2028 - binary_accuracy: 0.7237\n",
            "Epoch 5: saving model to /content/drive/MyDrive/ResNet(1e-04)Hindi220x155Inversed/Weights/resnet-bhsig260-005.h5\n",
            "654/654 [==============================] - 309s 473ms/step - loss: 0.2028 - binary_accuracy: 0.7237 - val_loss: 0.2009 - val_binary_accuracy: 0.7216 - lr: 1.0000e-04\n",
            "Epoch 6/30\n",
            "654/654 [==============================] - ETA: 0s - loss: 0.2029 - binary_accuracy: 0.7237\n",
            "Epoch 6: saving model to /content/drive/MyDrive/ResNet(1e-04)Hindi220x155Inversed/Weights/resnet-bhsig260-006.h5\n",
            "654/654 [==============================] - 310s 473ms/step - loss: 0.2029 - binary_accuracy: 0.7237 - val_loss: 0.2009 - val_binary_accuracy: 0.7216 - lr: 1.0000e-04\n",
            "Epoch 7/30\n",
            "654/654 [==============================] - ETA: 0s - loss: 0.2030 - binary_accuracy: 0.7237\n",
            "Epoch 7: saving model to /content/drive/MyDrive/ResNet(1e-04)Hindi220x155Inversed/Weights/resnet-bhsig260-007.h5\n",
            "654/654 [==============================] - 309s 472ms/step - loss: 0.2030 - binary_accuracy: 0.7237 - val_loss: 0.2009 - val_binary_accuracy: 0.7216 - lr: 1.0000e-04\n",
            "Epoch 8/30\n",
            "654/654 [==============================] - ETA: 0s - loss: 0.2029 - binary_accuracy: 0.7237\n",
            "Epoch 8: ReduceLROnPlateau reducing learning rate to 9.999999747378752e-06.\n",
            "\n",
            "Epoch 8: saving model to /content/drive/MyDrive/ResNet(1e-04)Hindi220x155Inversed/Weights/resnet-bhsig260-008.h5\n",
            "654/654 [==============================] - 309s 472ms/step - loss: 0.2029 - binary_accuracy: 0.7237 - val_loss: 0.2009 - val_binary_accuracy: 0.7216 - lr: 1.0000e-04\n",
            "Epoch 9/30\n",
            "654/654 [==============================] - ETA: 0s - loss: 0.2030 - binary_accuracy: 0.7237\n",
            "Epoch 9: saving model to /content/drive/MyDrive/ResNet(1e-04)Hindi220x155Inversed/Weights/resnet-bhsig260-009.h5\n",
            "654/654 [==============================] - 309s 472ms/step - loss: 0.2030 - binary_accuracy: 0.7237 - val_loss: 0.2009 - val_binary_accuracy: 0.7216 - lr: 1.0000e-05\n",
            "Epoch 10/30\n",
            "654/654 [==============================] - ETA: 0s - loss: 0.2028 - binary_accuracy: 0.7237\n",
            "Epoch 10: saving model to /content/drive/MyDrive/ResNet(1e-04)Hindi220x155Inversed/Weights/resnet-bhsig260-010.h5\n",
            "654/654 [==============================] - 306s 468ms/step - loss: 0.2028 - binary_accuracy: 0.7237 - val_loss: 0.2009 - val_binary_accuracy: 0.7216 - lr: 1.0000e-05\n",
            "Epoch 11/30\n",
            "654/654 [==============================] - ETA: 0s - loss: 0.2031 - binary_accuracy: 0.7237\n",
            "Epoch 11: saving model to /content/drive/MyDrive/ResNet(1e-04)Hindi220x155Inversed/Weights/resnet-bhsig260-011.h5\n",
            "654/654 [==============================] - 306s 468ms/step - loss: 0.2031 - binary_accuracy: 0.7237 - val_loss: 0.2009 - val_binary_accuracy: 0.7216 - lr: 1.0000e-05\n",
            "Epoch 11: early stopping\n"
          ]
        }
      ],
      "source": [
        "results = model.fit(x = [S1_train, S2_train],y = Y_train,\n",
        "                  validation_data = ([S1_validate,S2_validate],Y_validate),\n",
        "                  epochs = Epochs,\n",
        "                  callbacks = callbacks,\n",
        "                  batch_size = Batch_size,\n",
        "                  class_weight = class_weight_dict\n",
        "                  )"
      ],
      "id": "e9e29ce6-cbb6-4847-a314-c7fc491f2986"
    },
    {
      "cell_type": "code",
      "source": [
        "# Y_train.shape"
      ],
      "metadata": {
        "id": "7wAb6Iu71uBK"
      },
      "id": "7wAb6Iu71uBK",
      "execution_count": null,
      "outputs": []
    },
    {
      "cell_type": "code",
      "execution_count": null,
      "metadata": {
        "id": "7ydDKiCLlSUX"
      },
      "outputs": [],
      "source": [
        "import pickle"
      ],
      "id": "7ydDKiCLlSUX"
    },
    {
      "cell_type": "code",
      "source": [
        "with open(folder  + '/trainHistoryDict', 'wb') as file_pi:\n",
        "       pickle.dump(results, file_pi)\n",
        "# model.save(folder + 'BestModel.h5')"
      ],
      "metadata": {
        "id": "gOoJiBus5vvX",
        "colab": {
          "base_uri": "https://localhost:8080/",
          "height": 201
        },
        "outputId": "e99c3a5b-d435-4bd1-99dc-05b28daf47e5"
      },
      "id": "gOoJiBus5vvX",
      "execution_count": null,
      "outputs": [
        {
          "output_type": "error",
          "ename": "NameError",
          "evalue": "ignored",
          "traceback": [
            "\u001b[0;31m---------------------------------------------------------------------------\u001b[0m",
            "\u001b[0;31mNameError\u001b[0m                                 Traceback (most recent call last)",
            "\u001b[0;32m<ipython-input-30-1b37eae3722b>\u001b[0m in \u001b[0;36m<module>\u001b[0;34m\u001b[0m\n\u001b[1;32m      1\u001b[0m \u001b[0;32mwith\u001b[0m \u001b[0mopen\u001b[0m\u001b[0;34m(\u001b[0m\u001b[0mfolder\u001b[0m  \u001b[0;34m+\u001b[0m \u001b[0;34m'/trainHistoryDict'\u001b[0m\u001b[0;34m,\u001b[0m \u001b[0;34m'wb'\u001b[0m\u001b[0;34m)\u001b[0m \u001b[0;32mas\u001b[0m \u001b[0mfile_pi\u001b[0m\u001b[0;34m:\u001b[0m\u001b[0;34m\u001b[0m\u001b[0;34m\u001b[0m\u001b[0m\n\u001b[0;32m----> 2\u001b[0;31m        \u001b[0mpickle\u001b[0m\u001b[0;34m.\u001b[0m\u001b[0mdump\u001b[0m\u001b[0;34m(\u001b[0m\u001b[0mresults\u001b[0m\u001b[0;34m,\u001b[0m \u001b[0mfile_pi\u001b[0m\u001b[0;34m)\u001b[0m\u001b[0;34m\u001b[0m\u001b[0;34m\u001b[0m\u001b[0m\n\u001b[0m\u001b[1;32m      3\u001b[0m \u001b[0;31m# model.save(folder + 'BestModel.h5')\u001b[0m\u001b[0;34m\u001b[0m\u001b[0;34m\u001b[0m\u001b[0;34m\u001b[0m\u001b[0m\n",
            "\u001b[0;31mNameError\u001b[0m: name 'results' is not defined"
          ]
        }
      ]
    },
    {
      "cell_type": "code",
      "execution_count": null,
      "metadata": {
        "id": "bzk3zUTdWycl"
      },
      "outputs": [],
      "source": [
        "# import pickle\n",
        "# history = pickle.load(open(folder + '/trainHistoryDict', \"rb\"))"
      ],
      "id": "bzk3zUTdWycl"
    },
    {
      "cell_type": "code",
      "execution_count": null,
      "metadata": {
        "id": "NmsAXq-kWyff"
      },
      "outputs": [],
      "source": [
        "results.history['val_loss'].index(min(results.history['val_loss'])) + 1"
      ],
      "id": "NmsAXq-kWyff"
    },
    {
      "cell_type": "code",
      "execution_count": null,
      "metadata": {
        "id": "YkYDC_C-Wyop",
        "colab": {
          "base_uri": "https://localhost:8080/",
          "height": 755
        },
        "outputId": "575250d7-772b-4999-a343-e45a141ed477"
      },
      "outputs": [
        {
          "output_type": "display_data",
          "data": {
            "text/plain": [
              "<Figure size 720x720 with 2 Axes>"
            ],
            "image/png": "[encoded data removed]"
          },
          "metadata": {
            "needs_background": "light"
          }
        }
      ],
      "source": [
        "def display_training_curves(training, validation, title, subplot):\n",
        "  ax = plt.subplot(subplot)\n",
        "  ax.plot(training)\n",
        "  ax.plot(validation)\n",
        "  ax.set_title('model '+ title)\n",
        "  ax.set_ylabel(title)\n",
        "  ax.set_xlabel('epoch')\n",
        "  ax.legend(['training', 'validation'])\n",
        "\n",
        "plt.subplots(figsize=(10,10))\n",
        "plt.tight_layout()\n",
        "display_training_curves(results.history['binary_accuracy'], results.history['val_binary_accuracy'], 'accuracy', 211)\n",
        "display_training_curves(results.history['loss'], results.history['val_loss'], 'loss', 212)\n",
        "plt.savefig(folder + \"loss_accuracy.svg\",dpi = 1200)"
      ],
      "id": "YkYDC_C-Wyop"
    },
    {
      "cell_type": "code",
      "source": [
        "y_pred_keras"
      ],
      "metadata": {
        "colab": {
          "base_uri": "https://localhost:8080/"
        },
        "id": "oxlH21z11iIz",
        "outputId": "2a7fddba-8a43-4a5d-84e7-fbfb8c81efeb"
      },
      "id": "oxlH21z11iIz",
      "execution_count": null,
      "outputs": [
        {
          "output_type": "execute_result",
          "data": {
            "text/plain": [
              "<tf.Tensor: shape=(4482,), dtype=int64, numpy=array([0, 0, 0, ..., 0, 0, 0])>"
            ]
          },
          "metadata": {},
          "execution_count": 34
        }
      ]
    },
    {
      "cell_type": "code",
      "source": [
        "from sklearn.metrics import auc\n",
        "from sklearn.metrics import roc_curve\n",
        "y_pred_keras = model.predict([S1_test, S2_test])\n",
        "fpr_keras, tpr_keras, thresholds_keras = roc_curve(Y_test, y_pred_keras)\n",
        "auc_keras = auc(fpr_keras, tpr_keras)\n",
        "plt.figure(1)\n",
        "plt.plot([0, 1], [0, 1], 'k--')\n",
        "plt.plot(fpr_keras, tpr_keras, label='Keras (area = {:.3f})'.format(auc_keras))\n",
        "# plt.plot(fpr_rf, tpr_rf, label='RF (area = {:.3f})'.format(auc_rf))\n",
        "plt.xlabel('False positive rate')\n",
        "plt.ylabel('True positive rate')\n",
        "plt.title('ROC curve')\n",
        "plt.legend(loc='best')\n",
        "plt.savefig(folder + \"roc.svg\",dpi = 1200)\n",
        "plt.show()"
      ],
      "metadata": {
        "id": "wrJjsNQQ6D57",
        "colab": {
          "base_uri": "https://localhost:8080/",
          "height": 312
        },
        "outputId": "c0f075eb-3bfc-4572-f09d-646c91afc1b7"
      },
      "id": "wrJjsNQQ6D57",
      "execution_count": null,
      "outputs": [
        {
          "output_type": "stream",
          "name": "stdout",
          "text": [
            "141/141 [==============================] - 30s 211ms/step\n"
          ]
        },
        {
          "output_type": "display_data",
          "data": {
            "text/plain": [
              "<Figure size 432x288 with 1 Axes>"
            ],
            "image/png": "[encoded data removed]"
          },
          "metadata": {
            "needs_background": "light"
          }
        }
      ]
    },
    {
      "cell_type": "code",
      "execution_count": null,
      "metadata": {
        "id": "e9R6UtbaeFhA",
        "colab": {
          "base_uri": "https://localhost:8080/",
          "height": 279
        },
        "outputId": "fdb2885c-bf66-4e44-ea7f-cb5e4b6a0556"
      },
      "outputs": [
        {
          "output_type": "display_data",
          "data": {
            "text/plain": [
              "<Figure size 432x288 with 2 Axes>"
            ],
            "image/png": "[encoded data removed]"
          },
          "metadata": {
            "needs_background": "light"
          }
        }
      ],
      "source": [
        "ConfusionMatrixDisplay(confusion_matrix(Y_test, tf.argmax(y_pred_keras,axis = 1))).plot()\n",
        "plt.savefig(folder + \"confusionmatrix.svg\",dpi = 1200)\n",
        "plt.show()"
      ],
      "id": "e9R6UtbaeFhA"
    },
    {
      "cell_type": "code",
      "source": [
        "y_pred_keras"
      ],
      "metadata": {
        "colab": {
          "base_uri": "https://localhost:8080/"
        },
        "id": "Q78i9snK2RWR",
        "outputId": "2e36912a-cdea-42d1-d1f7-f7bdc56eed50"
      },
      "id": "Q78i9snK2RWR",
      "execution_count": null,
      "outputs": [
        {
          "output_type": "execute_result",
          "data": {
            "text/plain": [
              "array([[0.00031623],\n",
              "       [0.00031623],\n",
              "       [0.00031623],\n",
              "       ...,\n",
              "       [0.00031623],\n",
              "       [0.00031623],\n",
              "       [0.00031623]], dtype=float32)"
            ]
          },
          "metadata": {},
          "execution_count": 39
        }
      ]
    },
    {
      "cell_type": "code",
      "source": [],
      "metadata": {
        "id": "qA6v7WPH6n8W"
      },
      "id": "qA6v7WPH6n8W",
      "execution_count": null,
      "outputs": []
    }
  ],
  "metadata": {
    "colab": {
      "collapsed_sections": [
        "NAakN0dc9OZc",
        "LV0fT5k09fKt"
      ],
      "provenance": []
    },
    "gpuClass": "standard",
    "kernelspec": {
      "display_name": "Python 3 (ipykernel)",
      "language": "python",
      "name": "python3"
    },
    "language_info": {
      "codemirror_mode": {
        "name": "ipython",
        "version": 3
      },
      "file_extension": ".py",
      "mimetype": "text/x-python",
      "name": "python",
      "nbconvert_exporter": "python",
      "pygments_lexer": "ipython3",
      "version": "3.9.7"
    }
  },
  "nbformat": 4,
  "nbformat_minor": 5
}